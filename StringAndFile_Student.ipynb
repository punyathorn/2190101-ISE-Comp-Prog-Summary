{
  "nbformat": 4,
  "nbformat_minor": 5,
  "metadata": {
    "kernelspec": {
      "display_name": "Python 3 (ipykernel)",
      "language": "python",
      "name": "python3"
    },
    "language_info": {
      "codemirror_mode": {
        "name": "ipython",
        "version": 3
      },
      "file_extension": ".py",
      "mimetype": "text/x-python",
      "name": "python",
      "nbconvert_exporter": "python",
      "pygments_lexer": "ipython3",
      "version": "3.9.6"
    },
    "colab": {
      "provenance": []
    }
  },
  "cells": [
    {
      "cell_type": "markdown",
      "metadata": {
        "id": "d8ef81cd"
      },
      "source": [
        "<B>String Revision"
      ],
      "id": "d8ef81cd"
    },
    {
      "cell_type": "code",
      "metadata": {
        "id": "baed18ca",
        "colab": {
          "base_uri": "https://localhost:8080/"
        },
        "outputId": "b4993e9e-b1f2-44e1-b13b-1a562860e2d6"
      },
      "source": [
        "s = \"I'm a string\"\n",
        "t = 'I said \"This is a string\".'\n",
        "chars = input() #key input are strings\n",
        "c = 0\n",
        "\n",
        "print(len(chars))\n",
        "for ch in chars: #for each ch in chars\n",
        "    if ch in s:\n",
        "        c += 1\n",
        "print(\"first c\", c)\n",
        "\n",
        "for i in range(len(t)): #for each char in t\n",
        "    if t[i] in s:\n",
        "        c += 1\n",
        "\n",
        "print(\"second c\", c)"
      ],
      "id": "baed18ca",
      "execution_count": null,
      "outputs": [
        {
          "output_type": "stream",
          "name": "stdout",
          "text": [
            "I am Sirin.\n",
            "11\n",
            "first c 9\n",
            "second c 29\n"
          ]
        }
      ]
    },
    {
      "cell_type": "code",
      "metadata": {
        "id": "c7fd7c38",
        "colab": {
          "base_uri": "https://localhost:8080/"
        },
        "outputId": "2038a230-5aa5-481d-fb2b-6caba15f32a8"
      },
      "source": [
        "r = \"\"\n",
        "for k in range(2,10,2):\n",
        "    r += str(k)    # 2468 string concat\n",
        "r = 2*r            # 24682468 repetition\n",
        "print(r)"
      ],
      "id": "c7fd7c38",
      "execution_count": null,
      "outputs": [
        {
          "output_type": "stream",
          "name": "stdout",
          "text": [
            "24682468\n"
          ]
        }
      ]
    },
    {
      "cell_type": "markdown",
      "metadata": {
        "id": "25bd7c6c"
      },
      "source": [
        "<B>=======================================</B>"
      ],
      "id": "25bd7c6c"
    },
    {
      "cell_type": "markdown",
      "metadata": {
        "id": "49803eff"
      },
      "source": [
        "Revision Exercise: Write a program to transform any word (lower case) to its plural form.\n",
        "\n",
        "The rule (this is just a simplified rule) is :\n",
        "- If the word ends with \"s\", \"x\", or \"ch\" then add \"es\".\n",
        "- If the word ends with \"y\", but the character before \"y\" is not a vowel, then change \"y\" to \"ies\".\n",
        "- Otherwise, add \"s\" to the back of the word.\n",
        "\n",
        "\n",
        "\n"
      ],
      "id": "49803eff"
    },
    {
      "cell_type": "code",
      "metadata": {
        "id": "9b932f26"
      },
      "source": [
        "#Write your code here\n",
        "def transform_to_plural(s):\n",
        "  new_s = ''\n",
        "  if s[-1] == 's' or s[-1] == 'x' or s[-2:] == 'ch':\n",
        "      new_s = s + 'es'\n",
        "  elif s[-1] == 'y':\n",
        "      new_s = s[:len(s)-1] + 'ies'\n",
        "  else:\n",
        "      new_s = s + 's'\n",
        "  return new_s\n",
        "\n",
        "print(transform_to_plural('toss'))\n",
        "print(transform_to_plural('ox'))\n",
        "print(transform_to_plural('beach'))\n",
        "print(transform_to_plural('poppy'))\n",
        "print(transform_to_plural('hello'))"
      ],
      "id": "9b932f26",
      "execution_count": null,
      "outputs": []
    },
    {
      "cell_type": "markdown",
      "metadata": {
        "id": "fd9968b1"
      },
      "source": [
        "<B>================================================</B>"
      ],
      "id": "fd9968b1"
    },
    {
      "cell_type": "markdown",
      "metadata": {
        "id": "d1976b61"
      },
      "source": [
        "Example 1:\n",
        "\n",
        "Read N names (each name <= 10 characters), separated by \", \" and display 3 names on each line. Each name must be displayed using 12 characters (add space when appropriate).\n",
        "\n",
        "For example:\n",
        "\n",
        "Bucciarati, Gioruno, Abbacchio, Arancia, Pannacotta, Mista, Resotto, Doppio will result in\n",
        "\n",
        "\n"
      ],
      "id": "d1976b61"
    },
    {
      "cell_type": "code",
      "metadata": {
        "id": "9d244610",
        "colab": {
          "base_uri": "https://localhost:8080/"
        },
        "outputId": "1b226eac-0f54-4bcd-f8b8-2027db3c6d35"
      },
      "source": [
        "x = input().split(\", \")\n",
        "print(x)\n",
        "for i in range(len(x)) :\n",
        "    x[i] = x[i] + \" \"*(12-len(x[i]))\n",
        "print(x)\n",
        "\n",
        "for i in range(0,len(x),3) :\n",
        "    print(\"\".join(x[i:i+3]))\n",
        "\n",
        "\n",
        "\n"
      ],
      "id": "9d244610",
      "execution_count": null,
      "outputs": [
        {
          "output_type": "stream",
          "name": "stdout",
          "text": [
            "Sirin, Apple, Arthur, Fourguys, Koranop, Pawarisa, Sam\n",
            "['Sirin', 'Apple', 'Arthur', 'Fourguys', 'Koranop', 'Pawarisa', 'Sam']\n",
            "['Sirin       ', 'Apple       ', 'Arthur      ', 'Fourguys    ', 'Koranop     ', 'Pawarisa    ', 'Sam         ']\n",
            "Sirin       Apple       Arthur      \n",
            "Fourguys    Koranop     Pawarisa    \n",
            "Sam         \n"
          ]
        }
      ]
    },
    {
      "cell_type": "markdown",
      "metadata": {
        "id": "7073dfbc"
      },
      "source": [
        "======================================="
      ],
      "id": "7073dfbc"
    },
    {
      "cell_type": "markdown",
      "metadata": {
        "id": "9eb9fd71"
      },
      "source": [
        "Example 2: Air Quality Report!!\n",
        "\n",
        "http://air4thai.pcd.go.th/services/getNewAQI_XML.php?stationID=52t stores an XML file with air quality information of a site. The file is updated regularly.\n",
        "\n",
        "![image-3.png](attachment:image-3.png)\n",
        "\n"
      ],
      "id": "9eb9fd71"
    },
    {
      "cell_type": "code",
      "metadata": {
        "id": "c57e118c",
        "colab": {
          "base_uri": "https://localhost:8080/"
        },
        "outputId": "fea361ad-4059-4d12-9772-f082c7edc5c8"
      },
      "source": [
        "import urllib.request\n",
        "\n",
        "def find(s, start, c):\n",
        "    for i in range(start, len(s)):\n",
        "        if s[i] == c: return i\n",
        "    return -1\n",
        "\n",
        "url = \"http://air4thai.pcd.go.th/services/getNewAQI_XML.php?stationID=60t\"\n",
        "web = urllib.request.urlopen(url)\n",
        "#print(web)\n",
        "for line in web:\n",
        "    line = line.decode()\n",
        "    #print(line)\n",
        "    if \"<PM25 value=\" in line:\n",
        "        i = find(line, 0, '\"')\n",
        "        print(i)\n",
        "        j = find(line,i+1 , '\"')\n",
        "        print(j)\n",
        "        print(\"PM 2.5 =\", line[i+1:j])\n",
        "        break\n"
      ],
      "id": "c57e118c",
      "execution_count": null,
      "outputs": [
        {
          "output_type": "stream",
          "name": "stdout",
          "text": [
            "13\n",
            "18\n",
            "PM 2.5 = 15.9\n"
          ]
        }
      ]
    },
    {
      "cell_type": "markdown",
      "metadata": {
        "id": "9358513d"
      },
      "source": [
        "======================================\n",
        "\n",
        "<B>Exercise 7-1<B>\n",
        "\n",
        "Question 1:\n",
        "Write a function is_palindrome(s)to check whether string s is a palindrome. A palindrome is a string where you get the same sequence of character from left to right and right to left.\n",
        "\n",
        "For example:\n",
        "\n",
        "ABBA and 12-343-21 are palindromes."
      ],
      "id": "9358513d"
    },
    {
      "cell_type": "code",
      "metadata": {
        "id": "4319f496"
      },
      "source": [
        "#Write your code here!\n",
        "\n",
        "def is_palindrome(s):\n",
        "  #print(\"s \", s)\n",
        "  #print(\"s[::-1]\")\n",
        "  if s == s[::-1]:\n",
        "    return True\n",
        "  return False\n",
        "\n",
        "print(is_palindrome(\"noon\"))"
      ],
      "id": "4319f496",
      "execution_count": null,
      "outputs": []
    },
    {
      "cell_type": "markdown",
      "metadata": {
        "id": "0ab13fb5"
      },
      "source": [
        "`Question 2:\n",
        "\n",
        "Write function ngrams(s,n). This function returns a list of all possible character sequence of length n (n is always >=1) from the string s.\n",
        "\n",
        "For example, \"ABCDEF\" -> [\"ABC\",\"BCD\",\"CDE\",\"DEF\"]\n"
      ],
      "id": "0ab13fb5"
    },
    {
      "cell_type": "code",
      "metadata": {
        "id": "a2726145"
      },
      "source": [
        "#Write your code here!\n",
        "def ngrams(s,n):\n",
        "  arr = []\n",
        "  for i in range(len(s)):\n",
        "    arr.append(s[i:n+i])\n",
        "    if len(s)-i <= n: break\n",
        "  return arr\n",
        "\n",
        "out = ngrams(\"ABCDEF\", 3)\n",
        "print(out)\n",
        "\n",
        "\n",
        "print('[\\\"' + '\\\", \\\"'.join(out) + '\\\"]')\n",
        "\n"
      ],
      "id": "a2726145",
      "execution_count": null,
      "outputs": []
    },
    {
      "cell_type": "markdown",
      "metadata": {
        "id": "78f7d9e8"
      },
      "source": [
        "Question 3:\n",
        "\n",
        "Write function strip_all(s,c). This function return string s, with all characters in string c removed.\n",
        "\n",
        "For example:\n",
        "\n",
        "strip_all(\"I-dont-know-how-to-code-this\", \"-\") will return \"Idontknowhowtocodethis\"\n",
        "\n",
        "strip_all(\"I-dont-know-how-to-code-this\", \"-o\") will return \"Idntknwhwtcdethis\""
      ],
      "id": "78f7d9e8"
    },
    {
      "cell_type": "code",
      "metadata": {
        "id": "e19db2d5"
      },
      "source": [
        "#Write your code here\n",
        "\n",
        "def strip_all(s, chs):\n",
        "  new_s = ''\n",
        "  for c1 in s:\n",
        "    if c1 not in chs:\n",
        "      new_s += c1\n",
        "  return new_s\n",
        "\n",
        "print(strip_all(\"I-dont-know-how-to-code-this\", \"-\"))\n",
        "print(strip_all(\"I-dont-know-how-to-code-this\", \"-o\"))"
      ],
      "id": "e19db2d5",
      "execution_count": null,
      "outputs": []
    },
    {
      "cell_type": "markdown",
      "metadata": {
        "id": "7f2c18e4"
      },
      "source": [
        "Question 4:\n",
        "\n",
        "Write function zero_pad(n,d), where n and d are integers. This function returns a string containing numbers in n but it adds zero to the left so that the resulting string's length is d. If n is already of length d or greater, then this funtion just returns n.\n",
        "\n",
        "For example:\n",
        "\n",
        "zero_pad(123, 5) will return \"00123\"\n",
        "\n",
        "zero_pad(123, 2) will return \"123\""
      ],
      "id": "7f2c18e4"
    },
    {
      "cell_type": "code",
      "metadata": {
        "id": "db79052c"
      },
      "source": [
        "# Write your code here\n",
        "\n",
        "def zero_pad(n, d):\n",
        "    dlen = max(len(str(n)), d)\n",
        "    result = '0'*d + str(n)\n",
        "    print(result)\n",
        "    print(\"result\", result)\n",
        "    return result[-dlen:]\n",
        "\n",
        "print(zero_pad(123, 5))\n",
        "print(zero_pad(123, 2))\n",
        "\n",
        "\n"
      ],
      "id": "db79052c",
      "execution_count": null,
      "outputs": []
    },
    {
      "cell_type": "code",
      "metadata": {
        "id": "c_O6JCe_bSaq"
      },
      "source": [
        "'0'*-3"
      ],
      "id": "c_O6JCe_bSaq",
      "execution_count": null,
      "outputs": []
    },
    {
      "cell_type": "markdown",
      "metadata": {
        "id": "3dee3546"
      },
      "source": [
        "Question 5:\n",
        "\n",
        "Write function thousands_separator(n). This function receives integer n. It returns a string that is like n but add commas, for example:\n",
        "\n",
        "thousands_separator(1234567) will return \"1,234,567\"\n"
      ],
      "id": "3dee3546"
    },
    {
      "cell_type": "code",
      "metadata": {
        "id": "b5622470"
      },
      "source": [
        "#Write your code here\n",
        "def thousands_separator(n):\n",
        "  s = str(n)\n",
        "  new_s = s[::-1]\n",
        "\n",
        "  return new_s\n",
        "\n",
        "print(thousands_separator(1234567))"
      ],
      "id": "b5622470",
      "execution_count": null,
      "outputs": []
    },
    {
      "cell_type": "markdown",
      "metadata": {
        "id": "5d01e49c"
      },
      "source": [
        "========================================\n"
      ],
      "id": "5d01e49c"
    },
    {
      "cell_type": "markdown",
      "metadata": {
        "id": "cbc7b254"
      },
      "source": [
        "<B>Escape Characters</B>\n",
        "\n",
        "S = “   “  cannot have “ inside\n",
        "\n",
        "S = ‘   ‘   cannot have ‘ inside"
      ],
      "id": "cbc7b254"
    },
    {
      "cell_type": "code",
      "metadata": {
        "id": "fb29d65b"
      },
      "source": [
        "s = \" \\\" \"   # will cause error\n",
        "s = ' \"sddd\" '  # will cause error\n",
        "s = \" ' \"  # will cause error\n",
        "s = \" 'sddd' \" #this is ok"
      ],
      "id": "fb29d65b",
      "execution_count": null,
      "outputs": []
    },
    {
      "cell_type": "code",
      "metadata": {
        "id": "9ad215f1",
        "colab": {
          "base_uri": "https://localhost:8080/"
        },
        "outputId": "b346b02b-f083-47a1-fa34-550771680d9f"
      },
      "source": [
        "s = \"Hello\"\n",
        "print(s)              # Hello\n",
        "\n",
        "s = \"\\\"Hello\\\"\"\n",
        "print(s)              # \"Hello\"\n",
        "\n",
        "s = \"\\'Hello\\'\"\n",
        "print(s)              # 'Hello'\n",
        "\n",
        "s = \"\\\"\\'\\\\Hello\\\\\"\n",
        "print(s)              # \"'\\Hello\\\n",
        "\n",
        "s = \"Hello\\nPython\"   # Hello\n",
        "                      # Python\n",
        "print(s)"
      ],
      "id": "9ad215f1",
      "execution_count": null,
      "outputs": [
        {
          "output_type": "stream",
          "name": "stdout",
          "text": [
            "Hello\n",
            "\"Hello\"\n",
            "'Hello'\n",
            "\"'\\Hello\\\n",
            "Hello\n",
            "Python\n"
          ]
        }
      ]
    },
    {
      "cell_type": "code",
      "metadata": {
        "id": "c735b173"
      },
      "source": [
        "print(\"A\\n\\n\\nBCD\\nE\")"
      ],
      "id": "c735b173",
      "execution_count": null,
      "outputs": []
    },
    {
      "cell_type": "markdown",
      "metadata": {
        "id": "52d8f055"
      },
      "source": [
        "<B>Example:\n",
        "\n",
        "Replacing “ ‘ / \\ ( ) , . : ;  with space using function remove_punc(t)."
      ],
      "id": "52d8f055"
    },
    {
      "cell_type": "code",
      "metadata": {
        "id": "f3de0912",
        "colab": {
          "base_uri": "https://localhost:8080/"
        },
        "outputId": "a4ee75f6-d1c9-4842-c748-c85211fe45ec"
      },
      "source": [
        "def remove_punc(t) :\n",
        "    result = \"\"\n",
        "    for e in t :\n",
        "        if e in \"\\\"\\'/\\\\(),.:;\" :\n",
        "            result += \" \"\n",
        "        else :\n",
        "            result += e\n",
        "    return result\n",
        "\n",
        "s = input()\n",
        "print(remove_punc(s))\n",
        "\n",
        "#try with \"\\\"hello\\\"()AB, CD\"\n"
      ],
      "id": "f3de0912",
      "execution_count": null,
      "outputs": [
        {
          "output_type": "stream",
          "name": "stdout",
          "text": [
            "\"\\\"hello\\\"()AB, CD\"\n",
            "   hello    AB  CD \n"
          ]
        }
      ]
    },
    {
      "cell_type": "code",
      "metadata": {
        "id": "bb26434b"
      },
      "source": [
        "remove_punc(\"\\\"hello\\\"()AB, CD\")\n"
      ],
      "id": "bb26434b",
      "execution_count": null,
      "outputs": []
    },
    {
      "cell_type": "markdown",
      "metadata": {
        "id": "e11329c2"
      },
      "source": [
        "========================================\n",
        "\n",
        "<B>String Methods\n",
        "    \n",
        "\n"
      ],
      "id": "e11329c2"
    },
    {
      "cell_type": "code",
      "metadata": {
        "id": "23ee165f",
        "colab": {
          "base_uri": "https://localhost:8080/"
        },
        "outputId": "4ce3c3f6-fdb7-4a14-ee3f-e368f5ad8601"
      },
      "source": [
        "    #01234567890123\n",
        "s = \"  Hello World \"\n",
        "len(s)\n",
        "len(\"\")\n",
        "print(s.lower())     # returns a new string\n",
        "print(s.upper())     # returns a new string\n",
        "\n",
        "print(s.strip())     # returns a new string\n",
        "\n",
        "print(s.find(\"o\"))   # find the first position that has o\n",
        "\n",
        "print(s.find(\"ex\"))  # find the first position that has ex\n",
        "\n",
        "print(s.find(\"o\",7)) # find, starting from position 7, the first position that has o\n",
        "                     # the returned position number is not relative\n",
        "print(s)\n"
      ],
      "id": "23ee165f",
      "execution_count": null,
      "outputs": [
        {
          "output_type": "stream",
          "name": "stdout",
          "text": [
            "  hello world \n",
            "  HELLO WORLD \n",
            "Hello World\n",
            "6\n",
            "-1\n",
            "9\n",
            "  Hello World \n"
          ]
        }
      ]
    },
    {
      "cell_type": "markdown",
      "metadata": {
        "id": "4b503552"
      },
      "source": [
        "Getting back to Air Quality Example"
      ],
      "id": "4b503552"
    },
    {
      "cell_type": "code",
      "metadata": {
        "id": "e4620c61"
      },
      "source": [
        "import urllib.request\n",
        "\n",
        "#def find(s, start, c):\n",
        "#    for i in range(start, len(s)):\n",
        "#        if s[i] == c: return i\n",
        "#    return -1\n",
        "\n",
        "url = \"http://air4thai.pcd.go.th/services/getNewAQI_XML.php?stationID=52t\"\n",
        "web = urllib.request.urlopen(url)\n",
        "for line in web:\n",
        "    line = line.decode()\n",
        "    if \"<PM25 value=\" in line:\n",
        "        i = line.find('\"')         # we now use string's find\n",
        "        j = line.find('\"',i+1)     # we now use string's find\n",
        "        print(\"PM 2.5 =\", line[i+1:j])\n",
        "        break"
      ],
      "id": "e4620c61",
      "execution_count": null,
      "outputs": []
    },
    {
      "cell_type": "markdown",
      "metadata": {
        "id": "8d1dd8b5"
      },
      "source": [
        "=======================================\n",
        "\n",
        "<B>Exercise 7-2\n",
        "    \n"
      ],
      "id": "8d1dd8b5"
    },
    {
      "cell_type": "markdown",
      "metadata": {
        "id": "db752514"
      },
      "source": [
        "Question 1:\n",
        "\n",
        "Write function number_of_newlines(s). This function returns the number of new line characters in string s.\n"
      ],
      "id": "db752514"
    },
    {
      "cell_type": "code",
      "metadata": {
        "id": "ff8e31d9"
      },
      "source": [
        "#Write your code here\n",
        "\n",
        "def number_of_newlines(s):\n",
        "  count = 0\n",
        "  for c in s:\n",
        "    if c == \"\\n\":\n",
        "      count+=1\n",
        "  return count\n",
        "\n",
        "print(number_of_newlines(\"Hello\\n\\n\\nABC\\nDE\\n\"))"
      ],
      "id": "ff8e31d9",
      "execution_count": null,
      "outputs": []
    },
    {
      "cell_type": "markdown",
      "metadata": {
        "id": "58e56b4d"
      },
      "source": [
        "Question 2:\n",
        "\n",
        "Write function left_strip(s). This function returns a new string that looks like s but does not have spaces on its left hand size.\n",
        "\n",
        "For example: left_strip(\" ab \") returns \"ab \"\n",
        "\n",
        "\n"
      ],
      "id": "58e56b4d"
    },
    {
      "cell_type": "code",
      "metadata": {
        "id": "0e39a8cf"
      },
      "source": [
        "# Write your code here\n",
        "\n",
        "def left_strip(s):\n",
        "  new_s = ''\n",
        "  for i in range(len(s)):\n",
        "    if s[i] == ' ':\n",
        "      pass\n",
        "    else:\n",
        "      new_s += s[i:]\n",
        "      break\n",
        "  return new_s\n",
        "\n",
        "s = \"    Hello    B\"\n",
        "print(s)\n",
        "#Hello     B\n",
        "print(s.lstrip())\n",
        "print(left_strip(s))\n",
        "\n"
      ],
      "id": "0e39a8cf",
      "execution_count": null,
      "outputs": []
    },
    {
      "cell_type": "markdown",
      "metadata": {
        "id": "c31e59d4"
      },
      "source": [
        "Question 3:\n",
        "\n",
        "Write function right_strip(s). This function returns a new string that looks like s but does not have spaces on its right hand size.\n",
        "\n",
        "For example: left_strip(\"  ab       \") returns \"  ab\"\n"
      ],
      "id": "c31e59d4"
    },
    {
      "cell_type": "code",
      "metadata": {
        "id": "e22191e5"
      },
      "source": [
        "# Write your code here\n",
        "def right_strip(s):\n",
        "  new_s = \"\"\n",
        "  print(\"new_s\", new_s)\n",
        "  s = s[::-1]\n",
        "  for i in range(len(s)):\n",
        "    if s[i] == ' ':\n",
        "      pass\n",
        "    else:\n",
        "      new_s += s[i:]\n",
        "      break\n",
        "  return new_s[::-1]\n",
        "\n",
        "\n",
        "s = \"    Hello    B      \"\n",
        "#print(s)\n",
        "#Hello     B\n",
        "#print(s.rstrip())\n",
        "print(right_strip(s))"
      ],
      "id": "e22191e5",
      "execution_count": null,
      "outputs": []
    },
    {
      "cell_type": "markdown",
      "metadata": {
        "id": "bf5ed8be"
      },
      "source": [
        "Question 4:\n",
        "\n",
        "Write function first_index_of(s,t). This function returns the first position of t in string s. It returns -1 if there is no t in s.\n",
        "\n",
        "For example:\n",
        "\n",
        "first_index_of(\"abracadabra\", \"bra\") returns 1\n",
        "\n",
        "first_index_of(\"abracadabra\", \"BRA\") returns -1\n",
        "\n",
        "\n"
      ],
      "id": "bf5ed8be"
    },
    {
      "cell_type": "code",
      "metadata": {
        "id": "2a20335d"
      },
      "source": [
        "# Write your code here\n",
        "\n"
      ],
      "id": "2a20335d",
      "execution_count": null,
      "outputs": []
    },
    {
      "cell_type": "markdown",
      "metadata": {
        "id": "243f87c3"
      },
      "source": [
        "Question 5:\n",
        "\n",
        "Write function first_index_of(s,t). This function returns the first position of t in string s. It returns -1 if there is no t in s. <u>Capital letters and non-capital letters are considered to be the same.\n",
        "\n",
        "For example:\n",
        "\n",
        "first_index_of(\"abracadabra\", \"bra\") returns 1\n",
        "\n",
        "first_index_of(\"abracadabra\", \"BRA\") returns 1\n"
      ],
      "id": "243f87c3"
    },
    {
      "cell_type": "code",
      "metadata": {
        "id": "20b6106b"
      },
      "source": [
        "# Write your code here\n",
        "\n",
        "\n",
        "\n"
      ],
      "id": "20b6106b",
      "execution_count": null,
      "outputs": []
    },
    {
      "cell_type": "markdown",
      "metadata": {
        "id": "f5ca67e6"
      },
      "source": [
        "Question 6:\n",
        "\n",
        "Write function last_index_of(s,t). This function returns the last position of t in string s. It returns -1 if there is no t in s. <u>Capital letters and non-capital letters are considered to be the same.\n",
        "\n",
        "For example:\n",
        "\n",
        "last_index_of(\"abracadabra\", \"bra\") returns 8\n",
        "\n",
        "last_index_of(\"abracadabra\", \"BRA\") returns 8"
      ],
      "id": "f5ca67e6"
    },
    {
      "cell_type": "code",
      "metadata": {
        "id": "146dfaaf"
      },
      "source": [
        "# Write your code here\n",
        "\n",
        "\n"
      ],
      "id": "146dfaaf",
      "execution_count": null,
      "outputs": []
    },
    {
      "cell_type": "markdown",
      "metadata": {
        "id": "a096637f"
      },
      "source": [
        "Question 7:\n",
        "\n",
        "Write function index_of_kth(s,t,k). This function returns the position of the k<sup>th</sup> t in string s. It returns -1 if there is no k<sup>th</sup> t in s. The value of k starts from 1.\n",
        "\n",
        "For example:\n",
        "\n",
        "index_of_kth(\"ABabAB\", \"AB\", 1) returns 0\n",
        "\n",
        "index_of_kth(\"ABabAB\", \"AB\", 2) returns 4\n",
        "\n",
        "index_of_kth(\"ABabAB\", \"AB\", 3) returns -1\n"
      ],
      "id": "a096637f"
    },
    {
      "cell_type": "code",
      "metadata": {
        "id": "658adc9c"
      },
      "source": [
        "# Write your code here\n",
        "\n",
        "\n",
        "\n"
      ],
      "id": "658adc9c",
      "execution_count": null,
      "outputs": []
    },
    {
      "cell_type": "markdown",
      "metadata": {
        "id": "ed1edac6"
      },
      "source": [
        "Question 8:\n",
        "\n",
        "Write function remove_duplicates(s). This function returns a new string that looks like s but does not have duplicates of any letter once that letter is found. <u>Capital letters and non-capital letters are considered to be the same.\n",
        "\n",
        "For example:\n",
        "    \n",
        "remove_duplicates(\"AbaaaaBbBbC\") returns \"AbC\""
      ],
      "id": "ed1edac6"
    },
    {
      "cell_type": "code",
      "metadata": {
        "id": "faa2534a"
      },
      "source": [
        "# Write your code here\n",
        "\n",
        "\n",
        "\n"
      ],
      "id": "faa2534a",
      "execution_count": null,
      "outputs": []
    },
    {
      "cell_type": "markdown",
      "metadata": {
        "id": "6be8bc39"
      },
      "source": [
        "Question 9:\n",
        "\n",
        "Write function contains(s, w). This function checks whether w is a standalone word in s. Word punctuations are \" ' / \\ , . : ; ( ) [ ] { } and space. <u>Capital letters and non-capital letters are considered to be the same.</u>\n",
        "\n",
        "For example:\n",
        "    \n",
        "contains(\"That's all folks\", \"that\") returns True\n",
        "\n",
        "contains(\"That's all folks\", \"folk\") returns False"
      ],
      "id": "6be8bc39"
    },
    {
      "cell_type": "code",
      "metadata": {
        "id": "61136b6e"
      },
      "source": [
        "# Write your code here\n",
        "\n",
        "\n",
        "\n"
      ],
      "id": "61136b6e",
      "execution_count": null,
      "outputs": []
    },
    {
      "cell_type": "markdown",
      "metadata": {
        "id": "08e10f61"
      },
      "source": [
        "Question 10:\n",
        "    \n",
        "Write function camelCase(s). This function returns a string like s, but in camel case form.\n",
        "\n",
        "* All words (separated by \"\\\"\\'/\\\\,.:;()[]{}\") are pushed together.\n",
        "* The first word is all lower case.\n",
        "* Other words begin with a capital letter, with other letters being lower case.\n",
        "\n",
        "For example:\n",
        "\n",
        "\"An example of \"camel case\"\" returns \"anExampleOfCamelCase\"\n",
        "\n",
        "\"Emergency call 911\" returns \"emergencyCall911\"\n",
        "\n",
        "\n",
        "\n",
        "    \n",
        "    \n",
        "    "
      ],
      "id": "08e10f61"
    },
    {
      "cell_type": "code",
      "metadata": {
        "id": "980c2872"
      },
      "source": [
        "# Write your code here\n",
        "\n",
        "\n"
      ],
      "id": "980c2872",
      "execution_count": null,
      "outputs": []
    },
    {
      "cell_type": "markdown",
      "metadata": {
        "id": "55cbb393"
      },
      "source": [
        "<B>======================================\n",
        "\n",
        "<B>Function Composition"
      ],
      "id": "55cbb393"
    },
    {
      "cell_type": "code",
      "metadata": {
        "id": "9cc942b1",
        "colab": {
          "base_uri": "https://localhost:8080/"
        },
        "outputId": "c99575e7-c48b-4bcc-e046-5b8749063b28"
      },
      "source": [
        "import math\n",
        "d = float(input())\n",
        "\n",
        "x = math.radians(d)\n",
        "s = math.sin(x)\n",
        "y = abs(s)\n",
        "r = round(y, 2)\n",
        "print(r)\n",
        "\n",
        "#This is equivalent to the function composition below.\n",
        "#The calls are nested.\n",
        "r = round(abs(math.sin(math.radians(d))), 2)\n",
        "print(r)\n"
      ],
      "id": "9cc942b1",
      "execution_count": null,
      "outputs": [
        {
          "output_type": "stream",
          "name": "stdout",
          "text": [
            "30\n",
            "0.5\n",
            "0.5\n"
          ]
        }
      ]
    },
    {
      "cell_type": "code",
      "source": [
        "math.sin.radians(input())"
      ],
      "metadata": {
        "colab": {
          "base_uri": "https://localhost:8080/",
          "height": 193
        },
        "id": "u6vDGJZk7CZT",
        "outputId": "15c03fe9-eed6-46a5-fe1a-30c646a92bf4"
      },
      "id": "u6vDGJZk7CZT",
      "execution_count": null,
      "outputs": [
        {
          "output_type": "error",
          "ename": "AttributeError",
          "evalue": "'builtin_function_or_method' object has no attribute 'radians'",
          "traceback": [
            "\u001b[0;31m---------------------------------------------------------------------------\u001b[0m",
            "\u001b[0;31mAttributeError\u001b[0m                            Traceback (most recent call last)",
            "\u001b[0;32m<ipython-input-15-c21846e64cd4>\u001b[0m in \u001b[0;36m<cell line: 0>\u001b[0;34m()\u001b[0m\n\u001b[0;32m----> 1\u001b[0;31m \u001b[0mmath\u001b[0m\u001b[0;34m.\u001b[0m\u001b[0msin\u001b[0m\u001b[0;34m.\u001b[0m\u001b[0mradians\u001b[0m\u001b[0;34m(\u001b[0m\u001b[0minput\u001b[0m\u001b[0;34m(\u001b[0m\u001b[0;34m)\u001b[0m\u001b[0;34m)\u001b[0m\u001b[0;34m\u001b[0m\u001b[0;34m\u001b[0m\u001b[0m\n\u001b[0m",
            "\u001b[0;31mAttributeError\u001b[0m: 'builtin_function_or_method' object has no attribute 'radians'"
          ]
        }
      ]
    },
    {
      "cell_type": "markdown",
      "metadata": {
        "id": "66e895d0"
      },
      "source": [
        "<B>Method Chaining\n"
      ],
      "id": "66e895d0"
    },
    {
      "cell_type": "code",
      "metadata": {
        "id": "e78a5dbb",
        "colab": {
          "base_uri": "https://localhost:8080/"
        },
        "outputId": "0f13b80c-4a33-4393-c3c0-dbdce712239a"
      },
      "source": [
        "line1 = input()\n",
        "line2 = line1.strip()\n",
        "line3 = line2.upper()\n",
        "i     = line3.find(\"OK\")\n",
        "print(i)\n",
        "\n",
        "#This is equivalent to the method chaining below.\n",
        "i = input().strip().upper().find(\"OK\")\n",
        "print(i)"
      ],
      "id": "e78a5dbb",
      "execution_count": null,
      "outputs": [
        {
          "output_type": "stream",
          "name": "stdout",
          "text": [
            "Sirin Nitinawarat\n",
            "-1\n",
            "SirinOKNitinawarat\n",
            "5\n"
          ]
        }
      ]
    },
    {
      "cell_type": "markdown",
      "metadata": {
        "id": "61d1121a"
      },
      "source": [
        "<B>Beware!\n",
        "    \n",
        "String cannot be changed!"
      ],
      "id": "61d1121a"
    },
    {
      "cell_type": "code",
      "metadata": {
        "id": "0825584f",
        "colab": {
          "base_uri": "https://localhost:8080/",
          "height": 228
        },
        "outputId": "e6593b27-e4c7-4908-9254-72eb60c87994"
      },
      "source": [
        "s = \"123456789\"\n",
        "\n",
        "# Both of these cause errors\n",
        "s[2] = \"a\"\n",
        "s[3:7] = \"1111\""
      ],
      "id": "0825584f",
      "execution_count": null,
      "outputs": [
        {
          "output_type": "error",
          "ename": "TypeError",
          "evalue": "'str' object does not support item assignment",
          "traceback": [
            "\u001b[0;31m---------------------------------------------------------------------------\u001b[0m",
            "\u001b[0;31mTypeError\u001b[0m                                 Traceback (most recent call last)",
            "\u001b[0;32m<ipython-input-16-aa869249b1fa>\u001b[0m in \u001b[0;36m<cell line: 0>\u001b[0;34m()\u001b[0m\n\u001b[1;32m      2\u001b[0m \u001b[0;34m\u001b[0m\u001b[0m\n\u001b[1;32m      3\u001b[0m \u001b[0;31m# Both of these cause errors\u001b[0m\u001b[0;34m\u001b[0m\u001b[0;34m\u001b[0m\u001b[0m\n\u001b[0;32m----> 4\u001b[0;31m \u001b[0ms\u001b[0m\u001b[0;34m[\u001b[0m\u001b[0;36m2\u001b[0m\u001b[0;34m]\u001b[0m \u001b[0;34m=\u001b[0m \u001b[0;34m\"a\"\u001b[0m\u001b[0;34m\u001b[0m\u001b[0;34m\u001b[0m\u001b[0m\n\u001b[0m\u001b[1;32m      5\u001b[0m \u001b[0ms\u001b[0m\u001b[0;34m[\u001b[0m\u001b[0;36m3\u001b[0m\u001b[0;34m:\u001b[0m\u001b[0;36m7\u001b[0m\u001b[0;34m]\u001b[0m \u001b[0;34m=\u001b[0m \u001b[0;34m\"1111\"\u001b[0m\u001b[0;34m\u001b[0m\u001b[0;34m\u001b[0m\u001b[0m\n",
            "\u001b[0;31mTypeError\u001b[0m: 'str' object does not support item assignment"
          ]
        }
      ]
    },
    {
      "cell_type": "markdown",
      "metadata": {
        "id": "12c65ebd"
      },
      "source": [
        "String method therefore does not change the string. It creates a new string!\n"
      ],
      "id": "12c65ebd"
    },
    {
      "cell_type": "code",
      "metadata": {
        "id": "f07b51cb"
      },
      "source": [
        "s = \"HELLO\"\n",
        "print(s.lower())\n",
        "print(s)  # the original string does not change!"
      ],
      "id": "f07b51cb",
      "execution_count": null,
      "outputs": []
    },
    {
      "cell_type": "markdown",
      "metadata": {
        "id": "066718e1"
      },
      "source": [
        "But we can re-assign the original string variable to store the method's result."
      ],
      "id": "066718e1"
    },
    {
      "cell_type": "code",
      "metadata": {
        "id": "eaa93243"
      },
      "source": [
        "s = \"HELLO\"\n",
        "s = s.lower()\n",
        "print(s)"
      ],
      "id": "eaa93243",
      "execution_count": null,
      "outputs": []
    },
    {
      "cell_type": "markdown",
      "metadata": {
        "id": "abd32419"
      },
      "source": [
        "<B>Example: rot-13 (encode/decode)\n",
        "    \n",
        "we encode/decode a character by changing it to the one 13 places in front.\n",
        "    \n",
        "<img src=\"rot13.png\"\n",
        "     alt=\"Rot 13 encoding\"\n",
        "     style=\"float: left; margin-right: 10px;\" />\n"
      ],
      "id": "abd32419"
    },
    {
      "cell_type": "code",
      "metadata": {
        "id": "3fa9fe2e",
        "colab": {
          "base_uri": "https://localhost:8080/"
        },
        "outputId": "79cc8f99-c952-49dc-f466-59537c7ada31"
      },
      "source": [
        "def rot_13(s):\n",
        "    alphabets = \"ABCDEFGHIJKLMNOPQRSTUVWXYZ\"\n",
        "    alphabets *= 2\n",
        "    rot13 = \"\"\n",
        "    for ch in s :\n",
        "        if \"A\" <= ch <= \"Z\" :\n",
        "            pos = alphabets.find(ch)\n",
        "            k = pos + 13\n",
        "            rot13 += alphabets[k]\n",
        "        else :\n",
        "            rot13 += ch\n",
        "    return rot13\n",
        "\n",
        "original = \"I SEE TREES OF GREEN.\"\n",
        "print(rot_13(original))"
      ],
      "id": "3fa9fe2e",
      "execution_count": null,
      "outputs": [
        {
          "output_type": "stream",
          "name": "stdout",
          "text": [
            "V FRR GERRF BS TERRA.\n"
          ]
        }
      ]
    },
    {
      "cell_type": "markdown",
      "metadata": {
        "id": "05525b85"
      },
      "source": [
        "===============================\n",
        "\n",
        "<B>Exercise 7-3\n",
        "    \n",
        "Question 1 :\n",
        "\n",
        "Make rot-13 work on lower case letters! The encoding/decoding of a lower case letter must be a lower case letter too.\n",
        "    "
      ],
      "id": "05525b85"
    },
    {
      "cell_type": "code",
      "metadata": {
        "id": "9ce90c10"
      },
      "source": [
        "# Write your code here\n",
        "\n",
        "\n"
      ],
      "id": "9ce90c10",
      "execution_count": null,
      "outputs": []
    },
    {
      "cell_type": "markdown",
      "metadata": {
        "id": "78fa244b"
      },
      "source": [
        "Question 2:\n",
        "\n",
        "Write function dedent(line). This functions resturns a new string that is like line, but it reduces spaces on the left hand side by half.\n",
        "\n"
      ],
      "id": "78fa244b"
    },
    {
      "cell_type": "code",
      "metadata": {
        "id": "f2ada059"
      },
      "source": [
        "# Write your code here\n",
        "\n"
      ],
      "id": "f2ada059",
      "execution_count": null,
      "outputs": []
    },
    {
      "cell_type": "markdown",
      "metadata": {
        "id": "d2981791"
      },
      "source": [
        "Question 3:\n",
        "\n",
        "Write function rot5_digits(s). This function returns a new string that changes characters in s from 0,1,2,3,4,5,6,7,8 and 9 to 5,6,7,8,9,0,1,2,3 and 4 respectively.\n",
        "\n",
        "For example:\n",
        "\n",
        "rot5_digits(\"My number is 02-218-6981\") returns \"My number is 57-763-1436\"\n",
        "\n"
      ],
      "id": "d2981791"
    },
    {
      "cell_type": "code",
      "metadata": {
        "id": "5b1815b4"
      },
      "source": [
        "# Write your code here\n",
        "\n",
        "\n"
      ],
      "id": "5b1815b4",
      "execution_count": null,
      "outputs": []
    },
    {
      "cell_type": "markdown",
      "metadata": {
        "id": "8924bc69"
      },
      "source": [
        "Question 4:\n",
        "\n",
        "String dna contains only A, T, G, and C. Write function count_bases(dna). This function returns a list that stores number of A, T, G, C respectively.\n",
        "\n",
        "For example:\n",
        "\n",
        "count_bases(\"AAAATTTGGC\") returns [4, 3, 2, 1]\n",
        "\n",
        "\n",
        "\n"
      ],
      "id": "8924bc69"
    },
    {
      "cell_type": "code",
      "metadata": {
        "id": "8259b05a"
      },
      "source": [
        "# Write your code here\n",
        "\n",
        "\n"
      ],
      "id": "8259b05a",
      "execution_count": null,
      "outputs": []
    },
    {
      "cell_type": "markdown",
      "metadata": {
        "id": "281d341c"
      },
      "source": [
        "===========================\n",
        "\n",
        "<B>Reading data from a file\n",
        "\n",
        "Let us have file data.txt that contains 3 lines:\n",
        "    \n",
        "<img src=\"dataFile01.PNG\"\n",
        "     alt=\"simple data file\"\n",
        "     style=\"float: left; margin-right: 10px;\" />\n",
        "    \n",
        " Now we write code to open this file for reading.\n",
        "    "
      ],
      "id": "281d341c"
    },
    {
      "cell_type": "code",
      "source": [
        "from google.colab import drive\n",
        "drive.mount('/content/drive', force_remount=True)\n",
        "import os\n",
        "!pwd\n",
        "os.chdir(\"drive/My Drive\")\n",
        "!pwd\n",
        "!ls data.txt*"
      ],
      "metadata": {
        "colab": {
          "base_uri": "https://localhost:8080/"
        },
        "id": "JQ9vfRiJE9AG",
        "outputId": "39737552-758d-42ed-84c3-1ae38d536d37"
      },
      "id": "JQ9vfRiJE9AG",
      "execution_count": null,
      "outputs": [
        {
          "output_type": "stream",
          "name": "stdout",
          "text": [
            "Mounted at /content/drive\n",
            "/content\n",
            "/content/drive/My Drive\n",
            "data.txt\n"
          ]
        }
      ]
    },
    {
      "cell_type": "code",
      "metadata": {
        "id": "1755934d",
        "colab": {
          "base_uri": "https://localhost:8080/"
        },
        "outputId": "72c1e8c4-497c-4306-8904-af16f975109f"
      },
      "source": [
        "fn = open(\"data.txt\", \"r\")  # r indicates READ mode\n",
        "line1 = fn.readline()        # read one line (it can read beyond the last line)\n",
        "line2 = fn.readline()\n",
        "line3 = fn.readline()\n",
        "line4 = fn.readline()\n",
        "\n",
        "fn.close() # close file\n",
        "\n",
        "print(line1)\n",
        "print(line2)\n",
        "print(line3)\n",
        "print(line4)  # it doesn't have anything to print, but it does not cause error!"
      ],
      "id": "1755934d",
      "execution_count": null,
      "outputs": [
        {
          "output_type": "stream",
          "name": "stdout",
          "text": [
            "11\n",
            "\n",
            "22\n",
            "\n",
            "33\n",
            "\n",
            "\n",
            "\n"
          ]
        }
      ]
    },
    {
      "cell_type": "markdown",
      "metadata": {
        "id": "a9357a4b"
      },
      "source": [
        "The print result looks like it's having too many \"\\n\". Let's test it a bit more!"
      ],
      "id": "a9357a4b"
    },
    {
      "cell_type": "code",
      "source": [
        "with open(\"data.txt\", r) as fr"
      ],
      "metadata": {
        "id": "iDSjgbYah5xN"
      },
      "id": "iDSjgbYah5xN",
      "execution_count": null,
      "outputs": []
    },
    {
      "cell_type": "code",
      "metadata": {
        "id": "72f826e0"
      },
      "source": [
        "print(len(line1))\n",
        "print(len(line2))\n",
        "print(len(line3))\n",
        "print(len(line4))"
      ],
      "id": "72f826e0",
      "execution_count": null,
      "outputs": []
    },
    {
      "cell_type": "markdown",
      "metadata": {
        "id": "795dbfaf"
      },
      "source": [
        "There is a \"\\n\" at the end of each line! (print already inserts its own \"\\n\" for your string, that's why we have printed new line twice, except line 3, which does not have \"\\n\").\n",
        "\n",
        "Line 4 has 0 character, indicating the end of the file. We can use this to write a loop, reading each line from a file. As shown below:\n",
        "\n"
      ],
      "id": "795dbfaf"
    },
    {
      "cell_type": "code",
      "source": [
        "from google.colab import files\n",
        "\n",
        "files.upload()"
      ],
      "metadata": {
        "id": "v_PVTq3Mkgkl"
      },
      "id": "v_PVTq3Mkgkl",
      "execution_count": null,
      "outputs": []
    },
    {
      "cell_type": "code",
      "metadata": {
        "id": "b2349aaf",
        "colab": {
          "base_uri": "https://localhost:8080/"
        },
        "outputId": "e7242a8a-8952-45ab-b3c7-452d4bd653ef"
      },
      "source": [
        "fn = open(\"data.txt\", \"r\")\n",
        "line = fn.readline()\n",
        "while len(line) > 0 :\n",
        "    print(line.strip())\n",
        "    line = fn.readline()\n",
        "fn.close()"
      ],
      "id": "b2349aaf",
      "execution_count": null,
      "outputs": [
        {
          "output_type": "stream",
          "name": "stdout",
          "text": [
            "11\n",
            "22\n",
            "33\n",
            "\n"
          ]
        }
      ]
    },
    {
      "cell_type": "code",
      "metadata": {
        "id": "aa62c00a",
        "colab": {
          "base_uri": "https://localhost:8080/"
        },
        "outputId": "1604554d-e16c-4a53-8cd4-9ecae8ddb9eb"
      },
      "source": [
        "fn = open(\"data.txt\", \"r\")\n",
        "for line in fn : #Easier!!!\n",
        "    print(line.strip())\n",
        "fn.close()"
      ],
      "id": "aa62c00a",
      "execution_count": null,
      "outputs": [
        {
          "output_type": "stream",
          "name": "stdout",
          "text": [
            "11\n",
            "22\n",
            "33\n",
            "\n"
          ]
        }
      ]
    },
    {
      "cell_type": "markdown",
      "metadata": {
        "id": "246069c5"
      },
      "source": [
        "<B><U>Example</U></B>: Print average score from the first 3 students in a file (score01.txt)!\n",
        "\n",
        "The score file looks like this:\n",
        "\n",
        "<img src=\"score01Capture.png\"\n",
        "     alt=\"simple score file\"\n",
        "     style=\"float: left; margin-right: 10px;\" />"
      ],
      "id": "246069c5"
    },
    {
      "cell_type": "code",
      "source": [
        "from google.colab import files\n",
        "files.upload()"
      ],
      "metadata": {
        "id": "wV-kme6mlnNr"
      },
      "id": "wV-kme6mlnNr",
      "execution_count": null,
      "outputs": []
    },
    {
      "cell_type": "code",
      "source": [
        "!pwd"
      ],
      "metadata": {
        "id": "cvZBVI2xmO5u"
      },
      "id": "cvZBVI2xmO5u",
      "execution_count": null,
      "outputs": []
    },
    {
      "cell_type": "code",
      "source": [
        "!ls"
      ],
      "metadata": {
        "id": "HYBfmFbMmR7z"
      },
      "id": "HYBfmFbMmR7z",
      "execution_count": null,
      "outputs": []
    },
    {
      "cell_type": "code",
      "metadata": {
        "id": "039efdd8",
        "colab": {
          "base_uri": "https://localhost:8080/"
        },
        "outputId": "b944499b-ec06-4b4f-d6b4-04eee0253116"
      },
      "source": [
        "#fn = open(\"score01.txt\", \"r\")\n",
        "fn = open(\"data.txt\", \"r\")\n",
        "count = 0\n",
        "sum = 0\n",
        "i = 0\n",
        "for line in fn :\n",
        "    i += 1\n",
        "    if i > 3 :\n",
        "        break\n",
        "    sum += float(line[-3:-1:1])    ### BUT THIS IS NOT GOOD IF SCORE ARE DECIMALS\n",
        "    count += 1\n",
        "print(\"Average = \", sum/count)\n",
        "\n",
        "fn.close()"
      ],
      "id": "039efdd8",
      "execution_count": null,
      "outputs": [
        {
          "output_type": "stream",
          "name": "stdout",
          "text": [
            "Average =  22.0\n"
          ]
        }
      ]
    },
    {
      "cell_type": "markdown",
      "metadata": {
        "id": "d0753c4c"
      },
      "source": [
        "A more generic code is :"
      ],
      "id": "d0753c4c"
    },
    {
      "cell_type": "code",
      "metadata": {
        "id": "c2318b92",
        "colab": {
          "base_uri": "https://localhost:8080/",
          "height": 280
        },
        "collapsed": true,
        "outputId": "ffc6802c-cddb-419d-a4d3-9f683e5d0f35"
      },
      "source": [
        "sum_points = 0; n = 3  # we can easily change n (very easy to see)\n",
        "\n",
        "#infile = open(\"score01.txt\", \"r\")\n",
        "infile = open(\"data.txt\", \"r\")\n",
        "for k in range(n):\n",
        "    line = infile.readline()\n",
        "    print(line)\n",
        "    x = line.split()\n",
        "    sum_points += float(x[1])   # can have different decimals\n",
        "infile.close()\n",
        "\n",
        "print(\"Average =\", sum_points/n)\n"
      ],
      "id": "c2318b92",
      "execution_count": null,
      "outputs": [
        {
          "output_type": "stream",
          "name": "stdout",
          "text": [
            "11\n",
            "\n"
          ]
        },
        {
          "output_type": "error",
          "ename": "IndexError",
          "evalue": "list index out of range",
          "traceback": [
            "\u001b[0;31m---------------------------------------------------------------------------\u001b[0m",
            "\u001b[0;31mIndexError\u001b[0m                                Traceback (most recent call last)",
            "\u001b[0;32m<ipython-input-31-ff7921f0eab4>\u001b[0m in \u001b[0;36m<cell line: 0>\u001b[0;34m()\u001b[0m\n\u001b[1;32m      7\u001b[0m     \u001b[0mprint\u001b[0m\u001b[0;34m(\u001b[0m\u001b[0mline\u001b[0m\u001b[0;34m)\u001b[0m\u001b[0;34m\u001b[0m\u001b[0;34m\u001b[0m\u001b[0m\n\u001b[1;32m      8\u001b[0m     \u001b[0mx\u001b[0m \u001b[0;34m=\u001b[0m \u001b[0mline\u001b[0m\u001b[0;34m.\u001b[0m\u001b[0msplit\u001b[0m\u001b[0;34m(\u001b[0m\u001b[0;34m)\u001b[0m\u001b[0;34m\u001b[0m\u001b[0;34m\u001b[0m\u001b[0m\n\u001b[0;32m----> 9\u001b[0;31m     \u001b[0msum_points\u001b[0m \u001b[0;34m+=\u001b[0m \u001b[0mfloat\u001b[0m\u001b[0;34m(\u001b[0m\u001b[0mx\u001b[0m\u001b[0;34m[\u001b[0m\u001b[0;36m1\u001b[0m\u001b[0;34m]\u001b[0m\u001b[0;34m)\u001b[0m   \u001b[0;31m# can have different decimals\u001b[0m\u001b[0;34m\u001b[0m\u001b[0;34m\u001b[0m\u001b[0m\n\u001b[0m\u001b[1;32m     10\u001b[0m \u001b[0minfile\u001b[0m\u001b[0;34m.\u001b[0m\u001b[0mclose\u001b[0m\u001b[0;34m(\u001b[0m\u001b[0;34m)\u001b[0m\u001b[0;34m\u001b[0m\u001b[0;34m\u001b[0m\u001b[0m\n\u001b[1;32m     11\u001b[0m \u001b[0;34m\u001b[0m\u001b[0m\n",
            "\u001b[0;31mIndexError\u001b[0m: list index out of range"
          ]
        }
      ]
    },
    {
      "cell_type": "markdown",
      "metadata": {
        "id": "83ae27b8"
      },
      "source": [
        "<B><U>Example</U></B>: Display sort from high to low score (score01.txt)!"
      ],
      "id": "83ae27b8"
    },
    {
      "cell_type": "code",
      "metadata": {
        "id": "21341f87",
        "colab": {
          "base_uri": "https://localhost:8080/",
          "height": 280
        },
        "collapsed": true,
        "outputId": "81bbc5c9-01cd-4ee0-a871-03c1767f6eac"
      },
      "source": [
        "students = []\n",
        "\n",
        "#fn = open(\"score01.txt\", \"r\")\n",
        "fn = open(\"data.txt\", \"r\")\n",
        "for line in fn :\n",
        "    sid,point = line.strip().split() # split gives 2 value in a list. We can use 2 variables.\n",
        "    point = float(point)\n",
        "    students.append([point, sid]) # add to a list, with score first, so it can be used in sort.\n",
        "fn.close()\n",
        "\n",
        "students.sort(reverse=True)   # we can sort normally and then reverse the list.\n",
        "for [point,sid] in students :\n",
        "    print(sid,point)"
      ],
      "id": "21341f87",
      "execution_count": null,
      "outputs": [
        {
          "output_type": "error",
          "ename": "ValueError",
          "evalue": "not enough values to unpack (expected 2, got 1)",
          "traceback": [
            "\u001b[0;31m---------------------------------------------------------------------------\u001b[0m",
            "\u001b[0;31mValueError\u001b[0m                                Traceback (most recent call last)",
            "\u001b[0;32m<ipython-input-30-a9e82c1b0f74>\u001b[0m in \u001b[0;36m<cell line: 0>\u001b[0;34m()\u001b[0m\n\u001b[1;32m      4\u001b[0m \u001b[0mfn\u001b[0m \u001b[0;34m=\u001b[0m \u001b[0mopen\u001b[0m\u001b[0;34m(\u001b[0m\u001b[0;34m\"data.txt\"\u001b[0m\u001b[0;34m,\u001b[0m \u001b[0;34m\"r\"\u001b[0m\u001b[0;34m)\u001b[0m\u001b[0;34m\u001b[0m\u001b[0;34m\u001b[0m\u001b[0m\n\u001b[1;32m      5\u001b[0m \u001b[0;32mfor\u001b[0m \u001b[0mline\u001b[0m \u001b[0;32min\u001b[0m \u001b[0mfn\u001b[0m \u001b[0;34m:\u001b[0m\u001b[0;34m\u001b[0m\u001b[0;34m\u001b[0m\u001b[0m\n\u001b[0;32m----> 6\u001b[0;31m     \u001b[0msid\u001b[0m\u001b[0;34m,\u001b[0m\u001b[0mpoint\u001b[0m \u001b[0;34m=\u001b[0m \u001b[0mline\u001b[0m\u001b[0;34m.\u001b[0m\u001b[0mstrip\u001b[0m\u001b[0;34m(\u001b[0m\u001b[0;34m)\u001b[0m\u001b[0;34m.\u001b[0m\u001b[0msplit\u001b[0m\u001b[0;34m(\u001b[0m\u001b[0;34m)\u001b[0m \u001b[0;31m# split gives 2 value in a list. We can use 2 variables.\u001b[0m\u001b[0;34m\u001b[0m\u001b[0;34m\u001b[0m\u001b[0m\n\u001b[0m\u001b[1;32m      7\u001b[0m     \u001b[0mpoint\u001b[0m \u001b[0;34m=\u001b[0m \u001b[0mfloat\u001b[0m\u001b[0;34m(\u001b[0m\u001b[0mpoint\u001b[0m\u001b[0;34m)\u001b[0m\u001b[0;34m\u001b[0m\u001b[0;34m\u001b[0m\u001b[0m\n\u001b[1;32m      8\u001b[0m     \u001b[0mstudents\u001b[0m\u001b[0;34m.\u001b[0m\u001b[0mappend\u001b[0m\u001b[0;34m(\u001b[0m\u001b[0;34m[\u001b[0m\u001b[0mpoint\u001b[0m\u001b[0;34m,\u001b[0m \u001b[0msid\u001b[0m\u001b[0;34m]\u001b[0m\u001b[0;34m)\u001b[0m \u001b[0;31m# add to a list, with score first, so it can be used in sort.\u001b[0m\u001b[0;34m\u001b[0m\u001b[0;34m\u001b[0m\u001b[0m\n",
            "\u001b[0;31mValueError\u001b[0m: not enough values to unpack (expected 2, got 1)"
          ]
        }
      ]
    },
    {
      "cell_type": "markdown",
      "metadata": {
        "id": "dd43f045"
      },
      "source": [
        "=====================================\n",
        "\n",
        "<B>Exercise 7-4</B>\n",
        "\n",
        "Question 1:\n",
        "\n",
        "Given a file score02.txt\n",
        "\n",
        "<img src=\"score02Capture.png\"\n",
        "     alt=\"simple score 2 file\"\n",
        "     style=\"float: left; margin-right: 10px;\" />\n",
        "\n",
        "Find average of students whose ID starts with a given number) .\n",
        "\n",
        "For example:\n",
        "* Input: score02.txt 62  -> output: Average = 84.6\n",
        "* Input: score02.txt 59  -> output: No data\n",
        "\n"
      ],
      "id": "dd43f045"
    },
    {
      "cell_type": "code",
      "metadata": {
        "id": "21fdbb57"
      },
      "source": [
        "# Write your code here\n",
        "\n",
        "\n"
      ],
      "id": "21fdbb57",
      "execution_count": null,
      "outputs": []
    },
    {
      "cell_type": "markdown",
      "metadata": {
        "id": "3b7e9fc7"
      },
      "source": [
        "====================================\n",
        "\n",
        "<B>Writing data to a file</B>"
      ],
      "id": "3b7e9fc7"
    },
    {
      "cell_type": "code",
      "source": [
        "print(filename)"
      ],
      "metadata": {
        "colab": {
          "base_uri": "https://localhost:8080/",
          "height": 176
        },
        "id": "4a3zmb_5HtIk",
        "outputId": "9b27604e-1650-4d9c-af0c-5f2ce0533248"
      },
      "id": "4a3zmb_5HtIk",
      "execution_count": null,
      "outputs": [
        {
          "output_type": "error",
          "ename": "NameError",
          "evalue": "name 'filename' is not defined",
          "traceback": [
            "\u001b[0;31m---------------------------------------------------------------------------\u001b[0m",
            "\u001b[0;31mNameError\u001b[0m                                 Traceback (most recent call last)",
            "\u001b[0;32m<ipython-input-33-8e199f82ce93>\u001b[0m in \u001b[0;36m<cell line: 0>\u001b[0;34m()\u001b[0m\n\u001b[0;32m----> 1\u001b[0;31m \u001b[0mprint\u001b[0m\u001b[0;34m(\u001b[0m\u001b[0mfilename\u001b[0m\u001b[0;34m)\u001b[0m\u001b[0;34m\u001b[0m\u001b[0;34m\u001b[0m\u001b[0m\n\u001b[0m",
            "\u001b[0;31mNameError\u001b[0m: name 'filename' is not defined"
          ]
        }
      ]
    },
    {
      "cell_type": "code",
      "metadata": {
        "id": "cf19bc7e"
      },
      "source": [
        "fout = open(filename, \"w\")  #open for writing\n",
        "fout.write(\"First line\")    # write at the end of the file\n",
        "fout.write(\"Text\\n\")        # write and go to a new line\n",
        "\n",
        "fout.close()"
      ],
      "id": "cf19bc7e",
      "execution_count": null,
      "outputs": []
    },
    {
      "cell_type": "markdown",
      "metadata": {
        "id": "1dd83a6a"
      },
      "source": [
        "Example:\n",
        "\n",
        "Record 100 numbers into a file, 10 numbers per line!\n",
        "\n",
        "Triangilar number is number + i , number starts from 0 and i starts from 1.\n",
        "\n",
        "1 3 6 10 15 ...  comes from 0+1, 1+2, 3+3, 6+4, 10+5, ...\n",
        "\n"
      ],
      "id": "1dd83a6a"
    },
    {
      "cell_type": "code",
      "metadata": {
        "id": "a144e7b0"
      },
      "source": [
        "fout = open(\"tri_numbers.txt\", \"w\")  #open for writing\n",
        "num = 0\n",
        "for i in range(1,101) :\n",
        "    num = num + i\n",
        "    fout.write(str(num)+\" \")\n",
        "    if i%10 == 0 :\n",
        "        fout.write(\"\\n\")\n",
        "fout.close()"
      ],
      "id": "a144e7b0",
      "execution_count": null,
      "outputs": []
    },
    {
      "cell_type": "markdown",
      "metadata": {
        "id": "1db9a818"
      },
      "source": [
        "================================\n",
        "\n",
        "<B>Exercise 7-5</B>\n",
        "\n",
        "Question 1:\n",
        "\n",
        "Create a file that contains a rot-13 code of an input file! The example file is \"poen.txt\"\n",
        "\n",
        "\n"
      ],
      "id": "1db9a818"
    },
    {
      "cell_type": "code",
      "metadata": {
        "id": "fe0ad26b"
      },
      "source": [
        "# Write your code here\n",
        "\n",
        "\n"
      ],
      "id": "fe0ad26b",
      "execution_count": null,
      "outputs": []
    },
    {
      "cell_type": "markdown",
      "metadata": {
        "id": "4da3cd15"
      },
      "source": [
        "Question 2:\n",
        "\n",
        "Write function count_line(filename). This function returns the number of lines in the given file.\n",
        "\n"
      ],
      "id": "4da3cd15"
    },
    {
      "cell_type": "code",
      "metadata": {
        "id": "58f8527b"
      },
      "source": [
        "# Write your code here\n",
        "\n",
        "\n"
      ],
      "id": "58f8527b",
      "execution_count": null,
      "outputs": []
    },
    {
      "cell_type": "markdown",
      "metadata": {
        "id": "a6e2b1b5"
      },
      "source": [
        "Question 3:\n",
        "\n",
        "Write function print_merge(filename1, filename2). It reads 2 files and alternatingly shows lines from both files. If one file ends first, display the rest of the other file."
      ],
      "id": "a6e2b1b5"
    },
    {
      "cell_type": "code",
      "metadata": {
        "id": "9ee74f73"
      },
      "source": [
        "# Write your code here\n",
        "\n",
        "\n"
      ],
      "id": "9ee74f73",
      "execution_count": null,
      "outputs": []
    },
    {
      "cell_type": "markdown",
      "metadata": {
        "id": "7a638288"
      },
      "source": [
        "Question 4:\n",
        "\n",
        "Write funtion count_articles(filename) to count the total number of \"a\", \"an\", \"the\" in a file. You are given a \"gridman.txt\" to test (the file contains lyrics of a TV show opening). The answer from this file should be 14.   \n",
        "\n"
      ],
      "id": "7a638288"
    },
    {
      "cell_type": "code",
      "metadata": {
        "id": "a8c636c9"
      },
      "source": [
        "def replace_punctuation(s):\n",
        "    # replace punctuation with space\n",
        "    t = \"\"\n",
        "    for e in s:\n",
        "        if e in \"\\\"\\'/\\\\,.:;()[]{}!?\":\n",
        "            t += \" \"\n",
        "        else:\n",
        "            t += e\n",
        "    return t\n",
        "\n",
        "def count_word(words, w):\n",
        "    # count number of w in list words\n",
        "    w = w.lower()\n",
        "    c = 0\n",
        "    for e in words:\n",
        "        if e.lower() == w:\n",
        "            c += 1\n",
        "    return c\n",
        "\n",
        "def count_articles(filename):\n",
        "\n",
        "   # Write your code here\n",
        "\n",
        "\n",
        "\n",
        "\n",
        "\n",
        "\n"
      ],
      "id": "a8c636c9",
      "execution_count": null,
      "outputs": []
    },
    {
      "cell_type": "code",
      "metadata": {
        "id": "05ba2dcd"
      },
      "source": [
        "s = \"Hello\"\n",
        "\n",
        "print(s.upper())\n",
        "print(s)\n",
        "print(s.lower())\n",
        "\n",
        "\n"
      ],
      "id": "05ba2dcd",
      "execution_count": null,
      "outputs": []
    },
    {
      "cell_type": "code",
      "source": [
        "print(\"ABC\" > \"abc\")"
      ],
      "metadata": {
        "id": "MzIar-vU2Gj5"
      },
      "id": "MzIar-vU2Gj5",
      "execution_count": null,
      "outputs": []
    },
    {
      "cell_type": "code",
      "source": [
        "print(\"a\" > \"ABC\")"
      ],
      "metadata": {
        "id": "K8N1SjsZKCVd"
      },
      "id": "K8N1SjsZKCVd",
      "execution_count": null,
      "outputs": []
    },
    {
      "cell_type": "code",
      "source": [
        "chr(ord(\"A\") + 13)"
      ],
      "metadata": {
        "id": "06xgEciVKGSr"
      },
      "id": "06xgEciVKGSr",
      "execution_count": null,
      "outputs": []
    },
    {
      "cell_type": "code",
      "source": [],
      "metadata": {
        "id": "2nIzUsUtPPJF"
      },
      "id": "2nIzUsUtPPJF",
      "execution_count": null,
      "outputs": []
    }
  ]
}