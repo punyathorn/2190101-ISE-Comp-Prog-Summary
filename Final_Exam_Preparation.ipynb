{
  "nbformat": 4,
  "nbformat_minor": 0,
  "metadata": {
    "colab": {
      "provenance": []
    },
    "kernelspec": {
      "name": "python3",
      "display_name": "Python 3"
    },
    "language_info": {
      "name": "python"
    }
  },
  "cells": [
    {
      "cell_type": "markdown",
      "source": [
        "# StrFile"
      ],
      "metadata": {
        "id": "7z-x9LtVLHFe"
      }
    },
    {
      "cell_type": "markdown",
      "source": [
        "## License Plates Extraction\n",
        "\n",
        "Certainly! Here's the updated version of the question with an explicit instruction that **regular expressions are not allowed**:\n",
        "\n",
        "---\n",
        "\n",
        "**Question:**  \n",
        "A log file that records vehicle license plates entering a service has been corrupted. The newline characters (`\\n`) that separated each record are missing, causing some license plate entries to be stuck together.\n",
        "\n",
        "Each valid Thai license plate follows this format:\n",
        "- A single digit (1–9),\n",
        "- Followed by **two Thai characters** (from ก to ฮ),\n",
        "- Followed by **1 to 4 digits**.\n",
        "\n",
        "### Step 1: Create the input file  \n",
        "Create a plain text file named `license_log.txt` and copy the following corrupted data into it:\n",
        "\n",
        "```\n",
        "1กก203  \n",
        "2ขค991  \n",
        "3งข1284  \n",
        "1กข5092ขค884ขง2  \n",
        "1กค9993ขฉ123  \n",
        "2ขข234  \n",
        "```\n",
        "\n",
        "> Make sure there are **no newline characters** between license plates in the lines with multiple entries.\n",
        "\n",
        "### Step 2: Write a Python program  \n",
        "Write a Python program that reads the content of the `license_log.txt` file and extracts **all valid license plates** based on the format described above. The extracted license plates must appear in the **same order** as they appear in the file.\n",
        "\n",
        "Print each valid license plate on a separate line.\n",
        "\n",
        "### Constraints:\n",
        "- **You are NOT allowed to use the `re` module** or any regular expression.\n",
        "- Use basic string operations such as slicing, checking character types, and loops to process the data.\n",
        "\n",
        "### Example output (correct result for the input above):\n",
        "```\n",
        "1กก203  \n",
        "2ขค991  \n",
        "3งข1284  \n",
        "1กข509  \n",
        "2ขค88  \n",
        "4ขง2  \n",
        "1กค999  \n",
        "3ขฉ123  \n",
        "2ขข234  \n",
        "```\n",
        "\n"
      ],
      "metadata": {
        "id": "LjLzcLNjL5Hz"
      }
    },
    {
      "cell_type": "code",
      "source": [
        "# Write your code here\n",
        "\n",
        "\n",
        "\n",
        "\n",
        "\n",
        "\n",
        "\n",
        "\n",
        "\n"
      ],
      "metadata": {
        "id": "tj7uZ7JtMhus"
      },
      "execution_count": null,
      "outputs": []
    },
    {
      "cell_type": "markdown",
      "source": [
        "# TSD"
      ],
      "metadata": {
        "id": "GQT3fiJsSizG"
      }
    },
    {
      "cell_type": "markdown",
      "source": [
        "## Mateo Service API\n",
        "\n",
        "**Question:**  \n",
        "You are tasked with writing a Python program to display the upcoming temperature forecast for **Bangkok** using data from a weather forecast service.\n",
        "\n",
        "---\n",
        "\n",
        "\n",
        "\n"
      ],
      "metadata": {
        "id": "5SWuwqLNSj8M"
      }
    },
    {
      "cell_type": "markdown",
      "source": [
        "### Part 1: Data Acquisition  \n",
        "Use the following code to retrieve weather forecast data for Bangkok using the [Open-Meteo API](https://open-meteo.com/):\n",
        "\n",
        "```python\n",
        "import requests\n",
        "\n",
        "url = \"https://api.open-meteo.com/v1/forecast\"\n",
        "params = {\n",
        "    \"latitude\": 13.75,\n",
        "    \"longitude\": 100.5167,\n",
        "    \"hourly\": \"temperature_2m\",\n",
        "    \"timezone\": \"Asia/Bangkok\"\n",
        "}\n",
        "\n",
        "response = requests.get(url, params=params)\n",
        "data = response.json()\n",
        "```\n",
        "\n",
        "This retrieves hourly forecast data for Bangkok, including temperature at 2 meters above the ground.\n",
        "\n",
        "---\n",
        "\n",
        "### Part 2: Plot Hourly Temperature Forecast  \n",
        "Extract the first 24 hourly temperature data points and plot them using `matplotlib`.\n",
        "\n",
        "**Requirements:**\n",
        "- X-axis: time (in hours)\n",
        "- Y-axis: temperature (°C)\n",
        "- Title: `\"Bangkok Hourly Temperature Forecast\"`\n",
        "\n",
        "Sample plot code structure:\n",
        "```python\n",
        "import matplotlib.pyplot as plt\n",
        "\n",
        "times = timepoints\n",
        "temperatures = temps\n",
        "\n",
        "plt.figure(figsize=(12, 6))\n",
        "plt.plot(times, temperatures, marker='o')\n",
        "plt.xticks(rotation=45)\n",
        "plt.xlabel(\"Time\")\n",
        "plt.ylabel(\"Temperature (°C)\")\n",
        "plt.title(\"Bangkok Hourly Temperature Forecast\")\n",
        "plt.tight_layout()\n",
        "plt.show()\n",
        "```"
      ],
      "metadata": {
        "id": "q0FHTKj6VVbq"
      }
    },
    {
      "cell_type": "code",
      "source": [
        "# Write your code here\n",
        "\n",
        "\n",
        "\n",
        "\n",
        "\n",
        "\n",
        "\n",
        "\n",
        "\n"
      ],
      "metadata": {
        "id": "KBXTMiBrSonE"
      },
      "execution_count": null,
      "outputs": []
    },
    {
      "cell_type": "markdown",
      "source": [
        "---\n",
        "\n",
        "### Part 3: Plot Daily High and Low Temperatures  \n",
        "Now analyze the **entire forecast** (not just the first 24 hours). Calculate the **daily highest and lowest** temperatures, and plot them on a second chart.\n",
        "\n",
        "**Instructions:**\n",
        "1. Group the hourly data by date (e.g., \"2025-04-21\", \"2025-04-22\", etc.).\n",
        "2. For each date:\n",
        "   - Find the **maximum** and **minimum** temperature.\n",
        "3. Plot a line chart with:\n",
        "   - X-axis: date\n",
        "   - Y-axis: temperature (°C)\n",
        "   - One line for daily **highs**, and one for **lows**\n",
        "   - Title: `\"Bangkok Daily High/Low Temperatures\"`\n",
        "\n",
        "\n",
        "\n"
      ],
      "metadata": {
        "id": "iHyKhVI4VL0S"
      }
    },
    {
      "cell_type": "code",
      "source": [
        "# Write your code here\n",
        "\n",
        "\n",
        "\n",
        "\n",
        "\n",
        "\n",
        "\n",
        "\n",
        "\n"
      ],
      "metadata": {
        "id": "EiFpq8iqVLCk"
      },
      "execution_count": null,
      "outputs": []
    },
    {
      "cell_type": "markdown",
      "source": [
        "# Nested Structure"
      ],
      "metadata": {
        "id": "4a99FW2oZkCh"
      }
    },
    {
      "cell_type": "markdown",
      "source": [
        "### **Question: Manual Temperature Analysis Using Nested Lists and Loops**\n",
        "\n",
        "You are given hourly temperature data for Bangkok from the Open-Meteo API. This data contains a long list of temperature values, one for each hour. Your task is to **organize** the data into a nested list, where each sublist contains **24 temperature readings for a single day**, and use **nested loops** to compute summary statistics.\n",
        "\n",
        "---\n",
        "\n",
        "### Part 1: Data Retrieval  \n",
        "Use the following code to retrieve the forecast data:\n",
        "\n",
        "```python\n",
        "import requests\n",
        "\n",
        "url = \"https://api.open-meteo.com/v1/forecast\"\n",
        "params = {\n",
        "    \"latitude\": 13.75,\n",
        "    \"longitude\": 100.5167,\n",
        "    \"hourly\": \"temperature_2m\",\n",
        "    \"timezone\": \"Asia/Bangkok\"\n",
        "}\n",
        "\n",
        "response = requests.get(url, params=params)\n",
        "data = response.json()\n",
        "temperatures = data[\"hourly\"][\"temperature_2m\"]\n",
        "```\n",
        "\n",
        "---\n",
        "\n",
        "### Part 2: Organize Data into a Nested List\n",
        "\n",
        "1. Create a new list called `daily_temps`, where each element is a list of 24 hourly temperatures for a single day.\n",
        "2. Trim the original `temperatures` list so the length is divisible by 24.\n",
        "\n",
        "\n",
        "---\n",
        "\n",
        "### Part 3: Compute Statistics Using Nested Loops\n",
        "\n",
        "1. Compute and print the **average temperature for each day**.\n",
        "2. Compute and print the **minimum and maximum temperature for each hour** across all days.\n",
        "\n",
        "#### Output format example:\n",
        "```\n",
        "Average temperature per day:\n",
        "Day 1: 28.1\n",
        "Day 2: 27.6\n",
        "...\n",
        "\n",
        "Hourly min and max:\n",
        "Hour 0: Min=24.7, Max=29.2\n",
        "Hour 1: Min=24.6, Max=29.0\n",
        "...\n",
        "```\n"
      ],
      "metadata": {
        "id": "6ouQFICHZmgM"
      }
    },
    {
      "cell_type": "code",
      "source": [
        "# Write your code here\n",
        "\n",
        "\n",
        "\n",
        "\n",
        "\n",
        "\n",
        "\n",
        "\n",
        "\n"
      ],
      "metadata": {
        "id": "CHl99wTYZnoG"
      },
      "execution_count": null,
      "outputs": []
    },
    {
      "cell_type": "markdown",
      "source": [
        "# Numpy"
      ],
      "metadata": {
        "id": "lFfhStvMVefj"
      }
    },
    {
      "cell_type": "markdown",
      "source": [
        "### **Question: Analyzing Bangkok Temperature Forecast Using NumPy**\n",
        "\n",
        "In this task, you will continue working with the weather forecast data retrieved in the previous question using the **Open-Meteo API**. You are required to process the temperature data using **NumPy**, focusing on calculating hourly and daily statistics.\n",
        "\n",
        "---\n",
        "\n",
        "### Part 1: Data Retrieval  \n",
        "Use the same data from the previous section. If needed, re-run the following code to acquire the hourly temperature forecast for **Bangkok**:\n",
        "\n",
        "```python\n",
        "import requests\n",
        "\n",
        "url = \"https://api.open-meteo.com/v1/forecast\"\n",
        "params = {\n",
        "    \"latitude\": 13.75,\n",
        "    \"longitude\": 100.5167,\n",
        "    \"hourly\": \"temperature_2m\",\n",
        "    \"timezone\": \"Asia/Bangkok\"\n",
        "}\n",
        "\n",
        "response = requests.get(url, params=params)\n",
        "data = response.json()\n",
        "```\n",
        "\n",
        "---\n",
        "\n",
        "### Part 2: Create a NumPy Array of Daily Temperatures  \n",
        "1. From the retrieved data, extract the hourly temperature list:\n",
        "2. Using **NumPy**, convert this list into a 2D array where:\n",
        "   - **Each row** represents a day.\n",
        "   - **Each column** represents an hour (0–23).\n",
        "   - You may need to trim the list so that the total number of values is divisible by 24.\n",
        "\n",
        "---\n",
        "\n",
        "### Part 3: Compute and Print Statistics  \n",
        "Use NumPy functions to compute the following:\n",
        "\n",
        "#### (1) For each **hour of the day** (e.g., across all days):\n",
        "- Minimum temperature\n",
        "- Maximum temperature\n",
        "- Average temperature\n",
        "\n",
        "#### (2) For each **day**:\n",
        "- Minimum temperature\n",
        "- Maximum temperature\n",
        "- Average temperature\n",
        "\n",
        "---\n",
        "\n",
        "### Part 4: Output  \n",
        "Your program must print the results clearly.\n",
        "\n",
        "Example output format:\n",
        "```\n",
        "Hourly Statistics (across days):\n",
        "Hour 0: Min=25.1, Max=29.5, Avg=27.3\n",
        "Hour 1: Min=24.9, Max=29.1, Avg=27.0\n",
        "...\n",
        "Hour 23: Min=26.2, Max=30.0, Avg=28.1\n",
        "\n",
        "Daily Statistics:\n",
        "Day 1: Min=25.0, Max=32.0, Avg=28.1\n",
        "Day 2: Min=24.7, Max=31.8, Avg=27.8\n",
        "...\n",
        "```\n",
        "\n",
        "---\n",
        "\n",
        "### Notes:\n",
        "- You **must use NumPy** for all calculations (e.g., `min`, `max`, `mean`).\n",
        "- Do **not** use loops for calculations.\n",
        "- Format your output so it is readable and professional.\n",
        "\n"
      ],
      "metadata": {
        "id": "hu2jJRMOVf-p"
      }
    },
    {
      "cell_type": "code",
      "source": [
        "# Write your code here\n",
        "\n",
        "\n",
        "\n",
        "\n",
        "\n",
        "\n",
        "\n",
        "\n",
        "\n"
      ],
      "metadata": {
        "id": "CcC53ZRNVn5t"
      },
      "execution_count": null,
      "outputs": []
    },
    {
      "cell_type": "markdown",
      "source": [
        "# Class"
      ],
      "metadata": {
        "id": "QwcWncycJ95O"
      }
    },
    {
      "cell_type": "markdown",
      "source": [
        "## Triangle\n",
        "\n",
        "**Question:**  \n",
        "Write a Python class named `Triangle` that represents a triangle with three sides. Your class should include:\n",
        "\n",
        "1. An `__init__` method that takes three side lengths as parameters: `a`, `b`, and `c`.\n",
        "2. A method `is_valid()` that returns `True` if the three sides can form a valid triangle (hint: use the triangle inequality theorem), otherwise returns `False`.\n",
        "3. A method `get_perimeter()` that returns the perimeter of the triangle.\n",
        "4. A method `get_type()` that returns one of the following strings based on the type of triangle:\n",
        "   - `\"Equilateral\"` if all sides are equal,\n",
        "   - `\"Isosceles\"` if exactly two sides are equal,\n",
        "   - `\"Scalene\"` if all sides are different.  \n",
        "   Additionally, if the triangle is also a **right triangle** (i.e., follows the Pythagorean theorem), append the suffix `\", Right Triangle\"` to the result.\n",
        "5. A special method `__lt__(self, rhs)` that allows comparing two Triangle objects using the `<` operator based on their perimeter. If `self` has a smaller perimeter than `other`, return `True`; otherwise, return `False`.\n",
        "\n",
        "### Testing Instructions:\n",
        "Create and test the following triangles:\n",
        "```python\n",
        "t1 = Triangle(3, 3, 3)\n",
        "t2 = Triangle(3, 4, 5)\n",
        "t3 = Triangle(1, 2, 3)\n",
        "```\n",
        "\n",
        "For each triangle, print:\n",
        "- Whether it's valid\n",
        "- Its type (if valid)\n",
        "- Its perimeter (if valid)\n",
        "\n",
        "Finally, compare the triangles:\n",
        "- Print whether `t1 < t2`\n",
        "- Print whether `t2 < t1`\n"
      ],
      "metadata": {
        "id": "SKQHbC9FKAIF"
      }
    },
    {
      "cell_type": "code",
      "execution_count": null,
      "metadata": {
        "id": "KBYz_ZpxJbte"
      },
      "outputs": [],
      "source": [
        "# Write your code here\n",
        "\n",
        "\n",
        "\n",
        "\n",
        "\n",
        "\n",
        "\n",
        "\n",
        "\n"
      ]
    }
  ]
}