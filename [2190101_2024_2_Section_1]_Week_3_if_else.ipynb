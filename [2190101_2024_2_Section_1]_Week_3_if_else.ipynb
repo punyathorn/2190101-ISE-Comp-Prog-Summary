{
  "nbformat": 4,
  "nbformat_minor": 0,
  "metadata": {
    "colab": {
      "provenance": []
    },
    "kernelspec": {
      "name": "python3",
      "display_name": "Python 3"
    },
    "language_info": {
      "name": "python"
    }
  },
  "cells": [
    {
      "cell_type": "code",
      "execution_count": null,
      "metadata": {
        "colab": {
          "base_uri": "https://localhost:8080/"
        },
        "id": "uBLlOpih1zB-",
        "outputId": "4194112b-5928-4762-8907-4612ee0eb260"
      },
      "outputs": [
        {
          "output_type": "stream",
          "name": "stdout",
          "text": [
            "20\n"
          ]
        }
      ],
      "source": [
        "a,b=10,20\n",
        "max_ab=a\n",
        "if b > max_ab:\n",
        "  max_ab=b\n",
        "print(max_ab)"
      ]
    },
    {
      "cell_type": "code",
      "source": [
        "a,b=10,20\n",
        "temp=a\n",
        "a=b\n",
        "b=temp\n",
        "print(a,b)"
      ],
      "metadata": {
        "colab": {
          "base_uri": "https://localhost:8080/"
        },
        "id": "h7FnWtbd5_wB",
        "outputId": "7f2c469e-a026-4063-e2e6-2f7b93f12375"
      },
      "execution_count": null,
      "outputs": [
        {
          "output_type": "stream",
          "name": "stdout",
          "text": [
            "20 10\n"
          ]
        }
      ]
    },
    {
      "cell_type": "code",
      "source": [
        "score=70\n",
        "if score >= 80:\n",
        "  grade = 'A'\n",
        "else:\n",
        "  # score is less than 80\n",
        "  if score >= 70:\n",
        "    grade = 'B'\n",
        "  else:\n",
        "    # score is less than 70\n",
        "    if score >= 60:\n",
        "      grade = 'C'\n",
        "    elif score >= 50:\n",
        "      grade = 'D'\n",
        "    else:\n",
        "      grade = 'F'\n",
        "print(grade)"
      ],
      "metadata": {
        "colab": {
          "base_uri": "https://localhost:8080/"
        },
        "id": "L2uhssYg6TAh",
        "outputId": "50be80fd-3104-45bb-94ac-de5f5724b0d1"
      },
      "execution_count": null,
      "outputs": [
        {
          "output_type": "stream",
          "name": "stdout",
          "text": [
            "B\n"
          ]
        }
      ]
    },
    {
      "cell_type": "code",
      "source": [
        "score=70\n",
        "if score >= 80:\n",
        "  grade = 'A'\n",
        "elif score >= 70:\n",
        "  grade = 'B'\n",
        "elif score >= 60:\n",
        "  grade = 'C'\n",
        "elif score >= 50:\n",
        "  grade = 'D'\n",
        "else:\n",
        "  grade = 'F'\n",
        "print(grade)"
      ],
      "metadata": {
        "id": "wHWsP2QU8UdP"
      },
      "execution_count": null,
      "outputs": []
    },
    {
      "cell_type": "code",
      "source": [
        "# >, <. >=, <=, ==, and, or, not"
      ],
      "metadata": {
        "id": "z1fz0pdW8vDS"
      },
      "execution_count": null,
      "outputs": []
    },
    {
      "cell_type": "code",
      "source": [
        "score=65\n",
        "if score >= 80:\n",
        "  grade = 'A'\n",
        "if score >= 70 and score < 80:\n",
        "  grade = 'B'\n",
        "if score >= 60 and score < 70:\n",
        "  grade = 'C'\n",
        "if score >= 50 and score < 60:\n",
        "  grade = 'D'\n",
        "if score < 50:\n",
        "  grade = 'F'\n",
        "print(grade)"
      ],
      "metadata": {
        "id": "CDcafhjZ8f12"
      },
      "execution_count": null,
      "outputs": []
    },
    {
      "cell_type": "code",
      "source": [
        "score=49\n",
        "if score >= 80:\n",
        "  grade = 'A'\n",
        "if 70 <= score < 80:\n",
        "  grade = 'B'\n",
        "if 60 <= score < 70:\n",
        "  grade = 'C'\n",
        "if 50 <= score < 60:\n",
        "  grade = 'D'\n",
        "if score < 50:\n",
        "  grade = 'F'\n",
        "print(grade)"
      ],
      "metadata": {
        "colab": {
          "base_uri": "https://localhost:8080/"
        },
        "id": "v1F4CDD_89ta",
        "outputId": "76311d64-c16d-4dc0-e7da-091263d9b989"
      },
      "execution_count": null,
      "outputs": [
        {
          "output_type": "stream",
          "name": "stdout",
          "text": [
            "F\n"
          ]
        }
      ]
    },
    {
      "cell_type": "code",
      "source": [
        "score=110\n",
        "if score > 100 or score < 0:\n",
        "  print('Invalid score')\n",
        "else:\n",
        "  if score >= 80:\n",
        "    grade = 'A'\n",
        "  if 70 <= score < 80:\n",
        "    grade = 'B'\n",
        "  if 60 <= score < 70:\n",
        "    grade = 'C'\n",
        "  if 50 <= score < 60:\n",
        "    grade = 'D'\n",
        "  if score < 50:\n",
        "    grade = 'F'\n",
        "  print(grade)"
      ],
      "metadata": {
        "colab": {
          "base_uri": "https://localhost:8080/"
        },
        "id": "HJew-MvM9UsF",
        "outputId": "13df2007-b7b7-46a1-a43c-989d1b0a0dda"
      },
      "execution_count": null,
      "outputs": [
        {
          "output_type": "stream",
          "name": "stdout",
          "text": [
            "Invalid score\n"
          ]
        }
      ]
    },
    {
      "cell_type": "code",
      "source": [
        "score=80\n",
        "if score > 100:\n",
        "  grade='Invalid score'\n",
        "if score < 0:\n",
        "  grade='Invalid score'\n",
        "if 80 <= score <= 100:\n",
        "  grade = 'A'\n",
        "if 70 <= score < 80:\n",
        "  grade = 'B'\n",
        "if 60 <= score < 70:\n",
        "  grade = 'C'\n",
        "if 50 <= score < 60:\n",
        "  grade = 'D'\n",
        "if 0 <= score < 50:\n",
        "  grade = 'F'\n",
        "print(grade)"
      ],
      "metadata": {
        "colab": {
          "base_uri": "https://localhost:8080/"
        },
        "id": "18EoWXLS9hAb",
        "outputId": "4778d626-04f1-4289-ab5b-309c6fc6153b"
      },
      "execution_count": null,
      "outputs": [
        {
          "output_type": "stream",
          "name": "stdout",
          "text": [
            "A\n"
          ]
        }
      ]
    },
    {
      "cell_type": "code",
      "source": [
        "if 12 in [12,20,40]:\n",
        "  print('Yes')\n",
        "else:\n",
        "  print('No')\n",
        "\n",
        "if 'hell' in 'hello world':\n",
        "  print('Yes')\n",
        "else:\n",
        "  print('No')\n",
        "\n",
        "if 'hell' in 'Hello World':\n",
        "  print('Yes')\n",
        "else:\n",
        "  print('No')\n",
        "\n",
        "if 'hell' in 'Hello World'.lower():\n",
        "  print('Yes')\n",
        "else:\n",
        "  print('No')"
      ],
      "metadata": {
        "colab": {
          "base_uri": "https://localhost:8080/"
        },
        "id": "db6c7X7V-YQL",
        "outputId": "cc0ece99-07fa-435f-c2fe-6401b3a8a82f"
      },
      "execution_count": null,
      "outputs": [
        {
          "output_type": "stream",
          "name": "stdout",
          "text": [
            "Yes\n",
            "Yes\n",
            "No\n",
            "Yes\n"
          ]
        }
      ]
    },
    {
      "cell_type": "code",
      "source": [
        "a=int(input())\n",
        "b=int(input())\n",
        "c=int(input())\n",
        "d=int(input())\n",
        "e=int(input())\n",
        "if a>b:\n",
        "  a,b=b,a\n",
        "if c > d:\n",
        "  c,d=d,c\n",
        "if a > c:\n",
        "  b,d=d,b\n",
        "  c=a\n",
        "a=e\n",
        "if a > b:\n",
        "  a,b=b,a\n",
        "if c > a:\n",
        "  b,d=d,b\n",
        "  a=c\n",
        "if a > d:\n",
        "  print(d)\n",
        "else:\n",
        "  print(a)"
      ],
      "metadata": {
        "colab": {
          "base_uri": "https://localhost:8080/"
        },
        "id": "SdXhUZ4x_A-K",
        "outputId": "762ca29b-8a70-4a1a-d6db-1a3c5b5690cc"
      },
      "execution_count": null,
      "outputs": [
        {
          "output_type": "stream",
          "name": "stdout",
          "text": [
            "0\n"
          ]
        }
      ]
    },
    {
      "cell_type": "code",
      "source": [
        "4*6/3,4/3*6,4*6//3"
      ],
      "metadata": {
        "colab": {
          "base_uri": "https://localhost:8080/"
        },
        "id": "oXlKMqM5Cqbh",
        "outputId": "2638e38d-c56b-4ef1-b367-a7f697298b40"
      },
      "execution_count": null,
      "outputs": [
        {
          "output_type": "execute_result",
          "data": {
            "text/plain": [
              "(8.0, 8.0, 8)"
            ]
          },
          "metadata": {},
          "execution_count": 27
        }
      ]
    },
    {
      "cell_type": "code",
      "source": [
        "(0.1+0.1+0.1)"
      ],
      "metadata": {
        "colab": {
          "base_uri": "https://localhost:8080/"
        },
        "id": "8KrnkGTfC-MT",
        "outputId": "617e9554-b139-47d1-d0ec-730e40860a5c"
      },
      "execution_count": null,
      "outputs": [
        {
          "output_type": "execute_result",
          "data": {
            "text/plain": [
              "0.30000000000000004"
            ]
          },
          "metadata": {},
          "execution_count": 33
        }
      ]
    },
    {
      "cell_type": "code",
      "source": [
        "(0.1+0.1+0.1)==0.3"
      ],
      "metadata": {
        "id": "s7kgoL06DUTP",
        "outputId": "9904a977-8d62-47d5-a875-f8d28a4bd750",
        "colab": {
          "base_uri": "https://localhost:8080/"
        }
      },
      "execution_count": null,
      "outputs": [
        {
          "output_type": "execute_result",
          "data": {
            "text/plain": [
              "False"
            ]
          },
          "metadata": {},
          "execution_count": 34
        }
      ]
    }
  ]
}