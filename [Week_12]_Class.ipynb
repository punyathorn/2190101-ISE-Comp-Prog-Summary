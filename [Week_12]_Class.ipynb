{
  "cells": [
    {
      "cell_type": "markdown",
      "metadata": {
        "id": "I8MtSbfMVTl9"
      },
      "source": [
        "# **Lecture12: Class & Objects in Python**\n",
        "\n",
        "![animation](https://c.tenor.com/bQCHJwgCNuMAAAAC/kitten-cat.gif)"
      ]
    },
    {
      "cell_type": "markdown",
      "metadata": {
        "id": "4D6JREwLVr-u"
      },
      "source": [
        "# Part1: Introduction"
      ]
    },
    {
      "cell_type": "markdown",
      "metadata": {
        "id": "H6MdTk3n8WfL"
      },
      "source": [
        "Each book contains name (title), ISBN, and price.<br>\n",
        "If we have many books, what should we do?"
      ]
    },
    {
      "cell_type": "code",
      "execution_count": null,
      "metadata": {
        "id": "Ukexw9XiVPaT"
      },
      "outputs": [],
      "source": [
        "name1 = \"Data Science\"\n",
        "ISBN1 = \"149190142X\"\n",
        "price1 = 28.79\n",
        "\n",
        "name2 = \"Learning Python\"\n",
        "ISBN2 = \"1449355730\"\n",
        "price2 = 37.06\n",
        "\n",
        "name3 = \"Data Analysis\"\n",
        "ISBN3 = \"1449319793\"\n",
        "price3 = 27.68"
      ]
    },
    {
      "cell_type": "code",
      "execution_count": null,
      "metadata": {
        "id": "3MV5IUjDWbN1",
        "colab": {
          "base_uri": "https://localhost:8080/"
        },
        "outputId": "9bcf8663-0263-41a1-dffb-f38be9c2e269"
      },
      "outputs": [
        {
          "output_type": "stream",
          "name": "stdout",
          "text": [
            "93.53\n"
          ]
        }
      ],
      "source": [
        "#------------------------------------\n",
        "# Solution1: tuple\n",
        "#------------------------------------\n",
        "\n",
        "# ----- functions -----\n",
        "def total_price( books ):\n",
        "   s = 0\n",
        "   for b in books:\n",
        "       s += b[2]\n",
        "   return s\n",
        "\n",
        "# ----- main -----\n",
        "b1 = (\"Data Science\",    \"149190142X\", 28.79)\n",
        "b2 = (\"Learning Python\", \"1449355730\", 37.06)\n",
        "b3 = (\"Data Analysis\",   \"1449319793\", 27.68)\n",
        "books =  [b1, b2, b3]\n",
        "print(total_price( books ))"
      ]
    },
    {
      "cell_type": "code",
      "execution_count": null,
      "metadata": {
        "colab": {
          "base_uri": "https://localhost:8080/"
        },
        "id": "0f18K4VfXZM-",
        "outputId": "a10d0569-4256-4fcd-ed30-84f11ab0de30"
      },
      "outputs": [
        {
          "output_type": "stream",
          "name": "stdout",
          "text": [
            "93.53\n"
          ]
        }
      ],
      "source": [
        "#------------------------------------\n",
        "# Solution2: dict\n",
        "#------------------------------------\n",
        "\n",
        "# ----- functions -----\n",
        "def total_price( books ):\n",
        "   s = 0\n",
        "   for b in books:\n",
        "       s += b[\"price\"]\n",
        "   return s\n",
        "\n",
        "# ----- main -----\n",
        "b1 = {\"title\":\"Data Science\", \"isbn\":\"1408142X\", \"price\": 28.79}\n",
        "b2 = {\"title\":\"Easy Python\",  \"isbn\":\"14455730\", \"price\": 37.06}\n",
        "b3 = {\"title\":\"Big Data\",     \"isbn\":\"14493793\", \"price\": 27.68}\n",
        "books = [b1, b2, b3]\n",
        "print(total_price( books ))"
      ]
    },
    {
      "cell_type": "markdown",
      "metadata": {
        "id": "z9azKH3gS5x_"
      },
      "source": [
        "A **class** is a code template for creating objects. You can also think of class as user-defined data type.\n",
        "\n",
        "**Objects** are variables created from class (template)."
      ]
    },
    {
      "cell_type": "code",
      "execution_count": null,
      "metadata": {
        "colab": {
          "base_uri": "https://localhost:8080/"
        },
        "id": "BXKnpoNAW7vt",
        "outputId": "365212f9-d0f5-4078-bca1-d12a18fc40b7"
      },
      "outputs": [
        {
          "output_type": "stream",
          "name": "stdout",
          "text": [
            "Data Science 149190142X 28.79\n",
            "37.06\n"
          ]
        }
      ],
      "source": [
        "#------------------------------------\n",
        "# Solution3: Class\n",
        "# https://pythontutor.com/\n",
        "#------------------------------------\n",
        "\n",
        "# ----- class -----\n",
        "class Book:\n",
        "   # this is also called \"constructor\" - how to create object!\n",
        "   def __init__(self, t, i, p):\n",
        "      self.title = t\n",
        "      self.isbn  = i\n",
        "      self.price = p\n",
        "\n",
        "# ----- main -----\n",
        "# create 3 books (objects) with one class (Book)\n",
        "b1 = Book(\"Data Science\",   \"149190142X\", 28.79)\n",
        "b2 = Book(\"Learning Python\",\"1449355730\", 37.06)\n",
        "b3 = Book(\"Data Analysis\",  \"1449319793\", 27.68)\n",
        "\n",
        "books = [b1, b2, b3]\n",
        "\n",
        "print(b1.title, b1.isbn, b1.price)\n",
        "print(b2.price)"
      ]
    },
    {
      "cell_type": "markdown",
      "metadata": {
        "id": "_ZFuWU1L-kvt"
      },
      "source": [
        "##Exercise1: Student class (v1)\n",
        "\n",
        "Create Student class, where each student contains ID and name. Also, create two students (objects)."
      ]
    },
    {
      "cell_type": "code",
      "execution_count": null,
      "metadata": {
        "colab": {
          "base_uri": "https://localhost:8080/"
        },
        "id": "fOyPOA9r-zK3",
        "outputId": "39dd44f8-c94e-48af-815b-33135845cf71"
      },
      "outputs": [
        {
          "output_type": "stream",
          "name": "stdout",
          "text": [
            "John Marry\n"
          ]
        }
      ],
      "source": [
        "# ----- class -----\n",
        "class Student:\n",
        "   def __init__(self, ii, nn):\n",
        "     self.ID = ii\n",
        "     self.name = nn\n",
        "\n",
        "# ----- main -----\n",
        "s1 = Student('0001', 'John')\n",
        "s2 = Student('0002', 'Marry')\n",
        "print(s1.name, s2.name)"
      ]
    },
    {
      "cell_type": "code",
      "execution_count": null,
      "metadata": {
        "colab": {
          "base_uri": "https://localhost:8080/"
        },
        "id": "GrXde59G_OxE",
        "outputId": "2b6e92db-083f-44ca-a7b8-4e3183fe459b"
      },
      "outputs": [
        {
          "output_type": "stream",
          "name": "stdout",
          "text": [
            "Mark Zuckerberg Lisa Blackpink\n",
            "6438027021 6438073821\n"
          ]
        }
      ],
      "source": [
        "#@title solution\n",
        "# ----- class -----\n",
        "# https://pythontutor.com/\n",
        "class Student:\n",
        "   def __init__(self, ID, name):\n",
        "     self.ID = ID\n",
        "     self.name = name\n",
        "\n",
        "# ----- main -----\n",
        "s1 = Student(\"6438027021\", \"Mark Zuckerberg\")\n",
        "s2 = Student(\"6438073821\", \"Lisa Blackpink\")\n",
        "print(s1.name, s2.name)\n",
        "print(s1.ID, s2.ID)"
      ]
    },
    {
      "cell_type": "markdown",
      "metadata": {
        "id": "4YQe3CDgjN4b"
      },
      "source": [
        "#Part2: Sample Basic Classes\n",
        "\n",
        "There are 6 sample classes.<br>"
      ]
    },
    {
      "cell_type": "code",
      "execution_count": null,
      "metadata": {
        "colab": {
          "base_uri": "https://localhost:8080/"
        },
        "id": "mroi5hb7jDu2",
        "outputId": "af359d65-52c5-4d60-e105-1becdc2e20ae"
      },
      "outputs": [
        {
          "output_type": "stream",
          "name": "stdout",
          "text": [
            "10 23\n"
          ]
        }
      ],
      "source": [
        "# Sample1\n",
        "class Point:\n",
        "    def __init__(self, xx, yy):\n",
        "        self.x = xx\n",
        "        self.y = yy\n",
        "\n",
        "p = Point(10, 23)\n",
        "print(p.x, p.y)"
      ]
    },
    {
      "cell_type": "code",
      "execution_count": null,
      "metadata": {
        "colab": {
          "base_uri": "https://localhost:8080/"
        },
        "id": "8v4nR1LhjWhL",
        "outputId": "6765d258-edd3-4053-b6f3-e7fa99239f13"
      },
      "outputs": [
        {
          "output_type": "stream",
          "name": "stdout",
          "text": [
            "2\n",
            "5\n"
          ]
        }
      ],
      "source": [
        "# Sample2\n",
        "class Date:\n",
        "    def __init__(self, d, m, y):\n",
        "        self.day = d\n",
        "        self.month = m\n",
        "        self.year = y\n",
        "#=======\n",
        "d = Date(14, 2, 2021)\n",
        "d2 = Date(5,5,2024)\n",
        "\n",
        "print(d.month)\n",
        "print(d2.month)"
      ]
    },
    {
      "cell_type": "code",
      "execution_count": null,
      "metadata": {
        "colab": {
          "base_uri": "https://localhost:8080/"
        },
        "id": "bBOWwe3zjZap",
        "outputId": "809a3445-4612-42da-fb25-e143617869d1"
      },
      "outputs": [
        {
          "output_type": "stream",
          "name": "stdout",
          "text": [
            "Hello 0\n",
            "Hello 10\n"
          ]
        }
      ],
      "source": [
        "# Sample3\n",
        "class Song:\n",
        "    # There are 4 properties/variables, but user just needs to define only 3 inputs.\n",
        "    def __init__(self, title, a, ly):\n",
        "        self.title  = title\n",
        "        self.artist = a\n",
        "        self.lyrics = ly\n",
        "        self.nviews = 0 # this property was provided with a default value 0\n",
        "\n",
        "# === main\n",
        "x = Song(\"Hello\", \"Adele\", \"\")\n",
        "print(x.title, x.nviews)\n",
        "x.nviews += 10\n",
        "print(x.title, x.nviews)\n"
      ]
    },
    {
      "cell_type": "code",
      "execution_count": null,
      "metadata": {
        "colab": {
          "base_uri": "https://localhost:8080/"
        },
        "id": "QQLpBDrLjoho",
        "outputId": "c4aad3dc-3fe5-488a-d877-f3efa93cc278"
      },
      "outputs": [
        {
          "output_type": "stream",
          "name": "stdout",
          "text": [
            "Peerapon\n"
          ]
        }
      ],
      "source": [
        "# Sample4\n",
        "class BankAccount:\n",
        "    def __init__(self, no, name, b):\n",
        "        self.acc_no   = no\n",
        "        self.acc_name = name\n",
        "        self.balance  = b\n",
        "#====\n",
        "b = BankAccount(\"101\", \"Peerapon\", 1000)\n",
        "print(b.acc_name)"
      ]
    },
    {
      "cell_type": "code",
      "execution_count": null,
      "metadata": {
        "colab": {
          "base_uri": "https://localhost:8080/"
        },
        "id": "voWQ_SpEjzEJ",
        "outputId": "ed28b6ea-41f0-49d3-c5f2-0f1ed293062b"
      },
      "outputs": [
        {
          "output_type": "stream",
          "name": "stdout",
          "text": [
            "1\n",
            "2\n"
          ]
        }
      ],
      "source": [
        "# Sample5\n",
        "class Rectangle:\n",
        "    def __init__(self, lower_left, w, h):\n",
        "        self.lower_left = lower_left # class Point\n",
        "        self.height = h\n",
        "        self.width  = w\n",
        "\n",
        "#====main\n",
        "pp = Point(1,2)\n",
        "\n",
        "r = Rectangle(pp, 4, 5)\n",
        "\n",
        "print(r.lower_left.x)\n",
        "print(r.lower_left.y)"
      ]
    },
    {
      "cell_type": "code",
      "execution_count": null,
      "metadata": {
        "colab": {
          "base_uri": "https://localhost:8080/"
        },
        "id": "Gf9lbaaFj8Iw",
        "outputId": "bd5ee760-6bff-47ab-9c28-83888287adb2"
      },
      "outputs": [
        {
          "output_type": "stream",
          "name": "stdout",
          "text": [
            "[]\n",
            "['John', 'Marry']\n"
          ]
        }
      ],
      "source": [
        "# Sample6\n",
        "class Course:\n",
        "    # There are 3 properties, but user just needs to define only 2 inputs.\n",
        "    def __init__(self, ID, name):\n",
        "        self.ID = ID\n",
        "        self.name = name\n",
        "        self.students = [] # empty list\n",
        "\n",
        "#==== main\n",
        "c1 = Course(\"2190101\", \"Computer Programming\")\n",
        "print(c1.students)\n",
        "c1.students.append('John')\n",
        "c1.students.append('Marry')\n",
        "print(c1.students)"
      ]
    },
    {
      "cell_type": "markdown",
      "metadata": {
        "id": "l3f0AgVGFfdS"
      },
      "source": [
        "<font color=red>Unlike Java, Python doesn't support overloading methods, two methods the same names.</font>"
      ]
    },
    {
      "cell_type": "code",
      "execution_count": null,
      "metadata": {
        "id": "LW5JvENYFeq1",
        "colab": {
          "base_uri": "https://localhost:8080/"
        },
        "outputId": "500af90c-dba6-4ace-9e47-d664f7c5c34f"
      },
      "outputs": [
        {
          "output_type": "stream",
          "name": "stdout",
          "text": [
            "<__main__.Point3D object at 0x7a54abd69d90>\n"
          ]
        }
      ],
      "source": [
        "# After uncomment, can we run this code?\n",
        "class Point3D:\n",
        "    def __init__(self, x, y):\n",
        "        self.x = x\n",
        "        self.y = y\n",
        "        self.z = 0\n",
        "\n",
        "    '''def __init__(self, x, y, z):\n",
        "         self.x = x\n",
        "         self.y = y\n",
        "         self.z = z\n",
        "    def __init__(self, x, y, z, m):\n",
        "         self.x = x\n",
        "         self.y = y\n",
        "         self.z = z'''\n",
        "\n",
        "#====main\n",
        "p = Point3D(10, 23)\n",
        "print(p)\n"
      ]
    },
    {
      "cell_type": "markdown",
      "metadata": {
        "id": "tNoKORilDa7M"
      },
      "source": [
        "##Exercise2: Student class (v2)\n",
        "\n",
        "Update Student class in Exercise1 to 3 properties including ID, name, score. Create a constructor with two user-defined inputs: ID & name, where score is initiazed with 0."
      ]
    },
    {
      "cell_type": "code",
      "execution_count": null,
      "metadata": {
        "colab": {
          "base_uri": "https://localhost:8080/"
        },
        "id": "BxGP9O2eEB6N",
        "outputId": "92245fee-54f3-48e8-cda8-ea2accacbd38"
      },
      "outputs": [
        {
          "output_type": "stream",
          "name": "stdout",
          "text": [
            "0\n"
          ]
        }
      ],
      "source": [
        "# ----- class -----\n",
        "class Student:\n",
        "   def __init__(self, ID, name): # <= this is called constructor\n",
        "     self.ID = ID\n",
        "     self.name = name\n",
        "     self.score = 0\n",
        "\n",
        "# ----- main -----\n",
        "s1 = Student('001', 'John')\n",
        "print(s1.score)\n"
      ]
    },
    {
      "cell_type": "code",
      "execution_count": null,
      "metadata": {
        "colab": {
          "base_uri": "https://localhost:8080/"
        },
        "id": "CVJTCw3rEDfG",
        "outputId": "f278ef03-5738-4d85-ea80-63b434cb8f9b"
      },
      "outputs": [
        {
          "output_type": "stream",
          "name": "stdout",
          "text": [
            "6438027021 Mark Zuckerberg 0\n",
            "6438073821 Lisa Blackpink 0\n"
          ]
        }
      ],
      "source": [
        "#@title solution\n",
        "# ----- class -----\n",
        "# https://pythontutor.com/\n",
        "class Student:\n",
        "   def __init__(self, ID, name):\n",
        "     self.ID = ID\n",
        "     self.name = name\n",
        "     self.score = 0\n",
        "\n",
        "# ----- main -----\n",
        "s1 = Student(\"6438027021\", \"Mark Zuckerberg\")\n",
        "s2 = Student(\"6438073821\", \"Lisa Blackpink\")\n",
        "print(s1.ID, s1.name, s1.score)\n",
        "print(s2.ID, s2.name, s2.score)"
      ]
    },
    {
      "cell_type": "markdown",
      "metadata": {
        "id": "dOeqC10Skl3h"
      },
      "source": [
        "#Part3: How to use object (access & update)\n",
        "\n",
        "<font color=red>object</font><font color=blue>.property</font>\n",
        "\n",
        "<font color=red>c</font><font color=blue>.radius</font><br>\n",
        "<font color=red>c</font><font color=blue>.center</font>"
      ]
    },
    {
      "cell_type": "code",
      "execution_count": null,
      "metadata": {
        "colab": {
          "base_uri": "https://localhost:8080/"
        },
        "id": "ORrdP63DkfZE",
        "outputId": "6e1221d8-9835-461d-f356-48467f5c524d"
      },
      "outputs": [
        {
          "output_type": "stream",
          "name": "stdout",
          "text": [
            "3\n",
            "4\n",
            "200\n"
          ]
        }
      ],
      "source": [
        "# Sample1: Point & Circle\n",
        "# ----- class -----\n",
        "class Point:\n",
        "    def __init__(self, x, y):\n",
        "        self.x = x\n",
        "        self.y = y\n",
        "\n",
        "class Circle:\n",
        "    def __init__(self, p, r):\n",
        "        self.center = p # Point\n",
        "        self.radius = r\n",
        "\n",
        "# ----- main -----\n",
        "c = Circle( Point(2,30), 100 )\n",
        "\n",
        "c.radius = 200\n",
        "c.center = Point(2, 4)\n",
        "c.center.x = 3\n",
        "print(c.center.x)\n",
        "print(c.center.y)\n",
        "print(c.radius)\n",
        "\n"
      ]
    },
    {
      "cell_type": "code",
      "execution_count": null,
      "metadata": {
        "colab": {
          "base_uri": "https://localhost:8080/"
        },
        "id": "X0JJvlkIlSfV",
        "outputId": "17183c57-a6eb-4c45-84f6-9a9f7977b2a9"
      },
      "outputs": [
        {
          "output_type": "stream",
          "name": "stdout",
          "text": [
            "Data Science\n",
            "28.79\n",
            "23.032\n"
          ]
        }
      ],
      "source": [
        "# Sample2: Book\n",
        "# ----- class -----\n",
        "class Book:\n",
        "  def __init__(self, title, isbn, price):\n",
        "    self.title = title\n",
        "    self.isbn  = isbn\n",
        "    self.price = price\n",
        "\n",
        "# ----- main -----\n",
        "b1 = Book(\"Data Science\", \"149190142X\", 28.79)\n",
        "\n",
        "print( b1.title )\n",
        "\n",
        "print( b1.price )\n",
        "b1.price *= 0.80\n",
        "print( b1.price )"
      ]
    },
    {
      "cell_type": "code",
      "execution_count": null,
      "metadata": {
        "colab": {
          "base_uri": "https://localhost:8080/"
        },
        "id": "gDk3_M8-wb_P",
        "outputId": "ac68abc4-9e21-4474-81e1-a09944249770"
      },
      "outputs": [
        {
          "output_type": "stream",
          "name": "stdout",
          "text": [
            "original price 28.79\n",
            "original price 37.06\n",
            "original price 27.68\n",
            "discount price 25.911\n",
            "discount price 33.354000000000006\n",
            "discount price 24.912\n",
            "min price 24.912\n",
            "None\n"
          ]
        }
      ],
      "source": [
        "# Sample2-2: add functions for Book\n",
        "# ----- functions -----\n",
        "# no return value\n",
        "def discount( books, p ):\n",
        "  for b in books:\n",
        "     b.price *= (1 - p/100)\n",
        "\n",
        "# return a signle value (price)\n",
        "def get_min_price( books ):\n",
        "  return min([b.price for b in books])\n",
        "\n",
        "# return object\n",
        "def search( books, isbn ):\n",
        "  for b in books:\n",
        "    if isbn == b.isbn:\n",
        "      return b\n",
        "  return None\n",
        "\n",
        "#==== main\n",
        "b1 = Book(\"Data Science\",    \"149190142X\", 28.79)\n",
        "b2 = Book(\"Learning Python\", \"1449355730\", 37.06)\n",
        "b3 = Book(\"Data Analysis\",   \"1449319793\", 27.68)\n",
        "books = [b1, b2, b3]\n",
        "for a in books:\n",
        "  print('original price', a.price)\n",
        "\n",
        "discount(books, 10)\n",
        "for a in books:\n",
        "  print('discount price', a.price)\n",
        "\n",
        "print('min price', get_min_price(books))\n",
        "print(search(books, '14493'))"
      ]
    },
    {
      "cell_type": "markdown",
      "metadata": {
        "id": "Sy7JJ7qUHt5w"
      },
      "source": [
        "##Exercise3: Student class (v3): calling properties\n",
        "\n",
        "Create a function add_extra_score(student, extra) to Student. Call the function to add 20 points to s1."
      ]
    },
    {
      "cell_type": "code",
      "execution_count": null,
      "metadata": {
        "colab": {
          "base_uri": "https://localhost:8080/"
        },
        "id": "F7Y7it4vmPju",
        "outputId": "aa59059a-e214-4839-a51a-d7624cae69a0"
      },
      "outputs": [
        {
          "output_type": "stream",
          "name": "stdout",
          "text": [
            "93.53\n"
          ]
        }
      ],
      "source": [
        "# Sample2-1: add functions for Book\n",
        "# ----- functions -----\n",
        "def total_price( books ):\n",
        "   s = 0\n",
        "   for book in books:\n",
        "       s += book.price\n",
        "   return s\n",
        "\n",
        "# ----- main -----\n",
        "b1 = Book(\"Data Science\",    \"149190142X\", 28.79)\n",
        "b2 = Book(\"Learning Python\", \"1449355730\", 37.06)\n",
        "b3 = Book(\"Data Analysis\",   \"1449319793\", 27.68)\n",
        "\n",
        "print( total_price( [b1, b2, b3] ) )"
      ]
    },
    {
      "cell_type": "code",
      "execution_count": null,
      "metadata": {
        "colab": {
          "base_uri": "https://localhost:8080/"
        },
        "id": "QyUFGkVSICQR",
        "outputId": "cea0408e-3336-4a0e-a312-4e3a22c92e39"
      },
      "outputs": [
        {
          "output_type": "stream",
          "name": "stdout",
          "text": [
            "original score 0\n",
            "score with extra 10\n"
          ]
        }
      ],
      "source": [
        "# ----- 1) class -----\n",
        "class Student:\n",
        "  def __init__(self, ID, name):\n",
        "    self.ID = ID\n",
        "    self.name = name\n",
        "    self.scores = 0\n",
        "\n",
        "# ----- 2) function -----\n",
        "def add_extra_score(s, extra):\n",
        "    s.scores += extra\n",
        "\n",
        "# ----- 3) main -----\n",
        "s1 = Student(\"6438027021\", \"Mark Zuckerberg\")\n",
        "print('original score', s1.scores)\n",
        "# add your code to add extra 20 points\n",
        "add_extra_score(s1, 10)\n",
        "print('score with extra', s1.scores)"
      ]
    },
    {
      "cell_type": "code",
      "execution_count": null,
      "metadata": {
        "colab": {
          "base_uri": "https://localhost:8080/"
        },
        "id": "adXZEtgHINue",
        "outputId": "b3e0d83d-b974-45be-d995-e8ea705f6df0"
      },
      "outputs": [
        {
          "output_type": "stream",
          "name": "stdout",
          "text": [
            "original score 0\n",
            "extra score 20\n"
          ]
        }
      ],
      "source": [
        "#@title solution\n",
        "# ----- 1) class -----\n",
        "# https://pythontutor.com/\n",
        "class Student:\n",
        "   def __init__(self, ID, name):\n",
        "     self.ID = ID\n",
        "     self.name = name\n",
        "     self.score = 0\n",
        "\n",
        "# ----- 2) function -----\n",
        "def add_extra_score(s, extra):\n",
        "  s.score += extra\n",
        "\n",
        "# ----- 3) main -----\n",
        "s1 = Student(\"6438027021\", \"Mark Zuckerberg\")\n",
        "s2 = Student(\"6438073821\", \"Lisa Blackpink\")\n",
        "\n",
        "print('original score', s1.score)\n",
        "add_extra_score(s1, 20)\n",
        "print('extra score', s1.score)"
      ]
    },
    {
      "cell_type": "markdown",
      "metadata": {
        "id": "---N4raYw9a3"
      },
      "source": [
        "#Part4: Functions vs. Methods"
      ]
    },
    {
      "cell_type": "code",
      "execution_count": null,
      "metadata": {
        "colab": {
          "base_uri": "https://localhost:8080/"
        },
        "id": "E0j1FvlPwmnQ",
        "outputId": "e20d0cff-840f-44f9-9800-a6ecfe9c9618"
      },
      "outputs": [
        {
          "output_type": "stream",
          "name": "stdout",
          "text": [
            "(2,4) (3,5)\n",
            "d =  1.41\n",
            "<__main__.Point object at 0x7dd44ed1a910>\n",
            "<__main__.Point object at 0x7dd44ed18190>\n"
          ]
        }
      ],
      "source": [
        "#------------------------------------\n",
        "# Part4-1) Class with no methods\n",
        "# Methods outside class (not recommend)\n",
        "#------------------------------------\n",
        "# ----- 1) class -----\n",
        "class Point:\n",
        "  def __init__(self, x, y):\n",
        "    self.x = x\n",
        "    self.y = y\n",
        "\n",
        "# ----- 2) functions -----\n",
        "def distance(p1, p2):\n",
        "   dx = p1.x - p2.x\n",
        "   dy = p1.y - p2.y\n",
        "   return (dx**2+dy**2)**0.5\n",
        "\n",
        "def to_str(p):\n",
        "   return \"(\" + str(p.x) + \\\n",
        "          \",\" + str(p.y) + \")\"\n",
        "\n",
        "# ----- 3) main -----\n",
        "p1 = Point(2,4)\n",
        "p2 = Point(3,5)\n",
        "d  = round(distance(p1, p2),2)\n",
        "print( to_str(p1), to_str(p2) )\n",
        "print('d = ', d)\n",
        "print(p1)\n",
        "print(p2)"
      ]
    },
    {
      "cell_type": "code",
      "source": [
        "#------------------------------------\n",
        "# Part4-1) Class with no methods\n",
        "# Methods outside class (not recommend)\n",
        "#------------------------------------\n",
        "# ----- 1) class -----\n",
        "class Point:\n",
        "  def __init__(self, x, y):\n",
        "    self.x = x\n",
        "    self.y = y\n",
        "  def __str__(self):\n",
        "    return \"(\" + str(self.x) + \\\n",
        "          \",\" + str(self.y) + \")\"\n",
        "\n",
        "# ----- 2) functions -----\n",
        "def distance(p1, p2):\n",
        "   dx = p1.x - p2.x\n",
        "   dy = p1.y - p2.y\n",
        "   return (dx**2+dy**2)**0.5\n",
        "\n",
        "# ----- 3) main -----\n",
        "p1 = Point(2,4)\n",
        "p2 = Point(3,5)\n",
        "d  = round(distance(p1, p2),2)\n",
        "print('d = ', d)\n",
        "print(p1)\n",
        "print(p2)"
      ],
      "metadata": {
        "colab": {
          "base_uri": "https://localhost:8080/"
        },
        "id": "R8uuCPJ3KlcT",
        "outputId": "d6d38e48-b403-44b5-bb91-96d149d902ce"
      },
      "execution_count": null,
      "outputs": [
        {
          "output_type": "stream",
          "name": "stdout",
          "text": [
            "d =  1.41\n",
            "(2,4)\n",
            "(3,5)\n"
          ]
        }
      ]
    },
    {
      "cell_type": "markdown",
      "metadata": {
        "id": "CP1S4YNLJTNm"
      },
      "source": [
        "**Class contains two components:**\n",
        "\n",
        "\n",
        "*   Properties (also called fields) - variables\n",
        "*   Methods (also called actions) - functions\n",
        "\n"
      ]
    },
    {
      "cell_type": "code",
      "execution_count": null,
      "metadata": {
        "colab": {
          "base_uri": "https://localhost:8080/"
        },
        "id": "0eE7eJNexLTl",
        "outputId": "e87894a6-fb1a-4c9f-c3cb-f641fc1f7d6b"
      },
      "outputs": [
        {
          "output_type": "stream",
          "name": "stdout",
          "text": [
            "1.4142135623730951\n",
            "1.4142135623730951\n",
            "(2,4)\n",
            "+++++\n",
            "(3,5)\n"
          ]
        }
      ],
      "source": [
        "#------------------------------------\n",
        "# Part4-2) Class with methods\n",
        "# Methods inside class (recommend)\n",
        "#------------------------------------\n",
        "# https://pythontutor.com/\n",
        "\n",
        "# ----- 1) class -----\n",
        "class Point:\n",
        "  def __init__(self, x, y):\n",
        "    self.x = x\n",
        "    self.y = y\n",
        "\n",
        "  def distance(self, p): # this becomes object's method\n",
        "     dx = self.x - p.x\n",
        "     dy = self.y - p.y\n",
        "     return (dx**2+dy**2)**0.5\n",
        "\n",
        "  def __str__(self): # this becomes object's method\n",
        "   return \"(\" + str(self.x) + \\\n",
        "          \",\" + str(self.y) + \")\"\n",
        "\n",
        "# ----- 2) main -----\n",
        "p1 = Point(2,4)\n",
        "p2 = Point(3,5)\n",
        "\n",
        "d  = p1.distance(p2) # call method\n",
        "print(d)\n",
        "d1 = p2.distance(p1)\n",
        "print(d1)\n",
        "#print( p1.to_str(), p2.to_str() ) # call method\n",
        "print(p1)\n",
        "print('+++++')\n",
        "print(p2)"
      ]
    },
    {
      "cell_type": "code",
      "execution_count": null,
      "metadata": {
        "colab": {
          "base_uri": "https://localhost:8080/"
        },
        "id": "68-F_DxkxYuM",
        "outputId": "0b170764-c5c3-4f6c-f8cd-06f83a683fe8"
      },
      "outputs": [
        {
          "output_type": "stream",
          "name": "stdout",
          "text": [
            "a =  [1, 2, 3, 4]\n",
            "s =  {1, 2, 99, 3, 4}\n",
            "s after union {1, 2, 99, 3, 4, 5}\n"
          ]
        }
      ],
      "source": [
        "#------------------------------------\n",
        "# Part4-3) existing python class & methods\n",
        "# Functions vs. Class Methods\n",
        "#------------------------------------\n",
        "\n",
        "# ----- Part1) just call functions -----\n",
        "a = [1,2,3,4]\n",
        "k = len(a)\n",
        "\n",
        "print('a = ', a)\n",
        "s = sum(a)\n",
        "b = sorted(a)\n",
        "\n",
        "\n",
        "# just call functions in other modules\n",
        "import math\n",
        "import numpy as np\n",
        "\n",
        "k = math.sin(1)\n",
        "d = np.ndarray((2,3))\n",
        "\n",
        "# ----- Part2) call method from objects -----\n",
        "# Actually, we have been using class/objects :)\n",
        "\n",
        "# list is class.\n",
        "a = [1,2,3,4] # a = Book(\"xx\", \"tt\", 12.01)\n",
        "a.sort()\n",
        "a.append(99)\n",
        "\n",
        "# string is class.\n",
        "t = \"aBc\" # t is a string object # t = String('...')\n",
        "u = t.upper() # call the string object's method\n",
        "v = t.lower()\n",
        "k = t.find(\"B\")\n",
        "\n",
        "# set is class.\n",
        "s = set(a) # s is a set object\n",
        "print('s = ', s)\n",
        "s = s.union([3,5]) # union is a set object's method\n",
        "print('s after union', s)"
      ]
    },
    {
      "cell_type": "code",
      "execution_count": null,
      "metadata": {
        "colab": {
          "base_uri": "https://localhost:8080/"
        },
        "id": "eVDFuTVdzuLT",
        "outputId": "1a652fbb-2823-4b36-8e57-5fe76fd8de80"
      },
      "outputs": [
        {
          "output_type": "stream",
          "name": "stdout",
          "text": [
            "1-034-567-892 500\n",
            "1-034-567-892 1500\n",
            "1-034-567-892 1350\n"
          ]
        }
      ],
      "source": [
        "#------------------------------------\n",
        "# Part4-4) BankAccount class (v1)\n",
        "# - There are 3 properties, 1 constructor, 2 methods\n",
        "#------------------------------------\n",
        "\n",
        "# ----- 1) class -----\n",
        "class BankAccount:\n",
        "    def __init__ (self, acc_no, acc_name, balance):\n",
        "        self.acc_no   = acc_no\n",
        "        self.acc_name = acc_name\n",
        "        self.balance  = balance\n",
        "\n",
        "    def deposit(self, amount):\n",
        "        if amount > 0:\n",
        "          self.balance += amount\n",
        "\n",
        "    def withdraw(self, amount):\n",
        "        if 0 < amount <= self.balance:\n",
        "          self.balance -= amount\n",
        "\n",
        "# ----- 2) main -----\n",
        "a1 = BankAccount(\"1-034-567-892\", \"Mark Zuckerberg\", 500)\n",
        "print(a1.acc_no, a1.balance)\n",
        "a1.deposit(1000)\n",
        "print(a1.acc_no, a1.balance)\n",
        "a1.withdraw(150)\n",
        "print(a1.acc_no, a1.balance)"
      ]
    },
    {
      "cell_type": "code",
      "execution_count": null,
      "metadata": {
        "colab": {
          "base_uri": "https://localhost:8080/"
        },
        "id": "zhICiwt70CBg",
        "outputId": "5c3325d8-62ba-4f70-95f7-5f9193af7852"
      },
      "outputs": [
        {
          "output_type": "stream",
          "name": "stdout",
          "text": [
            "original 1000 500\n",
            "after transfer 800 700\n"
          ]
        }
      ],
      "source": [
        "#------------------------------------\n",
        "# Part4-4) BankAccount class (v2): call other methods\n",
        "# - There are 3 properties, 1 constructor, 3 methods\n",
        "# - adding transfer_to()\n",
        "#------------------------------------\n",
        "\n",
        "# ----- 1) class -----\n",
        "class BankAccount:\n",
        "    def __init__ (self, acc_no, acc_name, balance):\n",
        "        self.acc_no   = acc_no\n",
        "        self.acc_name = acc_name\n",
        "        self.balance  = balance\n",
        "\n",
        "    def deposit(self, amount):\n",
        "        if amount > 0:\n",
        "          self.balance += amount\n",
        "\n",
        "    def withdraw(self, amount):\n",
        "        if 0 < amount <= self.balance:\n",
        "          self.balance -= amount\n",
        "\n",
        "    def transfer_to(self, acc, amount):\n",
        "        if 0 <= amount <= self.balance:\n",
        "            self.withdraw( amount )\n",
        "            acc.deposit( amount )\n",
        "\n",
        "# ----- 2) main -----\n",
        "a1 = BankAccount(\"1-034-567-892\", \"Mark Zuckerberg\", 1000)\n",
        "a2 = BankAccount(\"1-034-567-900\", \"Lisa Blackpink\", 500)\n",
        "print('original', a1.balance, a2.balance)\n",
        "a1.transfer_to(a2, 200)\n",
        "print('after transfer', a1.balance, a2.balance)"
      ]
    },
    {
      "cell_type": "code",
      "execution_count": null,
      "metadata": {
        "colab": {
          "base_uri": "https://localhost:8080/"
        },
        "id": "fImQOTFU0WTC",
        "outputId": "cbb3d9c1-afa7-4ab7-d209-16220f331e1f"
      },
      "outputs": [
        {
          "output_type": "stream",
          "name": "stdout",
          "text": [
            "a= 2 b= 1\n",
            "a= 1 b= 0\n",
            "a= 8 b= 4\n",
            "a= 4 b= 0\n",
            "1 2\n",
            "1 2\n",
            "a= 9 b= 6\n",
            "a= 6 b= 3\n",
            "a= 3 b= 0\n",
            "aa 3\n"
          ]
        }
      ],
      "source": [
        "#------------------------------------\n",
        "# Part4-6) Rational class (class method vs object method)\n",
        "# - gcd is called a class method ## private method.\n",
        "# - It can only be used within the class.\n",
        "#------------------------------------\n",
        "\n",
        "# ----- 1) class -----\n",
        "class Rational:\n",
        "    def __init__(self, n, d): # constructor\n",
        "      g = Rational.gcd(n, d)\n",
        "      self.n = n // g    # numerator\n",
        "      self.d = d // g   # denominator\n",
        "\n",
        "    def gcd(a, b):\n",
        "      # stop when a can be divided by b\n",
        "      while b != 0:\n",
        "        a, b = b, a%b\n",
        "        print('a=',a, 'b=',b)\n",
        "      return a\n",
        "\n",
        "# ----- 2) main -----\n",
        "r1 = Rational( 1, 2 )  # store 1/2\n",
        "r2 = Rational( 4, 8 )  # store 1/2\n",
        "\n",
        "print(r1.n, r1.d)\n",
        "print(r2.n, r2.d)\n",
        "\n",
        "print('aa', Rational.gcd(6,9))\n",
        "#print('tt', r1.gcd(6,9))\n"
      ]
    },
    {
      "cell_type": "markdown",
      "metadata": {
        "id": "cAT3K3XPMeP0"
      },
      "source": [
        "##Exercise4: Student class (v4): adding method\n",
        "\n",
        "Update Student class in Exercise3 to have the method add_extra_score(student, extra) inside the class."
      ]
    },
    {
      "cell_type": "code",
      "execution_count": null,
      "metadata": {
        "id": "4ESq7YXCM3cc"
      },
      "outputs": [],
      "source": [
        "# ----- 1) class -----\n",
        "class Student:\n",
        "  pass\n",
        "\n",
        "# ----- 2) main -----\n",
        "# s1 = Student(\"6438027021\", \"Mark Zuckerberg\")\n",
        "# add your code to add extra 20 points"
      ]
    },
    {
      "cell_type": "code",
      "execution_count": null,
      "metadata": {
        "colab": {
          "base_uri": "https://localhost:8080/"
        },
        "id": "PUrX0X67NHW4",
        "outputId": "a6ac6f5c-e773-4856-fdb8-54c6495846d6"
      },
      "outputs": [
        {
          "output_type": "stream",
          "name": "stdout",
          "text": [
            "0\n",
            "20\n"
          ]
        }
      ],
      "source": [
        "#@title solution\n",
        "# ----- 1) class -----\n",
        "# https://pythontutor.com/\n",
        "class Student:\n",
        "  def __init__(self, ID, name):\n",
        "     self.ID = ID\n",
        "     self.name = name\n",
        "     self.score = 0\n",
        "\n",
        "  def add_extra_score(self, extra):\n",
        "     self.score += extra\n",
        "\n",
        "# ----- 2) main -----\n",
        "s1 = Student(\"6438027021\", \"Mark Zuckerberg\")\n",
        "s2 = Student(\"6438073821\", \"Lisa Blackpink\")\n",
        "\n",
        "print(s1.score)\n",
        "s1.add_extra_score(20)\n",
        "print(s1.score)\n",
        "#---->> add_extra_score(s1, 20)"
      ]
    },
    {
      "cell_type": "markdown",
      "metadata": {
        "id": "IyyLevxv3eU-"
      },
      "source": [
        "#Part5: Magic Methods"
      ]
    },
    {
      "cell_type": "markdown",
      "metadata": {
        "id": "CLRu9LkWNpI9"
      },
      "source": [
        "## What are magic methods in Python?\n",
        "\n",
        "**Magic methods** in Python are the special methods that start and end with *the double underscores*."
      ]
    },
    {
      "cell_type": "code",
      "execution_count": null,
      "metadata": {
        "colab": {
          "base_uri": "https://localhost:8080/"
        },
        "id": "V7cdoYEO147q",
        "outputId": "1f368eda-1aa5-4343-9754-916496f6e856"
      },
      "outputs": [
        {
          "output_type": "stream",
          "name": "stdout",
          "text": [
            "<__main__.Rational object at 0x7dd44eb6ffd0>\n",
            "1/2\n",
            "\n",
            "3/4\n",
            "1/8\n",
            "False\n"
          ]
        }
      ],
      "source": [
        "#------------------------------------\n",
        "# Rational class (v2) -- not preferred\n",
        "#------------------------------------\n",
        "\n",
        "# ----- 1) class -----\n",
        "class Rational:\n",
        "  def __init__(self, n, d):\n",
        "    g = Rational.gcd(n, d)\n",
        "    self.n = n // g    # numerator\n",
        "    self.d = d // g   # denominator\n",
        "\n",
        "  def gcd(a, b):\n",
        "    # stop when a can be divided by b\n",
        "    while b != 0:\n",
        "      a, b = b, a%b\n",
        "    return a\n",
        "\n",
        "  def mul(self, x):\n",
        "    n = self.n * x.n\n",
        "    d = self.d * x.d\n",
        "    return Rational(n, d)\n",
        "\n",
        "  def add(self, x):\n",
        "    d = self.d * x.d\n",
        "    n = self.n * x.d + x.n * self.d\n",
        "    return Rational(n, d)\n",
        "\n",
        "  def to_float(self):\n",
        "    return self.n / self.d\n",
        "\n",
        "\n",
        "  def less_than(self, x):\n",
        "    return self.to_float() < x.to_float()\n",
        "\n",
        "\n",
        "  def to_str(self):\n",
        "    return str(self.n) + \"/\" + str(self.d)\n",
        "\n",
        "\n",
        "# ----- 2) main -----\n",
        "r1 = Rational(20,40)\n",
        "r2 = Rational(1,4)\n",
        "\n",
        "print(r1)\n",
        "print(r1.to_str())\n",
        "print()\n",
        "\n",
        "r3 = r1.add(r2)\n",
        "print(r3.to_str())\n",
        "r4 = r1.mul(r2)\n",
        "print(r4.to_str())\n",
        "print(r3.less_than(r4))"
      ]
    },
    {
      "cell_type": "code",
      "execution_count": null,
      "metadata": {
        "colab": {
          "base_uri": "https://localhost:8080/"
        },
        "id": "N-yeADSl4EZq",
        "outputId": "a224c5ab-b4a0-490b-dab8-11688956165c"
      },
      "outputs": [
        {
          "output_type": "stream",
          "name": "stdout",
          "text": [
            "1/2\n",
            "1/2\n",
            "\n",
            "3/4 0.75\n",
            "False\n",
            "[1, 2, 3, 2, 3, 4]\n",
            "[1, 2, 3, 2, 3, 4]\n"
          ]
        }
      ],
      "source": [
        "#------------------------------------\n",
        "# Rational class (v2) -- preferred\n",
        "#------------------------------------\n",
        "\n",
        "# ----- 1) class -----\n",
        "class Rational:\n",
        "  def __init__(self, n, d):\n",
        "    g = Rational.gcd(n, d)\n",
        "    self.n = n // g    # numerator\n",
        "    self.d = d // g   # denominator\n",
        "\n",
        "  def gcd(a, b):\n",
        "    # stop when a can be divided by b\n",
        "    while b != 0:\n",
        "      a, b = b, a%b\n",
        "    return a\n",
        "\n",
        "  def __mul__(self, x):\n",
        "    n = self.n * x.n\n",
        "    d = self.d * x.d\n",
        "    return Rational(n, d)\n",
        "\n",
        "  def __add__(self, x):\n",
        "    d = self.d * x.d\n",
        "    n = self.n * x.d + x.n * self.d\n",
        "    return Rational(n, d)\n",
        "\n",
        "  def __float__(self):\n",
        "    return self.n / self.d\n",
        "\n",
        "\n",
        "  def __lt__(self, x):\n",
        "    return float(self) < float(x)\n",
        "\n",
        "  def __str__(self):\n",
        "    return str(self.n) + \"/\" + str(self.d)\n",
        "\n",
        "\n",
        "# ----- 2) main -----\n",
        "\n",
        "\"\"\"\n",
        "print(r1)\n",
        "print(r1.to_str())\n",
        "print()\n",
        "\n",
        "r3 = r1.add(r2)\n",
        "print(r3.to_str())\n",
        "r4 = r1.mul(r2)\n",
        "print(r4.to_str())\n",
        "print(r3.less_than(r4))\n",
        "\"\"\"\n",
        "r1 = Rational(20,40)\n",
        "r2 = Rational(1,4)\n",
        "\n",
        "print(r1)\n",
        "print(str(r1))\n",
        "print()\n",
        "\n",
        "r3 = r1 + r2\n",
        "print( str(r3), float(r3) )\n",
        "r4 = r1 * r2\n",
        "print( r3 < r4 )\n",
        "\n",
        "l = [1,2,3]\n",
        "l2 = [2,3,4]\n",
        "print(l+l2)\n",
        "print(l.__add__(l2))"
      ]
    },
    {
      "cell_type": "markdown",
      "metadata": {
        "id": "D0okG3wN5ugG"
      },
      "source": [
        "## Item, menu, orders"
      ]
    },
    {
      "cell_type": "code",
      "execution_count": null,
      "metadata": {
        "id": "1Nb0EJqy4WIV"
      },
      "outputs": [],
      "source": [
        "# ----- 1) class -----\n",
        "class Item:\n",
        "    def __init__(self, name, price):\n",
        "        self.name = name\n",
        "        self.price = price\n",
        "\n",
        "# ----- 2) main -----\n",
        "menu = [ Item(\"Fried rice\",   45),\n",
        "         Item(\"Phat thai\",    50),\n",
        "         Item(\"Congee\",       30),\n",
        "         Item(\"Papaya salad\", 40) ]"
      ]
    },
    {
      "cell_type": "code",
      "execution_count": null,
      "metadata": {
        "colab": {
          "base_uri": "https://localhost:8080/"
        },
        "id": "WwjyRdQq54HS",
        "outputId": "5b2909ac-5afb-4c27-ad53-4abf0aa82189"
      },
      "outputs": [
        {
          "output_type": "stream",
          "name": "stdout",
          "text": [
            "Fried rice\n",
            "Fried rice\n",
            "Papaya salad\n"
          ]
        }
      ],
      "source": [
        "# ----- 1) class -----\n",
        "class Order:\n",
        "    def __init__(self):\n",
        "        self.order_items = []\n",
        "        self.paid = False\n",
        "\n",
        "    def add(self, item, n):\n",
        "        for i in range(n):\n",
        "            self.order_items.append(item)\n",
        "\n",
        "    def total(self):\n",
        "        s = 0\n",
        "        for item in self.order_items:\n",
        "            s += item.price\n",
        "        return s\n",
        "\n",
        "# ----- 2) main -----\n",
        "o1 = Order();\n",
        "o1.add(menu[0], 2);\n",
        "o1.add(menu[3], 1)\n",
        "#print(o1.order_items)\n",
        "for a in o1.order_items:\n",
        "  print(a.name)"
      ]
    },
    {
      "cell_type": "code",
      "execution_count": null,
      "metadata": {
        "colab": {
          "base_uri": "https://localhost:8080/"
        },
        "id": "1gzkyypI6CCS",
        "outputId": "70f003fe-0a23-4409-c90e-0c8d45700aaf"
      },
      "outputs": [
        {
          "output_type": "stream",
          "name": "stdout",
          "text": [
            "275\n"
          ]
        }
      ],
      "source": [
        "# ----- function -----\n",
        "def get_total(orders):\n",
        "  return sum( [od.total() for od in orders if od.paid] )\n",
        "\n",
        "# ----- overall main -----\n",
        "m = [ Item(\"Fried rice\", 45),\n",
        "      Item(\"Phat thai\", 50),\n",
        "      Item(\"Congee\", 30),\n",
        "      Item(\"Papaya salad\", 40) ]\n",
        "\n",
        "o1 = Order()\n",
        "o1.add(m[0],2); o1.add(m[3],1)  # 2 fried rice, 1 papaya salad\n",
        "o2 = Order();\n",
        "o2.add(m[0],1); o2.add(m[1],2)  # 1 fried rice, 1 Phatthai\n",
        "o3 = Order();\n",
        "o3.add(m[1],1); o3.add(m[2],1)  # 1 Phatthai, 1 congee\n",
        "orders = [o1, o2, o3]\n",
        "\n",
        "o1.paid = True\n",
        "o2.paid = True\n",
        "print(get_total(orders))"
      ]
    },
    {
      "cell_type": "code",
      "execution_count": null,
      "metadata": {
        "colab": {
          "base_uri": "https://localhost:8080/"
        },
        "id": "1Aec9mVG6TeO",
        "outputId": "c05a19a6-1575-49b8-92fc-24ff772b1263"
      },
      "outputs": [
        {
          "output_type": "stream",
          "name": "stdout",
          "text": [
            "True\n",
            "False\n",
            "Congee:30 Phat thai:50\n",
            "Congee:30 Phat thai:50\n"
          ]
        }
      ],
      "source": [
        "# ----- update Item class (v2) -----\n",
        "class Item:\n",
        "  def __init__(self, name, price):\n",
        "    self.name = name\n",
        "    self.price = price\n",
        "\n",
        "  def __lt__(self, rhs):\n",
        "     return self.price < rhs.price\n",
        "\n",
        "  def __str__(self): # this\n",
        "     return self.name + \":\" + str(self.price)\n",
        "\n",
        "# ----- main -----\n",
        "x1 = Item(\"Congee\", 30)\n",
        "x2 = Item(\"Phat thai\", 50)\n",
        "print(x1 < x2)          # True\n",
        "print(x2 < x1)          # False\n",
        "print(str(x1), str(x2)) # Congee:30, Phat thai:50\n",
        "print(x1, x2)           # print"
      ]
    },
    {
      "cell_type": "code",
      "execution_count": null,
      "metadata": {
        "colab": {
          "base_uri": "https://localhost:8080/"
        },
        "id": "H8DLmOEn6v_2",
        "outputId": "30a550d3-9da9-4bf7-e65e-a663c264ebbc"
      },
      "outputs": [
        {
          "output_type": "stream",
          "name": "stdout",
          "text": [
            "Phat thai:50\n",
            "Fried rice:45\n",
            "Papaya salad:40\n",
            "Congee:30\n"
          ]
        }
      ],
      "source": [
        "menu = [ Item(\"Fried rice\",   45),\n",
        "         Item(\"Phat thai\",    50),\n",
        "         Item(\"Congee\",       30),\n",
        "         Item(\"Papaya salad\", 40) ]\n",
        "\n",
        "menu.sort()\n",
        "menu.sort(reverse=True)\n",
        "\n",
        "for item in menu:\n",
        "    print(item)"
      ]
    },
    {
      "cell_type": "markdown",
      "metadata": {
        "id": "SHcKqS4k66di"
      },
      "source": [
        "##Date"
      ]
    },
    {
      "cell_type": "code",
      "execution_count": null,
      "metadata": {
        "colab": {
          "base_uri": "https://localhost:8080/"
        },
        "id": "4wj8f14N63uj",
        "outputId": "dc3cceb6-f305-4555-ef2d-ffdbe17d260b"
      },
      "outputs": [
        {
          "output_type": "stream",
          "name": "stdout",
          "text": [
            "True\n",
            "20/1/1990 9/12/1990\n"
          ]
        }
      ],
      "source": [
        "# ----- 1) class -----\n",
        "class Date:\n",
        "    def __init__(self, d, m, y):\n",
        "        self.d = d\n",
        "        self.m = m\n",
        "        self.y = y\n",
        "    def __lt__(self, rhs):\n",
        "        d1 = (self.y, self.m, self.d)\n",
        "        d2 = (rhs.y,  rhs.m,  rhs.d)\n",
        "        return d1 < d2\n",
        "    def __str__(self):\n",
        "        return str(self.d) + \"/\" + \\\n",
        "               str(self.m) + \"/\" + \\\n",
        "               str(self.y)\n",
        "\n",
        "# ----- 2) main -----\n",
        "d1 = Date(20, 1, 1990)\n",
        "d2 = Date(9, 12, 1990)\n",
        "print( d1 < d2 )\n",
        "print( d1, d2  )"
      ]
    },
    {
      "cell_type": "markdown",
      "metadata": {
        "id": "ENDwWvhJPFd9"
      },
      "source": [
        "![animation](https://c.tenor.com/rCfSLZ3YM_UAAAAC/cat-day-let-it-begin.gif)\n"
      ]
    },
    {
      "cell_type": "code",
      "source": [
        "class calculator:\n",
        "  def __init__(self, a, b):\n",
        "    self.x = a\n",
        "    self.y = b\n",
        "\n",
        "  def gcd(x, f):\n",
        "    pass\n",
        "\n",
        "  @staticmethod\n",
        "  def find(x, y):\n",
        "    return x**2+y**2\n",
        "\n",
        "# gcd() and find() are class method or static method, which mean we can call these methods without instantiate an object from the class.\n",
        "# and we can call them using classname.methodname()\n",
        "# for example math math.exp()\n",
        "#===========\n",
        "print(calculator.find(3,4))\n"
      ],
      "metadata": {
        "colab": {
          "base_uri": "https://localhost:8080/"
        },
        "id": "63YOz51kf95k",
        "outputId": "20a69832-1816-4feb-ff39-8f2368bba447"
      },
      "execution_count": null,
      "outputs": [
        {
          "output_type": "stream",
          "name": "stdout",
          "text": [
            "25\n"
          ]
        }
      ]
    },
    {
      "cell_type": "code",
      "execution_count": null,
      "metadata": {
        "id": "RD91r98K7IBC"
      },
      "outputs": [],
      "source": [
        "import numpy as np\n",
        "np.sqrt((35.652832-21.149283)*(35.652832-21.149283)+(139.839478-108.2772))"
      ]
    }
  ],
  "metadata": {
    "colab": {
      "provenance": []
    },
    "kernelspec": {
      "display_name": "Python 3",
      "name": "python3"
    },
    "language_info": {
      "name": "python"
    }
  },
  "nbformat": 4,
  "nbformat_minor": 0
}