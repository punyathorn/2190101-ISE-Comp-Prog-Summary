{
  "nbformat": 4,
  "nbformat_minor": 0,
  "metadata": {
    "colab": {
      "provenance": []
    },
    "kernelspec": {
      "name": "python3",
      "display_name": "Python 3"
    },
    "language_info": {
      "name": "python"
    }
  },
  "cells": [
    {
      "cell_type": "markdown",
      "metadata": {
        "id": "BXhRm3BS3mM-"
      },
      "source": [
        "# Tuple\n",
        "\n",
        "What we have to know about tuple?\n",
        "\n",
        "1. Same as list but cannot be modified after created\n",
        "2. Simpler than list\n",
        "3. Use less memory than list\n",
        "4. If you want to modify it => change to list; modify list; and convert back to tuple.\n",
        "5. You can write a tuple with one value by `(value,)`"
      ]
    },
    {
      "cell_type": "code",
      "metadata": {
        "colab": {
          "base_uri": "https://localhost:8080/"
        },
        "id": "OUIrTad_085-",
        "outputId": "cb013270-f094-4579-bbb2-f2e4f075e628"
      },
      "source": [
        "data=(1,2,5,'A','B','C')\n",
        "print(data)"
      ],
      "execution_count": null,
      "outputs": [
        {
          "output_type": "stream",
          "name": "stdout",
          "text": [
            "(1, 2, 5, 'A', 'B', 'C')\n"
          ]
        }
      ]
    },
    {
      "cell_type": "code",
      "metadata": {
        "colab": {
          "base_uri": "https://localhost:8080/"
        },
        "id": "4Xuv5Hu-6KkX",
        "outputId": "c680fbf4-24e0-44a0-a36b-54baf66d0b00"
      },
      "source": [
        "data[0:4]"
      ],
      "execution_count": null,
      "outputs": [
        {
          "output_type": "execute_result",
          "data": {
            "text/plain": [
              "(1, 2, 5, 'A')"
            ]
          },
          "metadata": {},
          "execution_count": 3
        }
      ]
    },
    {
      "cell_type": "code",
      "metadata": {
        "id": "ejZj9aBV6P-d"
      },
      "source": [
        "data=list(data)\n",
        "data[1]=20\n",
        "data=tuple(data)"
      ],
      "execution_count": null,
      "outputs": []
    },
    {
      "cell_type": "code",
      "metadata": {
        "colab": {
          "base_uri": "https://localhost:8080/"
        },
        "id": "6oPUCeY66aRP",
        "outputId": "f74370c4-73ea-45fb-a992-46a151c7b681"
      },
      "source": [
        "data"
      ],
      "execution_count": null,
      "outputs": [
        {
          "output_type": "execute_result",
          "data": {
            "text/plain": [
              "(1, 20, 5, 'A', 'B', 'C')"
            ]
          },
          "metadata": {},
          "execution_count": 6
        }
      ]
    },
    {
      "cell_type": "code",
      "metadata": {
        "colab": {
          "base_uri": "https://localhost:8080/"
        },
        "id": "N6y7TAl-6j8s",
        "outputId": "135cdd90-f97d-47c7-f3d6-a74ec74d8230"
      },
      "source": [
        "student1_score=['A1','10','30','40']\n",
        "student2_score=['A2','8','25','35']\n",
        "student3_score=['A3','9','27','31']\n",
        "scores=[tuple(student1_score),tuple(student2_score),tuple(student3_score)]\n",
        "scores"
      ],
      "execution_count": null,
      "outputs": [
        {
          "output_type": "execute_result",
          "data": {
            "text/plain": [
              "[('A1', '10', '30', '40'), ('A2', '8', '25', '35'), ('A3', '9', '27', '31')]"
            ]
          },
          "metadata": {},
          "execution_count": 10
        }
      ]
    },
    {
      "cell_type": "code",
      "metadata": {
        "id": "VlcQrsaA7Dtl"
      },
      "source": [
        "ids=[score[0] for score in scores]"
      ],
      "execution_count": null,
      "outputs": []
    },
    {
      "cell_type": "code",
      "metadata": {
        "colab": {
          "base_uri": "https://localhost:8080/"
        },
        "id": "waLq1jts7lir",
        "outputId": "ff37f190-ccc9-46f9-8956-f2817ff70134"
      },
      "source": [
        "ids"
      ],
      "execution_count": null,
      "outputs": [
        {
          "output_type": "execute_result",
          "data": {
            "text/plain": [
              "['A1', 'A2', 'A3']"
            ]
          },
          "metadata": {},
          "execution_count": 12
        }
      ]
    },
    {
      "cell_type": "markdown",
      "metadata": {
        "id": "eNSI-NkCPi6x"
      },
      "source": [
        "# Dictionary\n",
        "\n",
        "* A dictionary is in the format `{key1:value1,key2:value2,...}`.\n",
        "* Same as list, but instead of accessing by index in list, you can access the `value` by the `key` associated with that value. For example, if we have data as below:\n",
        "\n",
        "  `book1={'isbn':'978-1449355739','title':'Learning Python, 5th Edition','price':47.35}`,\n",
        "\n",
        "  we can access the `isbn` using `book1['isbn']`\n",
        "* Same as list, we can change the value of key using the `variable_name[key_name]=new_value`\n",
        "\n",
        "  For example, if we want to change the price, we can use the statement\n",
        "\n",
        "  `book1['price']=45.57`\n",
        "* We use `pop(k[,d])` to remove the item whose key is `k` or return `d` if the key `k` is not found.\n",
        "* We can use `k in d` if `k` is a value and `d` is a dictionary to check whether `k` is a key in `d` or not.\n",
        "\n",
        "  For example, if we store scores of students in a dict `scores_dict`, we can use `id in scores_dict` to check whether the `id` is a key of `scores_dict` or not.\n",
        "\n",
        "  ```\n",
        "  scores_dict={'6431895621':85.5,'6431934921':76.6,'6431945821':70.0}\n",
        "  if '6431895621' in scores_dict:\n",
        "    print('Found',scores_dict['6431895621'])\n",
        "  else:\n",
        "    print('Not found')\n",
        "  ```\n",
        "  The result will be:\n",
        "  ```\n",
        "  Found 85.5\n",
        "  ```"
      ]
    },
    {
      "cell_type": "code",
      "metadata": {
        "colab": {
          "base_uri": "https://localhost:8080/"
        },
        "id": "Wea94mDlVoVi",
        "outputId": "378f6da1-3404-4048-82d7-cd39c0d17c90"
      },
      "source": [
        "book1={'isbn':'978-1449355739','title':'Learning Python, 5th Edition','price':47.35}\n",
        "book2=('978-1449355739','Learning Python, 5th Edition',47.35)\n",
        "print(book1['isbn'])\n",
        "print(book2[0])"
      ],
      "execution_count": null,
      "outputs": [
        {
          "output_type": "stream",
          "name": "stdout",
          "text": [
            "978-1449355739\n",
            "978-1449355739\n"
          ]
        }
      ]
    },
    {
      "cell_type": "code",
      "metadata": {
        "colab": {
          "base_uri": "https://localhost:8080/",
          "height": 179
        },
        "id": "SF5ZGAbQWAsz",
        "outputId": "bc9b00c2-87d9-4a02-afea-5f373526850f"
      },
      "source": [
        "scores_dict={'6431895621':85.5,'6431934921':76.6,'6431945821':70.0}\n",
        "scores_dict['6401895621']"
      ],
      "execution_count": null,
      "outputs": [
        {
          "output_type": "error",
          "ename": "KeyError",
          "evalue": "ignored",
          "traceback": [
            "\u001b[0;31m---------------------------------------------------------------------------\u001b[0m",
            "\u001b[0;31mKeyError\u001b[0m                                  Traceback (most recent call last)",
            "\u001b[0;32m<ipython-input-11-7eb4913ff078>\u001b[0m in \u001b[0;36m<module>\u001b[0;34m()\u001b[0m\n\u001b[1;32m      1\u001b[0m \u001b[0mscores_dict\u001b[0m\u001b[0;34m=\u001b[0m\u001b[0;34m{\u001b[0m\u001b[0;34m'6431895621'\u001b[0m\u001b[0;34m:\u001b[0m\u001b[0;36m85.5\u001b[0m\u001b[0;34m,\u001b[0m\u001b[0;34m'6431934921'\u001b[0m\u001b[0;34m:\u001b[0m\u001b[0;36m76.6\u001b[0m\u001b[0;34m,\u001b[0m\u001b[0;34m'6431945821'\u001b[0m\u001b[0;34m:\u001b[0m\u001b[0;36m70.0\u001b[0m\u001b[0;34m}\u001b[0m\u001b[0;34m\u001b[0m\u001b[0;34m\u001b[0m\u001b[0m\n\u001b[0;32m----> 2\u001b[0;31m \u001b[0mscores_dict\u001b[0m\u001b[0;34m[\u001b[0m\u001b[0;34m'6401895621'\u001b[0m\u001b[0;34m]\u001b[0m\u001b[0;34m\u001b[0m\u001b[0;34m\u001b[0m\u001b[0m\n\u001b[0m",
            "\u001b[0;31mKeyError\u001b[0m: '6401895621'"
          ]
        }
      ]
    },
    {
      "cell_type": "code",
      "metadata": {
        "colab": {
          "base_uri": "https://localhost:8080/"
        },
        "id": "d3WMvvV5WbyV",
        "outputId": "383effc2-7d3e-4733-ab99-0d0ac490799f"
      },
      "source": [
        "scores_dict['6431954621']=84.5\n",
        "scores_dict"
      ],
      "execution_count": null,
      "outputs": [
        {
          "output_type": "execute_result",
          "data": {
            "text/plain": [
              "{'6431895621': 85.5,\n",
              " '6431934921': 76.6,\n",
              " '6431945821': 70.0,\n",
              " '6431954621': 84.5}"
            ]
          },
          "metadata": {},
          "execution_count": 12
        }
      ]
    },
    {
      "cell_type": "code",
      "metadata": {
        "colab": {
          "base_uri": "https://localhost:8080/"
        },
        "id": "Kum4b7bJXZH1",
        "outputId": "17ce7a7c-ee03-4ea7-86de-a3d7f840a3b8"
      },
      "source": [
        "scores_dict.pop('6431945821')"
      ],
      "execution_count": null,
      "outputs": [
        {
          "output_type": "execute_result",
          "data": {
            "text/plain": [
              "70.0"
            ]
          },
          "metadata": {},
          "execution_count": 13
        }
      ]
    },
    {
      "cell_type": "code",
      "metadata": {
        "colab": {
          "base_uri": "https://localhost:8080/"
        },
        "id": "AvgWiyuJXin4",
        "outputId": "2c449cc4-4c19-4f30-8c19-8fe0cc1f3aef"
      },
      "source": [
        "scores_dict"
      ],
      "execution_count": null,
      "outputs": [
        {
          "output_type": "execute_result",
          "data": {
            "text/plain": [
              "{'6431895621': 85.5, '6431934921': 76.6, '6431954621': 84.5}"
            ]
          },
          "metadata": {},
          "execution_count": 14
        }
      ]
    },
    {
      "cell_type": "code",
      "metadata": {
        "colab": {
          "base_uri": "https://localhost:8080/"
        },
        "id": "q460_7MUXsL9",
        "outputId": "1fcc74dc-92d4-4fc7-a656-ec445ccecd64"
      },
      "source": [
        "scores_dict.pop('61345264521',-1)"
      ],
      "execution_count": null,
      "outputs": [
        {
          "output_type": "execute_result",
          "data": {
            "text/plain": [
              "-1"
            ]
          },
          "metadata": {},
          "execution_count": 16
        }
      ]
    },
    {
      "cell_type": "code",
      "metadata": {
        "colab": {
          "base_uri": "https://localhost:8080/"
        },
        "id": "WT5e4aR1X0M2",
        "outputId": "244e4dee-be2e-45f6-e667-df088ec39983"
      },
      "source": [
        "scores_dict"
      ],
      "execution_count": null,
      "outputs": [
        {
          "output_type": "execute_result",
          "data": {
            "text/plain": [
              "{'6431895621': 85.5, '6431934921': 76.6, '6431954621': 84.5}"
            ]
          },
          "metadata": {},
          "execution_count": 17
        }
      ]
    },
    {
      "cell_type": "code",
      "metadata": {
        "colab": {
          "base_uri": "https://localhost:8080/"
        },
        "id": "gfA-HCbjYz4K",
        "outputId": "db7742fa-657a-45f2-f88e-6372e9a7597f"
      },
      "source": [
        "scores_dict['6431895621']=90.1\n",
        "scores_dict"
      ],
      "execution_count": null,
      "outputs": [
        {
          "output_type": "execute_result",
          "data": {
            "text/plain": [
              "{'6431895621': 90.1, '6431934921': 76.6, '6431954621': 84.5}"
            ]
          },
          "metadata": {},
          "execution_count": 18
        }
      ]
    },
    {
      "cell_type": "code",
      "metadata": {
        "colab": {
          "base_uri": "https://localhost:8080/"
        },
        "id": "zmscvMCmY8If",
        "outputId": "d1803744-faba-4c64-b9e6-50bd1dcca87b"
      },
      "source": [
        "scores_dict.keys()"
      ],
      "execution_count": null,
      "outputs": [
        {
          "output_type": "execute_result",
          "data": {
            "text/plain": [
              "dict_keys(['6431895621', '6431934921', '6431954621'])"
            ]
          },
          "metadata": {},
          "execution_count": 19
        }
      ]
    },
    {
      "cell_type": "code",
      "metadata": {
        "colab": {
          "base_uri": "https://localhost:8080/"
        },
        "id": "a2QzbUUSZGuH",
        "outputId": "892d99a2-cab0-4815-e75b-4037e73a82b1"
      },
      "source": [
        "scores_dict.values()"
      ],
      "execution_count": null,
      "outputs": [
        {
          "output_type": "execute_result",
          "data": {
            "text/plain": [
              "dict_values([90.1, 76.6, 84.5])"
            ]
          },
          "metadata": {},
          "execution_count": 20
        }
      ]
    },
    {
      "cell_type": "code",
      "metadata": {
        "colab": {
          "base_uri": "https://localhost:8080/"
        },
        "id": "XBqY42-vZJwu",
        "outputId": "e934f054-b1ea-464f-c448-e2ef865b3e0b"
      },
      "source": [
        "scores_dict.items()"
      ],
      "execution_count": null,
      "outputs": [
        {
          "output_type": "execute_result",
          "data": {
            "text/plain": [
              "dict_items([('6431895621', 90.1), ('6431934921', 76.6), ('6431954621', 84.5)])"
            ]
          },
          "metadata": {},
          "execution_count": 21
        }
      ]
    },
    {
      "cell_type": "code",
      "metadata": {
        "colab": {
          "base_uri": "https://localhost:8080/"
        },
        "id": "2aoqXCdSZMZQ",
        "outputId": "1c4968e5-5e7c-4357-903c-d325a6007b1f"
      },
      "source": [
        "for k in scores_dict:\n",
        "  print(k,scores_dict[k])"
      ],
      "execution_count": null,
      "outputs": [
        {
          "output_type": "stream",
          "name": "stdout",
          "text": [
            "6431895621 90.1\n",
            "6431934921 76.6\n",
            "6431954621 84.5\n"
          ]
        }
      ]
    },
    {
      "cell_type": "code",
      "metadata": {
        "colab": {
          "base_uri": "https://localhost:8080/"
        },
        "id": "umiVpS2hZZvT",
        "outputId": "139ccbff-2836-46b3-a13c-75014bdb444e"
      },
      "source": [
        "if '6631895621' in scores_dict:\n",
        "  print('Found')\n",
        "else:\n",
        "  print('Not Found')"
      ],
      "execution_count": null,
      "outputs": [
        {
          "output_type": "stream",
          "name": "stdout",
          "text": [
            "Not Found\n"
          ]
        }
      ]
    },
    {
      "cell_type": "markdown",
      "metadata": {
        "id": "nxDqkKEWaaFh"
      },
      "source": [
        "## **Example: Count Members in a Dictionary**\n"
      ]
    },
    {
      "cell_type": "code",
      "metadata": {
        "id": "n_CvIibxaBDk"
      },
      "source": [
        "import random\n",
        "\n",
        "data=[int(random.random()*10) for i in range(20)]"
      ],
      "execution_count": null,
      "outputs": []
    },
    {
      "cell_type": "code",
      "metadata": {
        "colab": {
          "base_uri": "https://localhost:8080/"
        },
        "id": "XyhsndUUbBtt",
        "outputId": "294e91f3-e9ec-43f8-b099-df54810d8bbf"
      },
      "source": [
        "counts=[0]*10\n",
        "for d in data:\n",
        "  counts[d] += 1\n",
        "counts"
      ],
      "execution_count": null,
      "outputs": [
        {
          "output_type": "execute_result",
          "data": {
            "text/plain": [
              "[1, 1, 1, 2, 2, 4, 1, 2, 5, 1]"
            ]
          },
          "metadata": {},
          "execution_count": 30
        }
      ]
    },
    {
      "cell_type": "code",
      "metadata": {
        "colab": {
          "base_uri": "https://localhost:8080/"
        },
        "id": "aUMyTPg_bPuJ",
        "outputId": "4e6a9c51-20e8-49cb-e8cf-e29ceb3a5862"
      },
      "source": [
        "data"
      ],
      "execution_count": null,
      "outputs": [
        {
          "output_type": "execute_result",
          "data": {
            "text/plain": [
              "[8, 5, 9, 6, 8, 4, 5, 1, 8, 5, 8, 8, 3, 2, 4, 7, 7, 3, 0, 5]"
            ]
          },
          "metadata": {},
          "execution_count": 29
        }
      ]
    },
    {
      "cell_type": "code",
      "metadata": {
        "colab": {
          "base_uri": "https://localhost:8080/"
        },
        "id": "99-_AFkscTNq",
        "outputId": "b65769a9-f207-4998-f36f-526e572dcb26"
      },
      "source": [
        "data='This is a sample sentence. I will use a dictionary to count all occurances of member is this dictionary.'.split()\n",
        "data=[d.lower() for d in data]\n",
        "data"
      ],
      "execution_count": null,
      "outputs": [
        {
          "output_type": "execute_result",
          "data": {
            "text/plain": [
              "['this',\n",
              " 'is',\n",
              " 'a',\n",
              " 'sample',\n",
              " 'sentence.',\n",
              " 'i',\n",
              " 'will',\n",
              " 'use',\n",
              " 'a',\n",
              " 'dictionary',\n",
              " 'to',\n",
              " 'count',\n",
              " 'all',\n",
              " 'occurances',\n",
              " 'of',\n",
              " 'member',\n",
              " 'is',\n",
              " 'this',\n",
              " 'dictionary.']"
            ]
          },
          "metadata": {},
          "execution_count": 37
        }
      ]
    },
    {
      "cell_type": "code",
      "metadata": {
        "colab": {
          "base_uri": "https://localhost:8080/"
        },
        "id": "5kHlzpRqbcBP",
        "outputId": "e6b269a3-3d60-4c23-d157-cc15390cb493"
      },
      "source": [
        "count_dict=dict()\n",
        "for d in data:\n",
        "  if d in count_dict:\n",
        "    count_dict[d] += 1\n",
        "  else:\n",
        "    count_dict[d] = 1\n",
        "print(count_dict)"
      ],
      "execution_count": null,
      "outputs": [
        {
          "output_type": "stream",
          "name": "stdout",
          "text": [
            "{'this': 2, 'is': 2, 'a': 2, 'sample': 1, 'sentence.': 1, 'i': 1, 'will': 1, 'use': 1, 'dictionary': 1, 'to': 1, 'count': 1, 'all': 1, 'occurances': 1, 'of': 1, 'member': 1, 'dictionary.': 1}\n"
          ]
        }
      ]
    },
    {
      "cell_type": "code",
      "metadata": {
        "colab": {
          "base_uri": "https://localhost:8080/"
        },
        "id": "7KjUBnybcEz3",
        "outputId": "bfd72fe5-4b24-4258-dc34-5f5da7d501d7"
      },
      "source": [
        "count_dict[8]"
      ],
      "execution_count": null,
      "outputs": [
        {
          "output_type": "execute_result",
          "data": {
            "text/plain": [
              "5"
            ]
          },
          "metadata": {},
          "execution_count": 32
        }
      ]
    },
    {
      "cell_type": "markdown",
      "metadata": {
        "id": "QbXq-Lo_gAES"
      },
      "source": [
        "## **Example: Connect to an API**\n"
      ]
    },
    {
      "cell_type": "code",
      "metadata": {
        "colab": {
          "base_uri": "https://localhost:8080/"
        },
        "id": "IBNvRtmbd8Ip",
        "outputId": "3a104268-730d-4e01-b688-97e84cc984a1"
      },
      "source": [
        "import requests\n",
        "import json\n",
        "\n",
        "res=requests.get('http://www.7timer.info/bin/api.pl?lon=100.53240453927872.2&lat=13.73877056368563&ac=0&product=civil&unit=metric&output=json&tzshift=0')\n",
        "res=json.loads(res.text)\n",
        "for each_point in res['dataseries']:\n",
        "  print(each_point['timepoint'],each_point['prec_amount'],each_point['prec_type'])"
      ],
      "execution_count": null,
      "outputs": [
        {
          "output_type": "stream",
          "name": "stdout",
          "text": [
            "3 2 rain\n",
            "6 3 rain\n",
            "9 3 rain\n",
            "12 4 rain\n",
            "15 4 rain\n",
            "18 4 rain\n",
            "21 4 rain\n",
            "24 4 rain\n",
            "27 4 none\n",
            "30 4 rain\n",
            "33 4 rain\n",
            "36 4 rain\n",
            "39 4 rain\n",
            "42 4 rain\n",
            "45 4 rain\n",
            "48 4 rain\n",
            "51 4 none\n",
            "54 4 none\n",
            "57 4 none\n",
            "60 4 rain\n",
            "63 4 rain\n",
            "66 4 rain\n",
            "69 4 rain\n",
            "72 4 rain\n",
            "75 4 none\n",
            "78 4 rain\n",
            "81 4 rain\n",
            "84 4 rain\n",
            "87 4 rain\n",
            "90 4 rain\n",
            "93 4 none\n",
            "96 4 rain\n",
            "99 4 none\n",
            "102 4 none\n",
            "105 4 none\n",
            "108 4 none\n",
            "111 4 none\n",
            "114 4 rain\n",
            "117 5 none\n",
            "120 5 none\n",
            "123 5 none\n",
            "126 5 rain\n",
            "129 5 rain\n",
            "132 5 rain\n",
            "135 5 rain\n",
            "138 5 rain\n",
            "141 5 rain\n",
            "144 5 rain\n",
            "147 5 rain\n",
            "150 5 rain\n",
            "153 5 none\n",
            "156 5 rain\n",
            "159 5 rain\n",
            "162 5 rain\n",
            "165 5 rain\n",
            "168 6 rain\n",
            "171 6 rain\n",
            "174 6 rain\n",
            "177 6 rain\n",
            "180 6 rain\n",
            "183 6 none\n",
            "186 6 rain\n",
            "189 6 rain\n",
            "192 6 rain\n"
          ]
        }
      ]
    },
    {
      "cell_type": "markdown",
      "metadata": {
        "id": "CwMbcAN_jy27"
      },
      "source": [
        "# **Set**\n",
        "\n",
        "Set is a dictionary without value.\n",
        "\n",
        "* We can create a set from a list using the `set()` function. Python will return a set containing unique values of the input list.\n",
        "\n",
        "* To add a new member to the set, we can use `add()` function.\n",
        "\n",
        "* To remove a member from the set, `remove(value)` function can be used.\n",
        "\n",
        "* Once we have two sets, we can use `intersection()` and `union()` functions to get the results of the basic ***intersection*** and ***union*** operations of the set."
      ]
    },
    {
      "cell_type": "code",
      "metadata": {
        "colab": {
          "base_uri": "https://localhost:8080/"
        },
        "id": "i7GSkMDNmhKZ",
        "outputId": "a22af41e-8e3f-408a-e266-ff8b56d4eda8"
      },
      "source": [
        "data=[int(random.random()*20) for i in range(10)]\n",
        "data"
      ],
      "execution_count": null,
      "outputs": [
        {
          "output_type": "execute_result",
          "data": {
            "text/plain": [
              "[17, 17, 5, 16, 13, 16, 6, 3, 4, 14]"
            ]
          },
          "metadata": {},
          "execution_count": 91
        }
      ]
    },
    {
      "cell_type": "code",
      "metadata": {
        "id": "E0vSAAtDmood"
      },
      "source": [
        "a=set(data)"
      ],
      "execution_count": null,
      "outputs": []
    },
    {
      "cell_type": "code",
      "metadata": {
        "colab": {
          "base_uri": "https://localhost:8080/"
        },
        "id": "DI37DwEHntXX",
        "outputId": "70db2da5-8cb2-4f7d-e656-b9d86b913fdf"
      },
      "source": [
        "a"
      ],
      "execution_count": null,
      "outputs": [
        {
          "output_type": "execute_result",
          "data": {
            "text/plain": [
              "{3, 4, 5, 6, 13, 14, 16, 17}"
            ]
          },
          "metadata": {},
          "execution_count": 94
        }
      ]
    },
    {
      "cell_type": "code",
      "metadata": {
        "colab": {
          "base_uri": "https://localhost:8080/"
        },
        "id": "u5ivN2R0ng_K",
        "outputId": "f42553e3-9132-4666-97ab-54c2cc5d10e1"
      },
      "source": [
        "data=[int(random.random()*20) for i in range(10)]\n",
        "data"
      ],
      "execution_count": null,
      "outputs": [
        {
          "output_type": "execute_result",
          "data": {
            "text/plain": [
              "[14, 18, 10, 9, 17, 11, 10, 12, 16, 12]"
            ]
          },
          "metadata": {},
          "execution_count": 95
        }
      ]
    },
    {
      "cell_type": "code",
      "metadata": {
        "id": "mf9RIBJVnwjC"
      },
      "source": [
        "b=set(data)"
      ],
      "execution_count": null,
      "outputs": []
    },
    {
      "cell_type": "code",
      "metadata": {
        "colab": {
          "base_uri": "https://localhost:8080/"
        },
        "id": "oLmlfIyxnx9J",
        "outputId": "b69bfcba-461c-49f3-f802-c121a51bd359"
      },
      "source": [
        "b"
      ],
      "execution_count": null,
      "outputs": [
        {
          "output_type": "execute_result",
          "data": {
            "text/plain": [
              "{9, 10, 11, 12, 14, 16, 17, 18}"
            ]
          },
          "metadata": {},
          "execution_count": 97
        }
      ]
    },
    {
      "cell_type": "code",
      "metadata": {
        "colab": {
          "base_uri": "https://localhost:8080/"
        },
        "id": "DCDEnklHnylO",
        "outputId": "e7973c70-657b-4425-f3ab-70bb607a432d"
      },
      "source": [
        "a.intersection(b)"
      ],
      "execution_count": null,
      "outputs": [
        {
          "output_type": "execute_result",
          "data": {
            "text/plain": [
              "{14, 16, 17}"
            ]
          },
          "metadata": {},
          "execution_count": 98
        }
      ]
    },
    {
      "cell_type": "code",
      "metadata": {
        "colab": {
          "base_uri": "https://localhost:8080/"
        },
        "id": "4DGXdUMin4mq",
        "outputId": "5756ed39-8cc5-4452-ec63-7a844066141f"
      },
      "source": [
        "a.union(b)"
      ],
      "execution_count": null,
      "outputs": [
        {
          "output_type": "execute_result",
          "data": {
            "text/plain": [
              "{3, 4, 5, 6, 9, 10, 11, 12, 13, 14, 16, 17, 18}"
            ]
          },
          "metadata": {},
          "execution_count": 99
        }
      ]
    },
    {
      "cell_type": "code",
      "metadata": {
        "colab": {
          "base_uri": "https://localhost:8080/"
        },
        "id": "5QYOfOOhn8D0",
        "outputId": "b7bc2e3b-d099-4150-d5f0-8a5cb6f2a7dc"
      },
      "source": [
        "a-b"
      ],
      "execution_count": null,
      "outputs": [
        {
          "output_type": "execute_result",
          "data": {
            "text/plain": [
              "{3, 4, 5, 6, 13}"
            ]
          },
          "metadata": {},
          "execution_count": 100
        }
      ]
    },
    {
      "cell_type": "code",
      "metadata": {
        "colab": {
          "base_uri": "https://localhost:8080/"
        },
        "id": "9SbCDpbAn-OU",
        "outputId": "05b19e9e-0a29-4a57-fb99-8b44cbd72747"
      },
      "source": [
        "b-a"
      ],
      "execution_count": null,
      "outputs": [
        {
          "output_type": "execute_result",
          "data": {
            "text/plain": [
              "{9, 10, 11, 12, 18}"
            ]
          },
          "metadata": {},
          "execution_count": 101
        }
      ]
    },
    {
      "cell_type": "code",
      "metadata": {
        "id": "FEb0lB8ToAiv"
      },
      "source": [
        "a.add(100)"
      ],
      "execution_count": null,
      "outputs": []
    },
    {
      "cell_type": "code",
      "metadata": {
        "colab": {
          "base_uri": "https://localhost:8080/"
        },
        "id": "LgoHT9-eoCQ6",
        "outputId": "cc39b225-321f-455a-884e-14534cfb23a3"
      },
      "source": [
        "a"
      ],
      "execution_count": null,
      "outputs": [
        {
          "output_type": "execute_result",
          "data": {
            "text/plain": [
              "{3, 4, 5, 6, 13, 14, 16, 17, 100}"
            ]
          },
          "metadata": {},
          "execution_count": 104
        }
      ]
    },
    {
      "cell_type": "code",
      "metadata": {
        "id": "r40AezKsoHHA"
      },
      "source": [
        "a.remove(100)"
      ],
      "execution_count": null,
      "outputs": []
    },
    {
      "cell_type": "code",
      "metadata": {
        "colab": {
          "base_uri": "https://localhost:8080/"
        },
        "id": "P4fW4izqoK4r",
        "outputId": "0ff8ddb2-20b4-4a6b-eebe-9d82f45fb183"
      },
      "source": [
        "a"
      ],
      "execution_count": null,
      "outputs": [
        {
          "output_type": "execute_result",
          "data": {
            "text/plain": [
              "{3, 4, 5, 6, 13, 14, 16, 17}"
            ]
          },
          "metadata": {},
          "execution_count": 106
        }
      ]
    },
    {
      "cell_type": "code",
      "metadata": {
        "colab": {
          "base_uri": "https://localhost:8080/"
        },
        "id": "4uDs5kSLoLpI",
        "outputId": "21de63c4-7c0c-4310-a43a-62165c58ebc7"
      },
      "source": [
        "5 in a"
      ],
      "execution_count": null,
      "outputs": [
        {
          "output_type": "execute_result",
          "data": {
            "text/plain": [
              "True"
            ]
          },
          "metadata": {},
          "execution_count": 108
        }
      ]
    },
    {
      "cell_type": "markdown",
      "metadata": {
        "id": "0lvBicp0oZ2e"
      },
      "source": [
        "## **Example: Common Words of Two Strings**"
      ]
    },
    {
      "cell_type": "code",
      "metadata": {
        "colab": {
          "base_uri": "https://localhost:8080/",
          "height": 121
        },
        "id": "rDVqkSy9oO_T",
        "outputId": "3b1a3291-b217-4a2c-8181-d10e57814420"
      },
      "source": [
        "s1='''Paul Pogba says Manchester United need to \"change something\" after being beaten 4-2 by Leicester, their second defeat in three Premier League games.\n",
        "\n",
        "United have taken one point out of a possible nine, dropping to fifth and losing ground in the title race.\n",
        "\n",
        "There have also been several other unconvincing performances this season.\n",
        "\n",
        "\"We have been having these kind of games for a long time and haven't found the problem. We have conceded easy and stupid goals,\" Pogba told Sky Sports.\n",
        "\n",
        "\"If we want to win the title, these are the games we need to win, even if they are very hard.\n",
        "\n",
        "\"We know that the fans were going to push and put pressure on us and we need to be more mature, play with more experience and arrogance - in a good way - by taking the ball and playing our football.\n",
        "\n",
        "\"We need to find the key for this change because we deserved to lose. I don't know if it is the mindset of the players. We need to change something. We need to find the mentality and tactics to win. We have to look as individuals and as a team to fix this.\"\n",
        "\n",
        "'It is time to ask the question: is Solskjaer up to the job?'\n",
        "United's latest disappointment ended an unbeaten away league record spanning 29 games and 20 months.\n",
        "\n",
        "It contained all too common themes for their supporters, with the team failing to control the tempo of the game in the middle of the park and conceding from dreadful defensive lapses.\n",
        "\n",
        "\"We more or less gifted them the equaliser,\" said United manager Ole Gunnar Solskjaer.\n",
        "\n",
        "\"The second one was a set play, which is disappointing. Then you get the equaliser... and 10 seconds after you concede again. So concentration in big moments, that's a key factor in this game.\"\n",
        "\n",
        "Leicester's first goal came from United's own free-kick on the edge of their penalty area after Harry Maguire was caught out.\n",
        "\n",
        "The visitors also twice let in goals from set-pieces, while Leicester's third, 54 seconds after Marcus Rashford had equalised, came when Aaron Wan-Bissaka's poor positioning was finally exploited by the hosts, with Jamie Vardy the beneficiary.'''\n",
        "s1=s1.replace(\"'\",\" \")\n",
        "s1=s1.replace(\".\",\" \")\n",
        "s1=s1.replace(\",\",\" \")\n",
        "s1=s1.replace(\"-\",\" \")\n",
        "s1=s1.replace('\"',\" \")\n",
        "s1"
      ],
      "execution_count": null,
      "outputs": [
        {
          "output_type": "execute_result",
          "data": {
            "application/vnd.google.colaboratory.intrinsic+json": {
              "type": "string"
            },
            "text/plain": [
              "'Paul Pogba says Manchester United need to  change something  after being beaten 4 2 by Leicester  their second defeat in three Premier League games \\n\\nUnited have taken one point out of a possible nine  dropping to fifth and losing ground in the title race \\n\\nThere have also been several other unconvincing performances this season \\n\\n We have been having these kind of games for a long time and haven t found the problem  We have conceded easy and stupid goals   Pogba told Sky Sports \\n\\n If we want to win the title  these are the games we need to win  even if they are very hard \\n\\n We know that the fans were going to push and put pressure on us and we need to be more mature  play with more experience and arrogance   in a good way   by taking the ball and playing our football \\n\\n We need to find the key for this change because we deserved to lose  I don t know if it is the mindset of the players  We need to change something  We need to find the mentality and tactics to win  We have to look as individuals and as a team to fix this  \\n\\n It is time to ask the question: is Solskjaer up to the job? \\nUnited s latest disappointment ended an unbeaten away league record spanning 29 games and 20 months \\n\\nIt contained all too common themes for their supporters  with the team failing to control the tempo of the game in the middle of the park and conceding from dreadful defensive lapses \\n\\n We more or less gifted them the equaliser   said United manager Ole Gunnar Solskjaer \\n\\n The second one was a set play  which is disappointing  Then you get the equaliser    and 10 seconds after you concede again  So concentration in big moments  that s a key factor in this game  \\n\\nLeicester s first goal came from United s own free kick on the edge of their penalty area after Harry Maguire was caught out \\n\\nThe visitors also twice let in goals from set pieces  while Leicester s third  54 seconds after Marcus Rashford had equalised  came when Aaron Wan Bissaka s poor positioning was finally exploited by the hosts  with Jamie Vardy the beneficiary '"
            ]
          },
          "metadata": {},
          "execution_count": 119
        }
      ]
    },
    {
      "cell_type": "code",
      "metadata": {
        "colab": {
          "base_uri": "https://localhost:8080/",
          "height": 121
        },
        "id": "mwmqyBrmo-A4",
        "outputId": "2866e33f-d566-4cb5-95bd-f10d1f68df43"
      },
      "source": [
        "s2='''Ole Gunnar Solskjaer looked a manager running only on the fumes of dwindling goodwill as he made his way to Manchester United's supporters after a shambolic 4-2 defeat at Leicester City.\n",
        "\n",
        "As the Norwegian moved towards a discontented corner of the stadium to clap the travelling fans, he was faced with some sympathetic applause, anger and a fair few empty blue seats.\n",
        "\n",
        "If the impression given by Leicester's two late goals is one of a close match, ignore it.\n",
        "\n",
        "Leicester deserved their win and deserved to win by more. Manchester United deserved to lose and deserved to lose by more.\n",
        "\n",
        "Leicester win thriller and end Man Utd's unbeaten away run\n",
        "Relive the match and all the reaction to Man Utd's loss to Leicester\n",
        "Man Utd defend decision to fly 100-mile trip to Leicester\n",
        "Go to the Man United page\n",
        "Solskjaer can be chippy under criticism but, rather like Manchester United here at Leicester, he has little in the way of any defence after they were over-run and overpowered.\n",
        "\n",
        "United's manager looked lost at times in his technical area as Leicester, back to their best, swarmed all over a team assembled at vast expense but one lacking organisation and leadership, panicking and creaking under pressure all afternoon.\n",
        "\n",
        "As manager, Solskjaer will take the majority of blame - but some big personalities are in the dock after this game as well. The bottom line, though, is that there is one question more people will ask with increasing validity if United's poor form continues.\n",
        "\n",
        "Is Solskjaer the right man to take Manchester United forward?\n",
        "\n",
        "It is cruel but it cannot be dodged. And the evidence so far is not favourable.\n",
        "\n",
        "First, though, there must be an exacting spotlight shone on United's players. This is not all down to Solskjaer.\n",
        "\n",
        "Harry Maguire, to put it very politely, was ring rusty on his return from a calf strain. He ran the ball out of play with his first touch. He was robbed by Kelechi Iheanacho in the build-up to Youri Tielemans' strike to make it 1-1 and was part of a defence lacking any sort of composure. He looked well short of match fitness.\n",
        "\n",
        "Bruno Fernandes spent much of the game complaining to referee Craig Pawson. Nemanja Matic was too slow to cope with Leicester's midfield while Paul Pogba had one of those frustrating, ineffective matches marked only by persistent fouling that ended with a yellow card.\n",
        "\n",
        "And the biggest personality of all, Cristiano Ronaldo, was not exempt from this morass of mediocrity. He was on the margins throughout, only getting involved in flashes and unable to turn the tide in the manner of old when it went against United.\n",
        "\n",
        "It was a grim 90 minutes for United, with Mason Greenwood - who scored a magnificent goal - one of the few who can escape criticism.'''\n",
        "s2=s2.replace(\"'\",\" \")\n",
        "s2=s2.replace(\".\",\" \")\n",
        "s2=s2.replace(\",\",\" \")\n",
        "s2=s2.replace(\"-\",\" \")\n",
        "s2=s2.replace('\"',\" \")\n",
        "s2"
      ],
      "execution_count": null,
      "outputs": [
        {
          "output_type": "execute_result",
          "data": {
            "application/vnd.google.colaboratory.intrinsic+json": {
              "type": "string"
            },
            "text/plain": [
              "'Ole Gunnar Solskjaer looked a manager running only on the fumes of dwindling goodwill as he made his way to Manchester United s supporters after a shambolic 4 2 defeat at Leicester City \\n\\nAs the Norwegian moved towards a discontented corner of the stadium to clap the travelling fans  he was faced with some sympathetic applause  anger and a fair few empty blue seats \\n\\nIf the impression given by Leicester s two late goals is one of a close match  ignore it \\n\\nLeicester deserved their win and deserved to win by more  Manchester United deserved to lose and deserved to lose by more \\n\\nLeicester win thriller and end Man Utd s unbeaten away run\\nRelive the match and all the reaction to Man Utd s loss to Leicester\\nMan Utd defend decision to fly 100 mile trip to Leicester\\nGo to the Man United page\\nSolskjaer can be chippy under criticism but  rather like Manchester United here at Leicester  he has little in the way of any defence after they were over run and overpowered \\n\\nUnited s manager looked lost at times in his technical area as Leicester  back to their best  swarmed all over a team assembled at vast expense but one lacking organisation and leadership  panicking and creaking under pressure all afternoon \\n\\nAs manager  Solskjaer will take the majority of blame   but some big personalities are in the dock after this game as well  The bottom line  though  is that there is one question more people will ask with increasing validity if United s poor form continues \\n\\nIs Solskjaer the right man to take Manchester United forward?\\n\\nIt is cruel but it cannot be dodged  And the evidence so far is not favourable \\n\\nFirst  though  there must be an exacting spotlight shone on United s players  This is not all down to Solskjaer \\n\\nHarry Maguire  to put it very politely  was ring rusty on his return from a calf strain  He ran the ball out of play with his first touch  He was robbed by Kelechi Iheanacho in the build up to Youri Tielemans  strike to make it 1 1 and was part of a defence lacking any sort of composure  He looked well short of match fitness \\n\\nBruno Fernandes spent much of the game complaining to referee Craig Pawson  Nemanja Matic was too slow to cope with Leicester s midfield while Paul Pogba had one of those frustrating  ineffective matches marked only by persistent fouling that ended with a yellow card \\n\\nAnd the biggest personality of all  Cristiano Ronaldo  was not exempt from this morass of mediocrity  He was on the margins throughout  only getting involved in flashes and unable to turn the tide in the manner of old when it went against United \\n\\nIt was a grim 90 minutes for United  with Mason Greenwood   who scored a magnificent goal   one of the few who can escape criticism '"
            ]
          },
          "metadata": {},
          "execution_count": 120
        }
      ]
    },
    {
      "cell_type": "code",
      "metadata": {
        "id": "8h8VIbGYpXY8"
      },
      "source": [
        "s1=s1.split()\n",
        "s1=[token.lower() for token in s1]\n",
        "s1=set(s1)\n",
        "s2=s2.split()\n",
        "s2=[token.lower() for token in s2]\n",
        "s2=set(s2)"
      ],
      "execution_count": null,
      "outputs": []
    },
    {
      "cell_type": "code",
      "metadata": {
        "colab": {
          "base_uri": "https://localhost:8080/"
        },
        "id": "Chf2t5lepiT7",
        "outputId": "89da41e2-f73b-466e-d7e0-a379c2757032"
      },
      "source": [
        "s1.intersection(s2)"
      ],
      "execution_count": null,
      "outputs": [
        {
          "output_type": "execute_result",
          "data": {
            "text/plain": [
              "{'2',\n",
              " '4',\n",
              " 'a',\n",
              " 'after',\n",
              " 'all',\n",
              " 'an',\n",
              " 'and',\n",
              " 'are',\n",
              " 'area',\n",
              " 'as',\n",
              " 'ask',\n",
              " 'away',\n",
              " 'ball',\n",
              " 'be',\n",
              " 'big',\n",
              " 'by',\n",
              " 'defeat',\n",
              " 'deserved',\n",
              " 'ended',\n",
              " 'fans',\n",
              " 'first',\n",
              " 'for',\n",
              " 'from',\n",
              " 'game',\n",
              " 'goal',\n",
              " 'goals',\n",
              " 'gunnar',\n",
              " 'had',\n",
              " 'harry',\n",
              " 'if',\n",
              " 'in',\n",
              " 'is',\n",
              " 'it',\n",
              " 'leicester',\n",
              " 'lose',\n",
              " 'maguire',\n",
              " 'manager',\n",
              " 'manchester',\n",
              " 'more',\n",
              " 'of',\n",
              " 'ole',\n",
              " 'on',\n",
              " 'one',\n",
              " 'out',\n",
              " 'paul',\n",
              " 'play',\n",
              " 'players',\n",
              " 'pogba',\n",
              " 'poor',\n",
              " 'pressure',\n",
              " 'put',\n",
              " 's',\n",
              " 'so',\n",
              " 'solskjaer',\n",
              " 'supporters',\n",
              " 'team',\n",
              " 'that',\n",
              " 'the',\n",
              " 'their',\n",
              " 'there',\n",
              " 'they',\n",
              " 'this',\n",
              " 'to',\n",
              " 'too',\n",
              " 'unbeaten',\n",
              " 'united',\n",
              " 'up',\n",
              " 'very',\n",
              " 'was',\n",
              " 'way',\n",
              " 'were',\n",
              " 'when',\n",
              " 'while',\n",
              " 'win',\n",
              " 'with'}"
            ]
          },
          "metadata": {},
          "execution_count": 122
        }
      ]
    },
    {
      "cell_type": "code",
      "metadata": {
        "id": "g91kMlgcp-5H"
      },
      "source": [],
      "execution_count": null,
      "outputs": []
    }
  ]
}
