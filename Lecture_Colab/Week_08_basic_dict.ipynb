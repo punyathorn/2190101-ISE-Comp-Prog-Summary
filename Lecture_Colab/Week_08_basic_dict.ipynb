{
  "cells": [
    {
      "cell_type": "markdown",
      "metadata": {
        "id": "uzhi951KTPwB"
      },
      "source": [
        "# 08-Basic dict"
      ]
    },
    {
      "cell_type": "markdown",
      "metadata": {
        "id": "WZXFoONwIx8Z"
      },
      "source": [
        "## list vs dict\n",
        "\n",
        "A `list` is a collection of items in particular order from left to right.  List uses integer number as an index to access the data.<br>\n",
        "\n",
        "A `dict` is a collection of `key:value` pairs. Each `key` is connected to a `value`."
      ]
    },
    {
      "cell_type": "code",
      "execution_count": null,
      "metadata": {
        "id": "LAt9SmcAVuTB"
      },
      "outputs": [],
      "source": [
        "grade = { } # []\n",
        "\n",
        "grade[\"6231010621\"] = \"A\"\n"
      ]
    },
    {
      "cell_type": "code",
      "execution_count": null,
      "metadata": {
        "id": "RhhNQuhXV9f_",
        "colab": {
          "base_uri": "https://localhost:8080/"
        },
        "outputId": "7ebb3874-a58e-4863-e164-edde9a8df51e"
      },
      "outputs": [
        {
          "output_type": "stream",
          "name": "stdout",
          "text": [
            "{'6231010621': 'A'}\n"
          ]
        }
      ],
      "source": [
        "print(grade)"
      ]
    },
    {
      "cell_type": "code",
      "execution_count": null,
      "metadata": {
        "id": "xKKuSaqrWAwJ"
      },
      "outputs": [],
      "source": [
        "grade[\"6231010621\"] = \"B\""
      ]
    },
    {
      "cell_type": "code",
      "execution_count": null,
      "metadata": {
        "id": "doKx54X0WDdu",
        "colab": {
          "base_uri": "https://localhost:8080/"
        },
        "outputId": "f92bc30e-997e-45d1-9827-8c64c086ff9a"
      },
      "outputs": [
        {
          "output_type": "stream",
          "name": "stdout",
          "text": [
            "{'6231010621': 'B'}\n"
          ]
        }
      ],
      "source": [
        "print(grade)"
      ]
    },
    {
      "cell_type": "code",
      "source": [
        "\n",
        "s = input().strip().lower()\n",
        "ac = {}\n",
        "\n",
        "for c in s:\n",
        "  if c not in ac:\n",
        "    ac[c] = 1\n",
        "  else:\n",
        "    ac[c] +=1\n",
        "\n",
        "for k,v in ac.items():\n",
        "  print(k,v)\n"
      ],
      "metadata": {
        "colab": {
          "base_uri": "https://localhost:8080/"
        },
        "id": "3R4jjjPO2K0n",
        "outputId": "6c1d2d49-9c35-43be-d818-f70dfc272f50"
      },
      "execution_count": null,
      "outputs": [
        {
          "output_type": "stream",
          "name": "stdout",
          "text": [
            "ABCabcABZ\n",
            "a 3\n",
            "b 3\n",
            "c 2\n",
            "z 1\n"
          ]
        }
      ]
    },
    {
      "cell_type": "code",
      "source": [
        "ordinal = {\"first\": 1, \"second\": 2, \"third\": 3, \"fourth\": 4, \"fifth\": 5, \"sixth\": 6,\n",
        "           \"seventh\": 7, \"eighth\": 8,\n",
        "           \"ninth\": 9, \"tenth\": 10 }\n",
        "\n",
        "for key in sorted(ordinal.keys()):\n",
        "    print(key, \"-->\", ordinal[key] )\n"
      ],
      "metadata": {
        "colab": {
          "base_uri": "https://localhost:8080/"
        },
        "id": "te1rsnk-3PEd",
        "outputId": "6d9fb76b-fac4-40b2-fc9c-75216a459138"
      },
      "execution_count": null,
      "outputs": [
        {
          "output_type": "stream",
          "name": "stdout",
          "text": [
            "eighth --> 8\n",
            "fifth --> 5\n",
            "first --> 1\n",
            "fourth --> 4\n",
            "ninth --> 9\n",
            "second --> 2\n",
            "seventh --> 7\n",
            "sixth --> 6\n",
            "tenth --> 10\n",
            "third --> 3\n"
          ]
        }
      ]
    },
    {
      "cell_type": "code",
      "source": [
        "def average( d ):\n",
        "  total = 0\n",
        "  for key in d: # get values from all keys\n",
        "      total += d[key]\n",
        "  return total / len(d)\n",
        "\n",
        "gpa = {\"6130186221\": 3.15, \"6230221221\": 2.85, \"6231009821\": 2.90, \"6230543921\": 3.20, \"6230431521\": 3.35, \"6230276821\": 3.42}\n",
        "print( average(gpa) ) # should be 3.145"
      ],
      "metadata": {
        "colab": {
          "base_uri": "https://localhost:8080/"
        },
        "id": "rGqRXtby4DGs",
        "outputId": "035db9f6-a0c0-4a2c-e387-989393731fff"
      },
      "execution_count": null,
      "outputs": [
        {
          "output_type": "stream",
          "name": "stdout",
          "text": [
            "3.145\n"
          ]
        }
      ]
    },
    {
      "cell_type": "code",
      "source": [
        "grade = {\"6130186221\": \"A\", \"6230221221\": \"A\", \"6231009821\": \"B\", \"6230543921\": \"C\", \"6230431521\": \"B\", \"6230276821\": \"A\"}\n",
        "\n",
        "\"\"\"\n",
        "# This code will generate teh key error if the input ID is not in the grader\n",
        "ID = input()\n",
        "while ID != \"q\":\n",
        "  print(ID, \"-->\", grade[ ID ])\n",
        "  ID = input()\n",
        "\"\"\"\n",
        "\n",
        "ID = input()\n",
        "while ID != \"q\":\n",
        "    if ID in grade:\n",
        "        print(ID, \"-->\", grade[ ID ])\n",
        "    else:\n",
        "        print(\"Not found\")\n",
        "    ID = input()"
      ],
      "metadata": {
        "colab": {
          "base_uri": "https://localhost:8080/",
          "height": 373
        },
        "id": "eYlGskZQ48hZ",
        "outputId": "41e73e1e-ecdd-4b01-d139-e5b09f6ed30d"
      },
      "execution_count": null,
      "outputs": [
        {
          "output_type": "stream",
          "name": "stdout",
          "text": [
            "6130186221\n",
            "6130186221 --> A\n"
          ]
        },
        {
          "output_type": "error",
          "ename": "KeyboardInterrupt",
          "evalue": "Interrupted by user",
          "traceback": [
            "\u001b[0;31m---------------------------------------------------------------------------\u001b[0m",
            "\u001b[0;31mKeyboardInterrupt\u001b[0m                         Traceback (most recent call last)",
            "\u001b[0;32m<ipython-input-3-7df2a8b35634>\u001b[0m in \u001b[0;36m<cell line: 0>\u001b[0;34m()\u001b[0m\n\u001b[1;32m     15\u001b[0m     \u001b[0;32melse\u001b[0m\u001b[0;34m:\u001b[0m\u001b[0;34m\u001b[0m\u001b[0;34m\u001b[0m\u001b[0m\n\u001b[1;32m     16\u001b[0m         \u001b[0mprint\u001b[0m\u001b[0;34m(\u001b[0m\u001b[0;34m\"Not found\"\u001b[0m\u001b[0;34m)\u001b[0m\u001b[0;34m\u001b[0m\u001b[0;34m\u001b[0m\u001b[0m\n\u001b[0;32m---> 17\u001b[0;31m     \u001b[0mID\u001b[0m \u001b[0;34m=\u001b[0m \u001b[0minput\u001b[0m\u001b[0;34m(\u001b[0m\u001b[0;34m)\u001b[0m\u001b[0;34m\u001b[0m\u001b[0;34m\u001b[0m\u001b[0m\n\u001b[0m",
            "\u001b[0;32m/usr/local/lib/python3.11/dist-packages/ipykernel/kernelbase.py\u001b[0m in \u001b[0;36mraw_input\u001b[0;34m(self, prompt)\u001b[0m\n\u001b[1;32m   1175\u001b[0m                 \u001b[0;34m\"raw_input was called, but this frontend does not support input requests.\"\u001b[0m\u001b[0;34m\u001b[0m\u001b[0;34m\u001b[0m\u001b[0m\n\u001b[1;32m   1176\u001b[0m             )\n\u001b[0;32m-> 1177\u001b[0;31m         return self._input_request(\n\u001b[0m\u001b[1;32m   1178\u001b[0m             \u001b[0mstr\u001b[0m\u001b[0;34m(\u001b[0m\u001b[0mprompt\u001b[0m\u001b[0;34m)\u001b[0m\u001b[0;34m,\u001b[0m\u001b[0;34m\u001b[0m\u001b[0;34m\u001b[0m\u001b[0m\n\u001b[1;32m   1179\u001b[0m             \u001b[0mself\u001b[0m\u001b[0;34m.\u001b[0m\u001b[0m_parent_ident\u001b[0m\u001b[0;34m[\u001b[0m\u001b[0;34m\"shell\"\u001b[0m\u001b[0;34m]\u001b[0m\u001b[0;34m,\u001b[0m\u001b[0;34m\u001b[0m\u001b[0;34m\u001b[0m\u001b[0m\n",
            "\u001b[0;32m/usr/local/lib/python3.11/dist-packages/ipykernel/kernelbase.py\u001b[0m in \u001b[0;36m_input_request\u001b[0;34m(self, prompt, ident, parent, password)\u001b[0m\n\u001b[1;32m   1217\u001b[0m             \u001b[0;32mexcept\u001b[0m \u001b[0mKeyboardInterrupt\u001b[0m\u001b[0;34m:\u001b[0m\u001b[0;34m\u001b[0m\u001b[0;34m\u001b[0m\u001b[0m\n\u001b[1;32m   1218\u001b[0m                 \u001b[0;31m# re-raise KeyboardInterrupt, to truncate traceback\u001b[0m\u001b[0;34m\u001b[0m\u001b[0;34m\u001b[0m\u001b[0m\n\u001b[0;32m-> 1219\u001b[0;31m                 \u001b[0;32mraise\u001b[0m \u001b[0mKeyboardInterrupt\u001b[0m\u001b[0;34m(\u001b[0m\u001b[0;34m\"Interrupted by user\"\u001b[0m\u001b[0;34m)\u001b[0m \u001b[0;32mfrom\u001b[0m \u001b[0;32mNone\u001b[0m\u001b[0;34m\u001b[0m\u001b[0;34m\u001b[0m\u001b[0m\n\u001b[0m\u001b[1;32m   1220\u001b[0m             \u001b[0;32mexcept\u001b[0m \u001b[0mException\u001b[0m\u001b[0;34m:\u001b[0m\u001b[0;34m\u001b[0m\u001b[0;34m\u001b[0m\u001b[0m\n\u001b[1;32m   1221\u001b[0m                 \u001b[0mself\u001b[0m\u001b[0;34m.\u001b[0m\u001b[0mlog\u001b[0m\u001b[0;34m.\u001b[0m\u001b[0mwarning\u001b[0m\u001b[0;34m(\u001b[0m\u001b[0;34m\"Invalid Message:\"\u001b[0m\u001b[0;34m,\u001b[0m \u001b[0mexc_info\u001b[0m\u001b[0;34m=\u001b[0m\u001b[0;32mTrue\u001b[0m\u001b[0;34m)\u001b[0m\u001b[0;34m\u001b[0m\u001b[0;34m\u001b[0m\u001b[0m\n",
            "\u001b[0;31mKeyboardInterrupt\u001b[0m: Interrupted by user"
          ]
        }
      ]
    },
    {
      "cell_type": "code",
      "execution_count": null,
      "metadata": {
        "id": "SCxE4dT0Wjqu"
      },
      "outputs": [],
      "source": [
        "grade = { } # empty dict\n",
        "n = int(input())\n",
        "for k in range(n):\n",
        "  ID, g = input().split()\n",
        "  grade[ ID ] = g\n",
        "\n",
        "print(grade)"
      ]
    },
    {
      "cell_type": "code",
      "execution_count": null,
      "metadata": {
        "id": "caZaHmreI64A"
      },
      "outputs": [],
      "source": [
        "x = [\"MONDAY\", \"TUESDAY\", \"WEDNESDAY\", \"THURSDAY\", \\\n",
        "     \"FRIDAY\", \"SATURDAY\", \"SUNDAY\"]\n",
        "print(type(x), x)\n",
        "print(x[0], x[4], x[-1])"
      ]
    },
    {
      "cell_type": "code",
      "execution_count": null,
      "metadata": {
        "id": "g_N_d7n4YZOj"
      },
      "outputs": [],
      "source": [
        "d = {\"MO\":\"MONDAY\", \"TU\":\"TUESDAY\", \"WE\":\"WEDNESDAY\", \"TH\":\"THURSDAY\", \\\n",
        "     \"FR\":\"FRIDAY\", \"SA\":\"SATURDAY\", \"SU\":\"SUNDAY\"}\n",
        "print(type(d), d)\n",
        "print(d[\"MO\"], d[\"WE\"], d[\"SU\"])"
      ]
    },
    {
      "cell_type": "code",
      "source": [
        "d = {\"MO\":\"MONDAY\", \"TU\":\"TUESDAY\", \"WE\":\"WEDNESDAY\", \"TH\":\"THURSDAY\", \\\n",
        "     \"FR\":\"FRIDAY\", \"SA\":\"SATURDAY\", \"SU\":\"SUNDAY\"}\n",
        "\n",
        "r = {}\n",
        "\n",
        "for k, v in d.items():\n",
        "  r[v] = k\n",
        "\n",
        "print(r)\n"
      ],
      "metadata": {
        "colab": {
          "base_uri": "https://localhost:8080/"
        },
        "id": "M4MIzdHN8aEZ",
        "outputId": "e5179354-5898-4926-88a8-0a8a1d58738b"
      },
      "execution_count": null,
      "outputs": [
        {
          "output_type": "stream",
          "name": "stdout",
          "text": [
            "{'MONDAY': 'MO', 'TUESDAY': 'TU', 'WEDNESDAY': 'WE', 'THURSDAY': 'TH', 'FRIDAY': 'FR', 'SATURDAY': 'SA', 'SUNDAY': 'SU'}\n"
          ]
        }
      ]
    },
    {
      "cell_type": "code",
      "source": [
        "d = {\"MO\":\"MONDAY\", \"TU\":\"TUESDAY\", \"WE\":\"WEDNESDAY\", \"TH\":\"THURSDAY\", \\\n",
        "     \"FR\":\"FRIDAY\", \"SA\":\"SATURDAY\", \"SU\":\"SUNDAY\"}\n",
        "\n"
      ],
      "metadata": {
        "id": "r7VorvexBZNt"
      },
      "execution_count": null,
      "outputs": []
    },
    {
      "cell_type": "code",
      "execution_count": null,
      "metadata": {
        "id": "Zh__9XQOYh_2"
      },
      "outputs": [],
      "source": [
        "d"
      ]
    },
    {
      "cell_type": "code",
      "source": [
        "alphabet = {\n",
        " 'a': 0, 'b': 0, 'c': 0, 'd': 0, 'e': 0,\n",
        " 'f': 0, 'g': 0, 'h': 0, 'i': 0, 'j': 0,\n",
        " 'k': 0, 'l': 0, 'm': 0, 'n': 0, 'o': 0,\n",
        " 'p': 0, 'q': 0, 'r': 0, 's': 0, 't': 0,\n",
        " 'u': 0, 'v': 0, 'w': 0, 'x': 0, 'y': 0,\n",
        " 'z': 0\n",
        "}\n",
        "\n",
        "inp = input().lower()\n",
        "sentence = ''.join(char for char in inp if char.isalpha())\n",
        "\n",
        "for char in sentence:\n",
        "    alphabet[char] = alphabet[char]+1\n",
        "\n",
        "counter = []\n",
        "for char_count in alphabet.items():\n",
        "    if char_count[1] != 0: counter.append(char_count)\n",
        "\n",
        "\n",
        "\n",
        "for c in inp:\n"
      ],
      "metadata": {
        "id": "OSpF4-KwEUyL"
      },
      "execution_count": null,
      "outputs": []
    },
    {
      "cell_type": "markdown",
      "metadata": {
        "id": "63AtdYRYaFwj"
      },
      "source": [
        "## creating a dict\n",
        "\n",
        "dict works like a mapping function from key to its value. <br>\n",
        "`{ key1:value1, key2:value2, ... }`\n",
        "\n",
        "keys must be uniqued. Values can be duplicated. <br>\n",
        "\n",
        "Key can be string, int.  Value can be any data type.\n",
        "\n",
        "####**Important!!**\n",
        "\n",
        "Even though, in Python 3.7 the order of the keys stored are the same as when created, but it does not guarantee that this behavior will remain in the future. When we work with `dict`, the order of the keys might be different each time the program is running.  If we need to guarantee the sequence in some order, we have to move the data to a list and sort in the order that we want.\n",
        "\n",
        "Try\n",
        "https://www.jdoodle.com/python3-programming-online/ and change Python runtime to 3.5.1 to see this behavior."
      ]
    },
    {
      "cell_type": "code",
      "execution_count": null,
      "metadata": {
        "id": "aGbWMjZ7KAJz",
        "colab": {
          "base_uri": "https://localhost:8080/"
        },
        "outputId": "ba264ecf-f5cc-406e-c9c6-aede0f80831e"
      },
      "outputs": [
        {
          "output_type": "stream",
          "name": "stdout",
          "text": [
            "Python 3.11.11\n"
          ]
        }
      ],
      "source": [
        "!python --version"
      ]
    },
    {
      "cell_type": "code",
      "execution_count": null,
      "metadata": {
        "id": "FLz9FyU6RKfA"
      },
      "outputs": [],
      "source": [
        "grades = {\"1001\": \"A\", \"1002\": \"A\",\n",
        "         \"1003\": \"B\", \"1004\": \"C\",\n",
        "         \"1005\": \"B\", \"1006\": \"A\"}\n",
        "\n",
        "for k in grades:\n",
        "  print(k, grades[k])"
      ]
    },
    {
      "cell_type": "markdown",
      "metadata": {
        "id": "BPgeDsj8cx44"
      },
      "source": [
        "key can be float, but may have something unexpected due to approximation."
      ]
    },
    {
      "cell_type": "code",
      "execution_count": null,
      "metadata": {
        "colab": {
          "base_uri": "https://localhost:8080/",
          "height": 36
        },
        "id": "H8AW-u7wcKXF",
        "outputId": "64cd7ec3-8c8e-49c3-f97d-cd10c5b62d56"
      },
      "outputs": [
        {
          "output_type": "execute_result",
          "data": {
            "text/plain": [
              "'a'"
            ],
            "application/vnd.google.colaboratory.intrinsic+json": {
              "type": "string"
            }
          },
          "metadata": {},
          "execution_count": 1
        }
      ],
      "source": [
        "d = {0.1:'a', 0.2:'b', 0.3:'c', 0.4:'d', 0.5:'3'}\n",
        "x = 0.1\n",
        "d[x]"
      ]
    },
    {
      "cell_type": "code",
      "execution_count": null,
      "metadata": {
        "colab": {
          "base_uri": "https://localhost:8080/",
          "height": 36
        },
        "id": "BVfVvbnRdPwU",
        "outputId": "f5a2b638-77b8-4aba-ebae-c379ef980671"
      },
      "outputs": [
        {
          "output_type": "execute_result",
          "data": {
            "text/plain": [
              "'b'"
            ],
            "application/vnd.google.colaboratory.intrinsic+json": {
              "type": "string"
            }
          },
          "metadata": {},
          "execution_count": 2
        }
      ],
      "source": [
        "x += 0.1\n",
        "d[x]"
      ]
    },
    {
      "cell_type": "code",
      "execution_count": null,
      "metadata": {
        "id": "3dDxxYmedR9N"
      },
      "outputs": [],
      "source": [
        "x += 0.9\n",
        "d[x]"
      ]
    },
    {
      "cell_type": "markdown",
      "metadata": {
        "id": "gtrWPtg2aBSP"
      },
      "source": [
        "empty list & empty dict"
      ]
    },
    {
      "cell_type": "code",
      "execution_count": null,
      "metadata": {
        "colab": {
          "base_uri": "https://localhost:8080/"
        },
        "id": "KD-ytIsIaSwE",
        "outputId": "6c93fcee-1d43-43af-ba56-9a44e6b38273"
      },
      "outputs": [
        {
          "output_type": "stream",
          "name": "stdout",
          "text": [
            "<class 'list'> []\n",
            "<class 'list'> []\n",
            "<class 'dict'> {}\n",
            "<class 'dict'> {}\n"
          ]
        }
      ],
      "source": [
        "empty_list = []\n",
        "another_empty_list = list()\n",
        "empty_dict = {}\n",
        "another_empty_dict = dict()\n",
        "\n",
        "print(type(empty_list), empty_list)\n",
        "print(type(another_empty_list), another_empty_list)\n",
        "print(type(empty_dict), empty_dict)\n",
        "print(type(another_empty_dict), another_empty_dict)"
      ]
    },
    {
      "cell_type": "markdown",
      "metadata": {
        "id": "NuNmVL1ddJXU"
      },
      "source": [
        "### Example: creating a dict\n",
        "Create a variable named `d236` to be a `dict` that has three key, value pairs which are \"TWO\", \"THREE\", and \"SIX\" for keys and the corresponding values are 2, 3, and 6.\n",
        "\n"
      ]
    },
    {
      "cell_type": "code",
      "execution_count": null,
      "metadata": {
        "colab": {
          "base_uri": "https://localhost:8080/"
        },
        "id": "8l556PoHj1D4",
        "outputId": "21c796da-83cf-42a7-c760-f694a6b0ef81"
      },
      "outputs": [
        {
          "output_type": "execute_result",
          "data": {
            "text/plain": [
              "{'TWO': 2, 'THREE': 3, 'SIX': 6}"
            ]
          },
          "metadata": {},
          "execution_count": 4
        }
      ],
      "source": [
        "d236 = { \"TWO\":2, \"THREE\":3, \"SIX\":6}\n",
        "d236"
      ]
    },
    {
      "cell_type": "markdown",
      "metadata": {
        "id": "LCxoDznxNNZC"
      },
      "source": [
        "d236x = { 2:\"two\", 3:\"three\", 6:\"six\"}\n",
        "d236x.keys()"
      ]
    },
    {
      "cell_type": "markdown",
      "metadata": {
        "id": "ZMbI2soihpiS"
      },
      "source": [
        "### Exercise 8-1\n",
        "\n",
        "Write a program that reads one line of input as airport code and province name separated by space to create a dict airports = {\"BKK\":\"Bangkok\", \"DMK\":\"Bangkok\", \"HKT\":\"Phuket\", \"CNX\":\"Chiangmai\" }\n"
      ]
    },
    {
      "cell_type": "code",
      "execution_count": null,
      "metadata": {
        "id": "vYfrxnPIexT_",
        "colab": {
          "base_uri": "https://localhost:8080/"
        },
        "outputId": "fce476ce-baf8-421a-f483-4e932f2c1404"
      },
      "outputs": [
        {
          "output_type": "stream",
          "name": "stdout",
          "text": [
            "BKK Bangkok DMK Bangkok HKT Phuket CNX Chiangmai\n",
            "['BKK', 'Bangkok', 'DMK', 'Bangkok', 'HKT', 'Phuket', 'CNX', 'Chiangmai']\n"
          ]
        }
      ],
      "source": [
        "x = input()\n",
        "# BKK Bangkok DMK Bangkok HKT Phuket CNX Chiangmai\n",
        "x = x.split()\n",
        "print(x)\n",
        "airports = { x[0]:x[1], x[2]:x[3], x[4]:x[5], x[6]:x[7]}\n"
      ]
    },
    {
      "cell_type": "code",
      "execution_count": null,
      "metadata": {
        "id": "l2KjGkMiOBlR",
        "colab": {
          "base_uri": "https://localhost:8080/"
        },
        "outputId": "d007c9fe-c4ea-4a36-854f-632e265b4af9"
      },
      "outputs": [
        {
          "output_type": "stream",
          "name": "stdout",
          "text": [
            "{'BKK': 'Bangkok', 'DMK': 'Bangkok', 'HKT': 'Phuket', 'CNX': 'Chiangmai'}\n",
            "Phuket\n"
          ]
        }
      ],
      "source": [
        "print(airports)\n",
        "print(airports['HKT'])"
      ]
    },
    {
      "cell_type": "markdown",
      "metadata": {
        "id": "F0paH0CwSDCE"
      },
      "source": [
        "## Access data in dict\n",
        "\n",
        "We can access data in a dict via its key.  If the key is valid, the value will be returned.  If the key is invalid (not in the dict), there will be an error, \"KeyError\". <br>\n",
        "\n",
        "We can only get from key -> value. <br>\n",
        "There is no value -> key."
      ]
    },
    {
      "cell_type": "code",
      "execution_count": null,
      "metadata": {
        "id": "tOQYPexqaRfX"
      },
      "outputs": [],
      "source": [
        "grades = {\"6130186221\": \"A\", \"6230221221\": \"A\",\n",
        "          \"6231009821\": \"B\", \"6230543921\": \"C\",\n",
        "          \"6230431521\": \"B\", \"6230276821\": \"A\"}\n"
      ]
    },
    {
      "cell_type": "code",
      "execution_count": null,
      "metadata": {
        "id": "3x3sDqo-RshT",
        "colab": {
          "base_uri": "https://localhost:8080/",
          "height": 35
        },
        "outputId": "b5c4cf9b-cbe1-461b-f805-295e72a058ac"
      },
      "outputs": [
        {
          "output_type": "execute_result",
          "data": {
            "text/plain": [
              "'A'"
            ],
            "application/vnd.google.colaboratory.intrinsic+json": {
              "type": "string"
            }
          },
          "metadata": {},
          "execution_count": 7
        }
      ],
      "source": [
        "# access data in dict via key\n",
        "grades['6130186221']"
      ]
    },
    {
      "cell_type": "code",
      "source": [
        "d = {\"MO\":\"MONDAY\", \"TU\":\"TUESDAY\", \"WE\":\"WEDNESDAY\", \"TH\":\"THURSDAY\", \\\n",
        "     \"FR\":\"FRIDAY\", \"SA\":\"SATURDAY\", \"SU\":\"SUNDAY\"}\n",
        "\n",
        "\n",
        "d"
      ],
      "metadata": {
        "id": "ogqcR4HaMFRK"
      },
      "execution_count": null,
      "outputs": []
    },
    {
      "cell_type": "code",
      "execution_count": null,
      "metadata": {
        "colab": {
          "base_uri": "https://localhost:8080/",
          "height": 35
        },
        "id": "9OTLhWJwZikI",
        "outputId": "437ee906-164c-4512-d1e6-2b994f0c4722"
      },
      "outputs": [
        {
          "output_type": "execute_result",
          "data": {
            "text/plain": [
              "'B'"
            ],
            "application/vnd.google.colaboratory.intrinsic+json": {
              "type": "string"
            }
          },
          "metadata": {},
          "execution_count": 8
        }
      ],
      "source": [
        "grades['6230431521']"
      ]
    },
    {
      "cell_type": "code",
      "execution_count": null,
      "metadata": {
        "id": "-E7FBR7xZjEO",
        "colab": {
          "base_uri": "https://localhost:8080/",
          "height": 193
        },
        "outputId": "bb1dc587-0595-4aa3-a172-9ec751ed3d9e"
      },
      "outputs": [
        {
          "output_type": "error",
          "ename": "KeyError",
          "evalue": "'6230276800'",
          "traceback": [
            "\u001b[0;31m---------------------------------------------------------------------------\u001b[0m",
            "\u001b[0;31mKeyError\u001b[0m                                  Traceback (most recent call last)",
            "\u001b[0;32m<ipython-input-9-68ea03d4b410>\u001b[0m in \u001b[0;36m<cell line: 2>\u001b[0;34m()\u001b[0m\n\u001b[1;32m      1\u001b[0m \u001b[0;31m# what happen when key is not in dict\u001b[0m\u001b[0;34m\u001b[0m\u001b[0;34m\u001b[0m\u001b[0m\n\u001b[0;32m----> 2\u001b[0;31m \u001b[0mgrades\u001b[0m\u001b[0;34m[\u001b[0m\u001b[0;34m'6230276800'\u001b[0m\u001b[0;34m]\u001b[0m\u001b[0;34m\u001b[0m\u001b[0;34m\u001b[0m\u001b[0m\n\u001b[0m",
            "\u001b[0;31mKeyError\u001b[0m: '6230276800'"
          ]
        }
      ],
      "source": [
        "# what happen when key is not in dict\n",
        "grades['6230276800']"
      ]
    },
    {
      "cell_type": "code",
      "execution_count": null,
      "metadata": {
        "id": "1z-E_SoQXwYv"
      },
      "outputs": [],
      "source": [
        "BLACKPINK = [\"Jisoo\", \"Jennie\", \"Rosé\", \"Lisa\"]\n",
        "votes = {} # create empty dict\n",
        "for name in BLACKPINK:\n",
        "  votes[name] = 0 # add new key: value into dict\n",
        "  # {\"Jisoo\": 0, \"Jennie\": 0, \"Rosé\": 0, \"Lisa\": 0}\n",
        "\n",
        "name = input()\n",
        "while name != 'q':\n",
        "  if name in BLACKPINK:\n",
        "    votes[name] += 1 # incrementvalue\n",
        "  name = input()\n",
        "\n",
        "for name in BLACKPINK:\n",
        "  print(name, \"-->\", votes[name]) # get value\n",
        "\n"
      ]
    },
    {
      "cell_type": "code",
      "execution_count": null,
      "metadata": {
        "id": "iiQCb85yYdzx"
      },
      "outputs": [],
      "source": [
        "votes = {}\n",
        "\n",
        "name = input()\n",
        "while name != \"q\":\n",
        "  if name not in votes:\n",
        "    votes[name] = 1\n",
        "  else:\n",
        "    votes[name] = votes[name] + 1 # votes[name] += 1\n",
        "for k in votes:\n",
        "  print(k, votes[k])"
      ]
    },
    {
      "cell_type": "code",
      "execution_count": null,
      "metadata": {
        "id": "tzLC2qtOZ4Dq"
      },
      "outputs": [],
      "source": [
        "alphabets = \"abcdefghijklmnopqrstuvwxyzrrssdsdsfdsfsafdasff\"\n"
      ]
    },
    {
      "cell_type": "markdown",
      "metadata": {
        "id": "zXurZ9iIa_n-"
      },
      "source": [
        "\n",
        "\n",
        "---\n",
        "\n"
      ]
    },
    {
      "cell_type": "code",
      "execution_count": null,
      "metadata": {
        "id": "cFvSIpy9a6IC"
      },
      "outputs": [],
      "source": [
        "d = { \"A\": \"เอ\", \"B\": \"บี\" , \"C\":\"ซี\" }\n",
        "r = {}\n",
        "for k in d:\n",
        "  r[d[k]] = k\n",
        "print(r)"
      ]
    },
    {
      "cell_type": "code",
      "execution_count": null,
      "metadata": {
        "id": "SjwP-r_nbwMT"
      },
      "outputs": [],
      "source": [
        "d = { 2:33, 4:55, 9:33, 7:33, 8:55 }\n",
        "\n",
        "l = []\n",
        "for k in d:\n",
        "  if d[k] == 55:\n",
        "    l.append(k)\n",
        "\n",
        "print(l)"
      ]
    },
    {
      "cell_type": "code",
      "execution_count": null,
      "metadata": {
        "id": "agvqZN1UZP84"
      },
      "outputs": [],
      "source": [
        "alphabets = \"abcdefghijklmnopqrstuvwxyzrrssdsdsfdsfsafdasff\"\n",
        "\n",
        "d = {}\n",
        "for c in alphabets:\n",
        "  if c not in d:\n",
        "    d[c] = 1\n",
        "  else:\n",
        "    d[c] += 1\n",
        "\n",
        "for k in d.keys():\n",
        "  print(k, d[k])\n",
        "\n",
        "\n"
      ]
    },
    {
      "cell_type": "code",
      "execution_count": null,
      "metadata": {
        "id": "4K0Oh_rxeXgB"
      },
      "outputs": [],
      "source": [
        "ID = input()\n",
        "while ID != \"q\":\n",
        "    print(ID, \"-->\", grades[ID])\n",
        "    ID = input()"
      ]
    },
    {
      "cell_type": "markdown",
      "metadata": {
        "id": "MxJ_iyBXfqVu"
      },
      "source": [
        "### `if k in dict / if k not in dict`\n",
        "\n",
        "Before access the dict, you should make sure that the key to be accessed in in the dict."
      ]
    },
    {
      "cell_type": "code",
      "execution_count": null,
      "metadata": {
        "id": "jiJEFmMEf3eD",
        "colab": {
          "base_uri": "https://localhost:8080/",
          "height": 460
        },
        "outputId": "598dfe04-333f-4eca-c52e-e9f4408c6565"
      },
      "outputs": [
        {
          "output_type": "stream",
          "name": "stdout",
          "text": [
            "6130186221\n",
            "6130186221 --> A\n",
            "6230543921\n",
            "6230543921 --> C\n",
            "6666666666\n",
            "6666666666  not found\n"
          ]
        },
        {
          "output_type": "error",
          "ename": "KeyboardInterrupt",
          "evalue": "Interrupted by user",
          "traceback": [
            "\u001b[0;31m---------------------------------------------------------------------------\u001b[0m",
            "\u001b[0;31mKeyboardInterrupt\u001b[0m                         Traceback (most recent call last)",
            "\u001b[0;32m<ipython-input-7-c935bf8c40cd>\u001b[0m in \u001b[0;36m<cell line: 0>\u001b[0;34m()\u001b[0m\n\u001b[1;32m      9\u001b[0m     \u001b[0;32melse\u001b[0m\u001b[0;34m:\u001b[0m\u001b[0;34m\u001b[0m\u001b[0;34m\u001b[0m\u001b[0m\n\u001b[1;32m     10\u001b[0m         \u001b[0mprint\u001b[0m\u001b[0;34m(\u001b[0m\u001b[0mID\u001b[0m\u001b[0;34m,\u001b[0m \u001b[0;34m\" not found\"\u001b[0m\u001b[0;34m)\u001b[0m\u001b[0;34m\u001b[0m\u001b[0;34m\u001b[0m\u001b[0m\n\u001b[0;32m---> 11\u001b[0;31m     \u001b[0mID\u001b[0m \u001b[0;34m=\u001b[0m \u001b[0minput\u001b[0m\u001b[0;34m(\u001b[0m\u001b[0;34m)\u001b[0m\u001b[0;34m\u001b[0m\u001b[0;34m\u001b[0m\u001b[0m\n\u001b[0m",
            "\u001b[0;32m/usr/local/lib/python3.11/dist-packages/ipykernel/kernelbase.py\u001b[0m in \u001b[0;36mraw_input\u001b[0;34m(self, prompt)\u001b[0m\n\u001b[1;32m   1175\u001b[0m                 \u001b[0;34m\"raw_input was called, but this frontend does not support input requests.\"\u001b[0m\u001b[0;34m\u001b[0m\u001b[0;34m\u001b[0m\u001b[0m\n\u001b[1;32m   1176\u001b[0m             )\n\u001b[0;32m-> 1177\u001b[0;31m         return self._input_request(\n\u001b[0m\u001b[1;32m   1178\u001b[0m             \u001b[0mstr\u001b[0m\u001b[0;34m(\u001b[0m\u001b[0mprompt\u001b[0m\u001b[0;34m)\u001b[0m\u001b[0;34m,\u001b[0m\u001b[0;34m\u001b[0m\u001b[0;34m\u001b[0m\u001b[0m\n\u001b[1;32m   1179\u001b[0m             \u001b[0mself\u001b[0m\u001b[0;34m.\u001b[0m\u001b[0m_parent_ident\u001b[0m\u001b[0;34m[\u001b[0m\u001b[0;34m\"shell\"\u001b[0m\u001b[0;34m]\u001b[0m\u001b[0;34m,\u001b[0m\u001b[0;34m\u001b[0m\u001b[0;34m\u001b[0m\u001b[0m\n",
            "\u001b[0;32m/usr/local/lib/python3.11/dist-packages/ipykernel/kernelbase.py\u001b[0m in \u001b[0;36m_input_request\u001b[0;34m(self, prompt, ident, parent, password)\u001b[0m\n\u001b[1;32m   1217\u001b[0m             \u001b[0;32mexcept\u001b[0m \u001b[0mKeyboardInterrupt\u001b[0m\u001b[0;34m:\u001b[0m\u001b[0;34m\u001b[0m\u001b[0;34m\u001b[0m\u001b[0m\n\u001b[1;32m   1218\u001b[0m                 \u001b[0;31m# re-raise KeyboardInterrupt, to truncate traceback\u001b[0m\u001b[0;34m\u001b[0m\u001b[0;34m\u001b[0m\u001b[0m\n\u001b[0;32m-> 1219\u001b[0;31m                 \u001b[0;32mraise\u001b[0m \u001b[0mKeyboardInterrupt\u001b[0m\u001b[0;34m(\u001b[0m\u001b[0;34m\"Interrupted by user\"\u001b[0m\u001b[0;34m)\u001b[0m \u001b[0;32mfrom\u001b[0m \u001b[0;32mNone\u001b[0m\u001b[0;34m\u001b[0m\u001b[0;34m\u001b[0m\u001b[0m\n\u001b[0m\u001b[1;32m   1220\u001b[0m             \u001b[0;32mexcept\u001b[0m \u001b[0mException\u001b[0m\u001b[0;34m:\u001b[0m\u001b[0;34m\u001b[0m\u001b[0;34m\u001b[0m\u001b[0m\n\u001b[1;32m   1221\u001b[0m                 \u001b[0mself\u001b[0m\u001b[0;34m.\u001b[0m\u001b[0mlog\u001b[0m\u001b[0;34m.\u001b[0m\u001b[0mwarning\u001b[0m\u001b[0;34m(\u001b[0m\u001b[0;34m\"Invalid Message:\"\u001b[0m\u001b[0;34m,\u001b[0m \u001b[0mexc_info\u001b[0m\u001b[0;34m=\u001b[0m\u001b[0;32mTrue\u001b[0m\u001b[0;34m)\u001b[0m\u001b[0;34m\u001b[0m\u001b[0;34m\u001b[0m\u001b[0m\n",
            "\u001b[0;31mKeyboardInterrupt\u001b[0m: Interrupted by user"
          ]
        }
      ],
      "source": [
        "grades = {\"6130186221\": \"A\", \"6230221221\": \"A\",\n",
        "          \"6231009821\": \"B\", \"6230543921\": \"C\",\n",
        "          \"6230431521\": \"B\", \"6230276821\": \"A\"}\n",
        "\n",
        "ID = input()\n",
        "while ID != \"q\":\n",
        "    if ID in grades:\n",
        "        print(ID, \"-->\", grades[ID])\n",
        "    else:\n",
        "        print(ID, \" not found\")\n",
        "    ID = input()"
      ]
    },
    {
      "cell_type": "markdown",
      "metadata": {
        "id": "zw3JiAYieDqJ"
      },
      "source": [
        "### Exercise 8-2\n",
        "\n",
        "Create a variable named `count_alpha` as a dict that has key as all English alphabets (upper and lower cases), and has all values as 0.\n"
      ]
    },
    {
      "cell_type": "code",
      "execution_count": null,
      "metadata": {
        "colab": {
          "base_uri": "https://localhost:8080/"
        },
        "id": "qnxY3vTghULH",
        "outputId": "67ac154b-a12d-4043-ca59-14b25581b980"
      },
      "outputs": [
        {
          "output_type": "stream",
          "name": "stdout",
          "text": [
            "abcdefghijklmnopqrstuvwxyz\n",
            "abcdefghijklmnopqrstuvwxyzABCDEFGHIJKLMNOPQRSTUVWXYZ\n"
          ]
        },
        {
          "output_type": "execute_result",
          "data": {
            "text/plain": [
              "{'a': 0,\n",
              " 'b': 0,\n",
              " 'c': 0,\n",
              " 'd': 0,\n",
              " 'e': 0,\n",
              " 'f': 0,\n",
              " 'g': 0,\n",
              " 'h': 0,\n",
              " 'i': 0,\n",
              " 'j': 0,\n",
              " 'k': 0,\n",
              " 'l': 0,\n",
              " 'm': 0,\n",
              " 'n': 0,\n",
              " 'o': 0,\n",
              " 'p': 0,\n",
              " 'q': 0,\n",
              " 'r': 0,\n",
              " 's': 0,\n",
              " 't': 0,\n",
              " 'u': 0,\n",
              " 'v': 0,\n",
              " 'w': 0,\n",
              " 'x': 0,\n",
              " 'y': 0,\n",
              " 'z': 0,\n",
              " 'A': 0,\n",
              " 'B': 0,\n",
              " 'C': 0,\n",
              " 'D': 0,\n",
              " 'E': 0,\n",
              " 'F': 0,\n",
              " 'G': 0,\n",
              " 'H': 0,\n",
              " 'I': 0,\n",
              " 'J': 0,\n",
              " 'K': 0,\n",
              " 'L': 0,\n",
              " 'M': 0,\n",
              " 'N': 0,\n",
              " 'O': 0,\n",
              " 'P': 0,\n",
              " 'Q': 0,\n",
              " 'R': 0,\n",
              " 'S': 0,\n",
              " 'T': 0,\n",
              " 'U': 0,\n",
              " 'V': 0,\n",
              " 'W': 0,\n",
              " 'X': 0,\n",
              " 'Y': 0,\n",
              " 'Z': 0}"
            ]
          },
          "metadata": {},
          "execution_count": 10
        }
      ],
      "source": [
        "alphabets = 'abcdefghijklmnopqrstuvwxyz'\n",
        "print(alphabets)\n",
        "alphabets += alphabets.upper()\n",
        "print(alphabets)\n",
        "count_alpha = {}\n",
        "for c in alphabets:\n",
        "    count_alpha[c] = 0\n",
        "count_alpha"
      ]
    },
    {
      "cell_type": "code",
      "execution_count": null,
      "metadata": {
        "id": "-cAJRB7DZhiv"
      },
      "outputs": [],
      "source": [
        "digits = '0123456789'\n",
        "count_digits = {}\n",
        "for c in digits:\n",
        "    count_digits[c] = 0\n",
        "count_digits"
      ]
    },
    {
      "cell_type": "markdown",
      "metadata": {
        "id": "3xKD3Q__hUzu"
      },
      "source": [
        "### Exercise 8-3\n",
        "\n",
        "This program has a variable named `student1` stores a student's data.  Write read_data() function that reads keyboard input that has student_id, first-lastname, birthdate, birthmonth, birthyear (separated by comma and space) then store s in a dict that similar to `student1` and return that as function's result.  For example, <br>\n",
        "\n",
        "**Input**\n",
        "- 4230000021, Natalie P., 9, 6, 1981\n",
        "\n",
        "**Result from read_data**\n",
        "- `{\"ID\": \"4230000021\", \"Name\":\"Natalie P.\", \"Birthdate\": [9, 6, 1981]}`\n",
        "\n"
      ]
    },
    {
      "cell_type": "code",
      "execution_count": null,
      "metadata": {
        "id": "ubgdf0caho7L"
      },
      "outputs": [],
      "source": [
        "def read_data():\n",
        "    x = input().split(\", \")\n",
        "    d = {\"ID\": x[0],\n",
        "         \"Name\": x[1],\n",
        "         \"Birthdate\": [int(x[2]), int(x[3]), int(x[4])]}\n",
        "    return d\n",
        "\n",
        "student1 = {\"ID\": \"5830000021\",\n",
        "            \"Name\": \"Pranpriya M.\",\n",
        "            \"Birthdate\": [27, 3, 1997]}\n",
        "student2 = read_data()\n",
        "print(student2)"
      ]
    },
    {
      "cell_type": "markdown",
      "metadata": {
        "id": "IwKX2PB_YnbI"
      },
      "source": [
        "## Add/Update value in dict\n",
        "\n",
        "When you assign a data to a key, if the key is not in dict, `key:data` will be added to the dict. If the key is already in dict, the data will  replace the original value."
      ]
    },
    {
      "cell_type": "code",
      "execution_count": null,
      "metadata": {
        "colab": {
          "base_uri": "https://localhost:8080/"
        },
        "id": "FEL9spqFiSuV",
        "outputId": "23e39676-335f-491f-d880-a23fb8bb0886"
      },
      "outputs": [
        {
          "output_type": "execute_result",
          "data": {
            "text/plain": [
              "{2: 'abc'}"
            ]
          },
          "metadata": {},
          "execution_count": 8
        }
      ],
      "source": [
        "d = {}\n",
        "d[2] = 'abc'\n",
        "d"
      ]
    },
    {
      "cell_type": "code",
      "execution_count": null,
      "metadata": {
        "colab": {
          "base_uri": "https://localhost:8080/"
        },
        "id": "LUQg5wsJibDI",
        "outputId": "05fe099c-5ef2-4fb5-ad4b-e1fcdf89b8b1"
      },
      "outputs": [
        {
          "output_type": "execute_result",
          "data": {
            "text/plain": [
              "{2: 'abc', 'x': 5}"
            ]
          },
          "metadata": {},
          "execution_count": 9
        }
      ],
      "source": [
        "d['x'] = 5\n",
        "d"
      ]
    },
    {
      "cell_type": "code",
      "execution_count": null,
      "metadata": {
        "colab": {
          "base_uri": "https://localhost:8080/"
        },
        "id": "5pqkFQ6Hiikd",
        "outputId": "b97d6216-0eb1-4709-ba52-a62af19fab47"
      },
      "outputs": [
        {
          "output_type": "execute_result",
          "data": {
            "text/plain": [
              "{2: 'abc', 'x': 5, 3: 0}"
            ]
          },
          "metadata": {},
          "execution_count": 10
        }
      ],
      "source": [
        "d[3] = 0\n",
        "d"
      ]
    },
    {
      "cell_type": "code",
      "execution_count": null,
      "metadata": {
        "colab": {
          "base_uri": "https://localhost:8080/"
        },
        "id": "RyMcotk-io8C",
        "outputId": "d87c44c2-2647-4fdb-b9bf-75b2793cb877"
      },
      "outputs": [
        {
          "output_type": "execute_result",
          "data": {
            "text/plain": [
              "{2: '+++', 'x': 5, 3: 0}"
            ]
          },
          "metadata": {},
          "execution_count": 11
        }
      ],
      "source": [
        "d[2] = '+++'\n",
        "d"
      ]
    },
    {
      "cell_type": "code",
      "execution_count": null,
      "metadata": {
        "id": "5mRDAGPSYsKw",
        "colab": {
          "base_uri": "https://localhost:8080/"
        },
        "outputId": "5601365b-810b-45a8-ab20-df075523668d"
      },
      "outputs": [
        {
          "output_type": "stream",
          "name": "stdout",
          "text": [
            "4\n",
            "1001 W\n",
            "1002 A\n",
            "1002 M\n",
            "1003 X\n",
            "{'1001': 'W', '1002': 'M', '1003': 'X'}\n"
          ]
        }
      ],
      "source": [
        "grade = { }   # empty dict\n",
        "n = int(input())\n",
        "for k in range(n):\n",
        "  ID, g = input().split()\n",
        "  grade[ ID ] = g\n",
        "print(grade)\n"
      ]
    },
    {
      "cell_type": "markdown",
      "metadata": {
        "id": "1Z4rjIRMTZtr"
      },
      "source": [
        "### Example: Voting\n",
        "\n",
        "Have a list of names\n",
        "Input name votes\n",
        "```\n",
        "BLACKPINK = [\"Jisoo\", \"Jennie\", \"Rosé\", \"Lisa\"]\n",
        "Lisa Lisa Lisa Lisa Jennie Aum Jisoo Lisa\n",
        "```\n",
        "Show vote result\n"
      ]
    },
    {
      "cell_type": "code",
      "execution_count": null,
      "metadata": {
        "id": "kOnywxSQSm4q",
        "colab": {
          "base_uri": "https://localhost:8080/"
        },
        "outputId": "84373c71-2224-42bf-c2d0-77f27208ff42"
      },
      "outputs": [
        {
          "output_type": "execute_result",
          "data": {
            "text/plain": [
              "{'Jisoo': 0, 'Jennie': 0, 'Rosé': 0, 'Lisa': 0}"
            ]
          },
          "metadata": {},
          "execution_count": 14
        }
      ],
      "source": [
        "BLACKPINK = [\"Jisoo\", \"Jennie\", \"Rosé\", \"Lisa\"]\n",
        "votes = {}               # create empty dict\n",
        "for name in BLACKPINK:\n",
        "  votes[name] = 0      # add new key: value into dict\n",
        "# {\"Jisoo\": 0, \"Jennie\": 0, \"Rosé\": 0, \"Lisa\": 0}\n",
        "\n",
        "votes"
      ]
    },
    {
      "cell_type": "code",
      "execution_count": null,
      "metadata": {
        "id": "xEQoS1bSo4Rt",
        "colab": {
          "base_uri": "https://localhost:8080/"
        },
        "outputId": "ee1b6403-b4b6-45cd-9579-ba9df35add91"
      },
      "outputs": [
        {
          "name": "stdout",
          "output_type": "stream",
          "text": [
            "Lisa Lisa Lisa Lisa\n"
          ]
        },
        {
          "output_type": "execute_result",
          "data": {
            "text/plain": [
              "{'Jisoo': 0, 'Jennie': 1, 'Rosé': 0, 'Lisa': 7}"
            ]
          },
          "metadata": {},
          "execution_count": 18
        }
      ],
      "source": [
        "names = input().split()\n",
        "for name in names:\n",
        "  if name in BLACKPINK:\n",
        "    votes[name] += 1  # increment value\n",
        "\n",
        "votes"
      ]
    },
    {
      "cell_type": "code",
      "execution_count": null,
      "metadata": {
        "id": "6eoBqpU7qHQK",
        "colab": {
          "base_uri": "https://localhost:8080/"
        },
        "outputId": "909d7d4d-887d-4785-afa4-78c130426131"
      },
      "outputs": [
        {
          "output_type": "stream",
          "name": "stdout",
          "text": [
            "Jisoo --> 0\n",
            "Jennie --> 1\n",
            "Rosé --> 0\n",
            "Lisa --> 7\n"
          ]
        }
      ],
      "source": [
        "for name in BLACKPINK:\n",
        "  print(name, \"-->\", votes[name]) # get value"
      ]
    },
    {
      "cell_type": "code",
      "execution_count": null,
      "metadata": {
        "id": "k3Z9yb3BVK-E",
        "colab": {
          "base_uri": "https://localhost:8080/"
        },
        "outputId": "df742406-19db-4509-9cc2-dc4950d6b87c"
      },
      "outputs": [
        {
          "output_type": "stream",
          "name": "stdout",
          "text": [
            "Lisa --> 7\n"
          ]
        }
      ],
      "source": [
        "for name in BLACKPINK:\n",
        "    if votes[name] > 4:\n",
        "        print(name, \"-->\", votes[name])"
      ]
    },
    {
      "cell_type": "markdown",
      "metadata": {
        "id": "e5SB20fWgt90"
      },
      "source": [
        "### Exercise 8-4\n",
        "\n",
        "Write a function `add(points, members, extra)` that takes\n",
        "- a dict,  `points` that stores the data in the formate { member_id:point }\n",
        "- a list, `members` that stores member ids\n",
        "- an integer, `extra` as reward points that will be added to dict `points` for each member specified in `members`\n",
        "\n",
        "This function only updates `points` and will return nothing.\n"
      ]
    },
    {
      "cell_type": "code",
      "execution_count": null,
      "metadata": {
        "id": "U8quDpCMoYTp"
      },
      "outputs": [],
      "source": [
        "# points -> { 'X001':200, 'X002':100, 'X003':1000, 'X004': 150}\n",
        "# members -> ['X001', 'X003']\n",
        "# extra -> 30\n",
        "# points should be { 'X001':200+30, 'X002':100, 'X003':1000+30, 'X004': 150}\n",
        "def add(points, members, extra):\n",
        "    for member in members:\n",
        "        if member in points:\n",
        "            #points[member] = points[member] + extra\n",
        "            points[member] += extra\n",
        "\n",
        "x = { 'X001':200, 'X002':100, 'X003':1000, 'X004': 150}\n",
        "y = ['X001', 'X003', 'X002']\n",
        "z = 500\n",
        "print(x)\n",
        "add(x, y, z)\n",
        "print(x)\n"
      ]
    },
    {
      "cell_type": "markdown",
      "metadata": {
        "id": "tbmg5FBfap8f"
      },
      "source": [
        "## Access every key in dict\n",
        "\n",
        "###`for each_key in a_dict`\n",
        "\n",
        "Note: If this program is running with Python 3.7, the order of keys will be the same as the order of creating but it does not guarantee that this behavior will remain in later version of Python. (Python in Grader also has random order of keys)\n"
      ]
    },
    {
      "cell_type": "code",
      "execution_count": null,
      "metadata": {
        "id": "-9u3upJKas8T",
        "colab": {
          "base_uri": "https://localhost:8080/"
        },
        "outputId": "566bbf8d-3ab6-4fa2-cc70-e09bd5430ce2"
      },
      "outputs": [
        {
          "output_type": "stream",
          "name": "stdout",
          "text": [
            "first --> 1\n",
            "second --> 2\n",
            "third --> 3\n",
            "fourth --> 4\n",
            "fifth --> 5\n",
            "sixth --> 6\n",
            "seventh --> 7\n",
            "eighth --> 8\n",
            "ninth --> 9\n",
            "tenth --> 9\n"
          ]
        }
      ],
      "source": [
        "ordinal = {\"first\": 1, \"second\": 2, \"third\": 3,\n",
        "           \"fourth\": 4, \"fifth\": 5, \"sixth\": 6,\n",
        "           \"seventh\": 7, \"eighth\": 8,\n",
        "           \"ninth\": 9, \"tenth\": 9} #10\n",
        "\n",
        "for key in ordinal:\n",
        "  print(key, \"-->\", ordinal[key] )"
      ]
    },
    {
      "cell_type": "markdown",
      "metadata": {
        "id": "y4N_EqZXvLMa"
      },
      "source": [
        "### `dict.keys(), dict.values(), dict.items()`"
      ]
    },
    {
      "cell_type": "code",
      "execution_count": null,
      "metadata": {
        "id": "OJpBX8BBvTOp",
        "colab": {
          "base_uri": "https://localhost:8080/"
        },
        "outputId": "de682f85-a83b-4691-c76f-dda83984977f"
      },
      "outputs": [
        {
          "output_type": "execute_result",
          "data": {
            "text/plain": [
              "dict_keys(['first', 'second', 'third', 'fourth', 'fifth', 'sixth', 'seventh', 'eighth', 'ninth', 'tenth'])"
            ]
          },
          "metadata": {},
          "execution_count": 22
        }
      ],
      "source": [
        "ordinal.keys()"
      ]
    },
    {
      "cell_type": "code",
      "execution_count": null,
      "metadata": {
        "id": "H2fsD398dD7b",
        "colab": {
          "base_uri": "https://localhost:8080/"
        },
        "outputId": "3ce1dd2a-558d-4820-fc5e-7f584a07906a"
      },
      "outputs": [
        {
          "output_type": "stream",
          "name": "stdout",
          "text": [
            "dict_keys(['first', 'second', 'third', 'fourth', 'fifth', 'sixth', 'seventh', 'eighth', 'ninth', 'tenth'])\n",
            "['eighth', 'fifth', 'first', 'fourth', 'ninth', 'second', 'seventh', 'sixth', 'tenth', 'third']\n",
            "8\n",
            "5\n",
            "1\n",
            "4\n",
            "9\n",
            "2\n",
            "7\n",
            "6\n",
            "10\n",
            "3\n"
          ]
        }
      ],
      "source": [
        "print(ordinal.keys())\n",
        "print(sorted(ordinal.keys()))\n",
        "for key in sorted(ordinal.keys()):\n",
        "    print(ordinal[key])"
      ]
    },
    {
      "cell_type": "code",
      "execution_count": null,
      "metadata": {
        "id": "wH2flEZjvaI4",
        "colab": {
          "base_uri": "https://localhost:8080/"
        },
        "outputId": "6f2106f1-a407-4cab-ac9c-527845923c66"
      },
      "outputs": [
        {
          "output_type": "execute_result",
          "data": {
            "text/plain": [
              "dict_values([1, 2, 3, 4, 5, 6, 7, 8, 9, 10])"
            ]
          },
          "metadata": {},
          "execution_count": 24
        }
      ],
      "source": [
        "ordinal.values()"
      ]
    },
    {
      "cell_type": "code",
      "execution_count": null,
      "metadata": {
        "id": "NtsXxqx3vgHL",
        "colab": {
          "base_uri": "https://localhost:8080/"
        },
        "outputId": "097b17e8-6c4a-4c21-81c3-794b86e9c0ee"
      },
      "outputs": [
        {
          "output_type": "execute_result",
          "data": {
            "text/plain": [
              "dict_items([('first', 1), ('second', 2), ('third', 3), ('fourth', 4), ('fifth', 5), ('sixth', 6), ('seventh', 7), ('eighth', 8), ('ninth', 9), ('tenth', 10)])"
            ]
          },
          "metadata": {},
          "execution_count": 25
        }
      ],
      "source": [
        "ordinal.items()"
      ]
    },
    {
      "cell_type": "code",
      "execution_count": null,
      "metadata": {
        "id": "1BmssM8idwDf",
        "colab": {
          "base_uri": "https://localhost:8080/"
        },
        "outputId": "e89251d7-4032-45be-dcab-5e952752594a"
      },
      "outputs": [
        {
          "output_type": "execute_result",
          "data": {
            "text/plain": [
              "{1: 'first',\n",
              " 2: 'second',\n",
              " 3: 'third',\n",
              " 4: 'fourth',\n",
              " 5: 'fifth',\n",
              " 6: 'sixth',\n",
              " 7: 'seventh',\n",
              " 8: 'eighth',\n",
              " 9: 'tenth'}"
            ]
          },
          "metadata": {},
          "execution_count": 28
        }
      ],
      "source": [
        "# create reverse_ordinal\n",
        "reverse_ordinal = {}\n",
        "for key, value in ordinal.items():\n",
        "    reverse_ordinal[value] = key\n",
        "reverse_ordinal"
      ]
    },
    {
      "cell_type": "code",
      "execution_count": null,
      "metadata": {
        "id": "flIzOwfAeiYo",
        "colab": {
          "base_uri": "https://localhost:8080/"
        },
        "outputId": "ef29456e-e026-4a13-a1dd-d2358aaf6376"
      },
      "outputs": [
        {
          "output_type": "stream",
          "name": "stdout",
          "text": [
            "9 tenth\n",
            "8 eighth\n",
            "7 seventh\n",
            "6 sixth\n",
            "5 fifth\n",
            "4 fourth\n",
            "3 third\n",
            "2 second\n",
            "1 first\n"
          ]
        }
      ],
      "source": [
        "for key in sorted(reverse_ordinal.keys(), reverse=True):\n",
        "    print(key, reverse_ordinal[key])"
      ]
    },
    {
      "cell_type": "code",
      "execution_count": null,
      "metadata": {
        "id": "uu0r1ajTfVIb",
        "colab": {
          "base_uri": "https://localhost:8080/"
        },
        "outputId": "00810995-dbb4-462d-c5c0-200916a5de6f"
      },
      "outputs": [
        {
          "output_type": "stream",
          "name": "stdout",
          "text": [
            "{'first': 1, 'second': 2, 'third': 3, 'fourth': 4, 'fifth': 5, 'sixth': 6, 'seventh': 7, 'eighth': 8, 'ninth': 9, 'tenth': 9}\n",
            "[[7, 'seventh'], [6, 'second'], [6, 'fourth'], [6, 'eighth'], [5, 'third'], [5, 'tenth'], [5, 'sixth'], [5, 'ninth'], [5, 'first'], [5, 'fifth']]\n",
            "seventh 7\n",
            "second 2\n",
            "fourth 4\n",
            "eighth 8\n",
            "third 3\n",
            "tenth 9\n",
            "sixth 6\n",
            "ninth 9\n",
            "first 1\n",
            "fifth 5\n"
          ]
        }
      ],
      "source": [
        "#sorted([[len(e), e] for e in ordinal])\n",
        "print(ordinal)\n",
        "\n",
        "print(sorted([[len(e), e] for e in ordinal], reverse=True))\n",
        "\n",
        "for [x1, x2] in sorted([[len(e), e] for e in ordinal], reverse=True):\n",
        "    print(x2, ordinal[x2])\n"
      ]
    },
    {
      "cell_type": "markdown",
      "metadata": {
        "id": "kSSDAeB4pRn9"
      },
      "source": [
        "### Exercise 8-5\n",
        "\n",
        "Write a function `get_courseIDs(number_of_students, k)` where:\n",
        "- `number_of_students` is a dict that stores data in format  {course_id: total_student_registered}\n",
        "- `k` is an integer number\n",
        "\n",
        "This function returns a list of all course ids that has total number of students registered at least `k` people.  The course ids should be sorted in ascending order."
      ]
    },
    {
      "cell_type": "code",
      "execution_count": null,
      "metadata": {
        "id": "b-wPuMfRreNJ"
      },
      "outputs": [],
      "source": [
        "def get_courseIDs(number_of_students, k):\n",
        "    courses = []\n",
        "    for key in number_of_students :\n",
        "      if int(number_of_students[key]) >= k :\n",
        "        courses.append(key)\n",
        "    return sorted(courses, reverse=False)\n",
        "\n",
        "d = {\"2190101\":\"55\", \"2190415\":\"60\", \"2190443\":\"25\"}\n",
        "print(get_courseIDs(d,55))"
      ]
    },
    {
      "cell_type": "markdown",
      "metadata": {
        "id": "2cRbYI-TTUfA"
      },
      "source": [
        "## Examples"
      ]
    },
    {
      "cell_type": "markdown",
      "metadata": {
        "id": "J6372t5CuFHU"
      },
      "source": [
        "### Is a value in the dict?"
      ]
    },
    {
      "cell_type": "code",
      "execution_count": null,
      "metadata": {
        "id": "Pzj9lFcOueZW",
        "colab": {
          "base_uri": "https://localhost:8080/"
        },
        "outputId": "9772b475-fd3a-457b-c3b7-f247c525a214"
      },
      "outputs": [
        {
          "output_type": "execute_result",
          "data": {
            "text/plain": [
              "False"
            ]
          },
          "metadata": {},
          "execution_count": 38
        }
      ],
      "source": [
        "ordinal = {\"first\": 1, \"second\": 2, \"third\": 3,\n",
        "           \"fourth\": 4, \"fifth\": 5, \"sixth\": 6,\n",
        "           \"seventh\": 7, \"eighth\": 8,\n",
        "           \"ninth\": 9, \"tenth\": 10 }\n",
        "\n",
        "# is a key in dict?\n",
        "'third' in ordinal\n",
        "'forth' in ordinal.keys()"
      ]
    },
    {
      "cell_type": "code",
      "execution_count": null,
      "metadata": {
        "id": "Xc6RpR5FwpLT",
        "colab": {
          "base_uri": "https://localhost:8080/"
        },
        "outputId": "24defd86-7f94-45ff-a7e1-05c2aac12efc"
      },
      "outputs": [
        {
          "output_type": "execute_result",
          "data": {
            "text/plain": [
              "False"
            ]
          },
          "metadata": {},
          "execution_count": 39
        }
      ],
      "source": [
        "# is 3 in the dict's value?\n",
        "3 in ordinal"
      ]
    },
    {
      "cell_type": "code",
      "execution_count": null,
      "metadata": {
        "id": "ysgzsFmwwvS_",
        "colab": {
          "base_uri": "https://localhost:8080/"
        },
        "outputId": "94b2d858-e744-47ba-b073-6924b08084be"
      },
      "outputs": [
        {
          "output_type": "execute_result",
          "data": {
            "text/plain": [
              "True"
            ]
          },
          "metadata": {},
          "execution_count": 40
        }
      ],
      "source": [
        "3 in ordinal.values()"
      ]
    },
    {
      "cell_type": "code",
      "execution_count": null,
      "metadata": {
        "id": "6dqPt5CFw7x3",
        "colab": {
          "base_uri": "https://localhost:8080/"
        },
        "outputId": "63c46fe4-efa6-4ce1-bfa8-8eeae50e9a68"
      },
      "outputs": [
        {
          "output_type": "execute_result",
          "data": {
            "text/plain": [
              "False"
            ]
          },
          "metadata": {},
          "execution_count": 36
        }
      ],
      "source": [
        "12 in ordinal.values()"
      ]
    },
    {
      "cell_type": "markdown",
      "metadata": {
        "id": "zFBT3ZruxNku"
      },
      "source": [
        "### What are the keys that has value x"
      ]
    },
    {
      "cell_type": "code",
      "execution_count": null,
      "metadata": {
        "id": "QkEWGUMhxhVf",
        "colab": {
          "base_uri": "https://localhost:8080/"
        },
        "outputId": "c1f12d63-87fe-47ce-82eb-de949e8250b0"
      },
      "outputs": [
        {
          "output_type": "stream",
          "name": "stdout",
          "text": [
            "['b']\n"
          ]
        }
      ],
      "source": [
        "d = {'a':3, 'b':2, 'c':3, 'd':1, 'e':1}\n",
        "x = 2\n",
        "result = []\n",
        "for k in d:\n",
        "    if d[k] == x:\n",
        "        result.append(k)\n",
        "print(result)"
      ]
    },
    {
      "cell_type": "code",
      "execution_count": null,
      "metadata": {
        "id": "WhOYoxcNyKYh",
        "colab": {
          "base_uri": "https://localhost:8080/"
        },
        "outputId": "ba442ac6-7457-444a-e722-c9dcc77e0470"
      },
      "outputs": [
        {
          "output_type": "stream",
          "name": "stdout",
          "text": [
            "[]\n"
          ]
        }
      ],
      "source": [
        "x = 6\n",
        "result = []\n",
        "for k, v in d.items():\n",
        "    if v == x:\n",
        "        result.append(k)\n",
        "print(result)"
      ]
    },
    {
      "cell_type": "markdown",
      "metadata": {
        "id": "7wc1ZwBZc9vB"
      },
      "source": [
        "### Average value in a dict"
      ]
    },
    {
      "cell_type": "code",
      "execution_count": null,
      "metadata": {
        "id": "C75VmMLGdAli",
        "colab": {
          "base_uri": "https://localhost:8080/"
        },
        "outputId": "7d8fde23-30d4-4023-ae47-68fd658e5e14"
      },
      "outputs": [
        {
          "output_type": "stream",
          "name": "stdout",
          "text": [
            "3.13\n"
          ]
        },
        {
          "output_type": "execute_result",
          "data": {
            "text/plain": [
              "7"
            ]
          },
          "metadata": {},
          "execution_count": 42
        }
      ],
      "source": [
        "def average( d ):   # d is a dict that have values as number\n",
        "    # sum of all values / number of value\n",
        "    total = 0\n",
        "    for k, v in d.items():\n",
        "        total += v\n",
        "    return round(total/len(d), 2)\n",
        "\n",
        "gpa = {\"6130186221\": 3.15, \"6230221221\": 2.85,\n",
        "       \"6231009821\": 2.90, \"6230543921\": 3.20,\n",
        "       \"6230431521\": 3.35, \"6230276821\": 3.42,\n",
        "       \"234234\": 3.05}\n",
        "\n",
        "print( average(gpa) ) # should be 3.145\n",
        "len(gpa)"
      ]
    },
    {
      "cell_type": "markdown",
      "metadata": {
        "id": "5Cim1KhvZF2m"
      },
      "source": [
        "### Mapping x -> y, y -> x"
      ]
    },
    {
      "cell_type": "code",
      "execution_count": null,
      "metadata": {
        "id": "SvG4QPtEZM2c",
        "colab": {
          "base_uri": "https://localhost:8080/"
        },
        "outputId": "63627dd4-43d8-4ea5-e449-d3297b76b49b"
      },
      "outputs": [
        {
          "output_type": "stream",
          "name": "stdout",
          "text": [
            "2\n",
            "two\n"
          ]
        }
      ],
      "source": [
        "d1 = {2:'two', 3:'three', 4:'four'}\n",
        "d2 = {'two':'2', 'three':'3', 'four':'4'}\n",
        "x = input()\n",
        "if int(x) in d1:\n",
        "    print(d1[int(x)])\n",
        "elif x in d2:\n",
        "    print(d2[x])\n",
        "else:\n",
        "    print('not found')"
      ]
    },
    {
      "cell_type": "markdown",
      "metadata": {
        "id": "aTF3w0llYcMP"
      },
      "source": [
        "### Show dict result in different order"
      ]
    },
    {
      "cell_type": "code",
      "execution_count": null,
      "metadata": {
        "id": "6S5t2wUrYqBe",
        "colab": {
          "base_uri": "https://localhost:8080/"
        },
        "outputId": "41c41a6e-66e8-4f53-9b50-45c00a85b3bb"
      },
      "outputs": [
        {
          "output_type": "stream",
          "name": "stdout",
          "text": [
            "4 four\n",
            "3 three\n",
            "2 two\n"
          ]
        },
        {
          "output_type": "execute_result",
          "data": {
            "text/plain": [
              "[[5, 'three'], [4, 'four'], [3, 'two']]"
            ]
          },
          "metadata": {},
          "execution_count": 39
        }
      ],
      "source": [
        "d1 = {2:'two', 3:'three', 4:'four'}\n",
        "d2 = {'two':2, 'three':3, 'four':4}\n",
        "\n",
        "for k in sorted(d1.keys(), reverse=True):\n",
        "    print(k, d1[k])\n",
        "\n",
        "key_len = sorted([[len(e), e] for e in d2.keys()], reverse=True)\n",
        "key_len"
      ]
    },
    {
      "cell_type": "markdown",
      "metadata": {
        "id": "A9UGQDC9l4fF"
      },
      "source": [
        "### dict access time"
      ]
    },
    {
      "cell_type": "code",
      "execution_count": null,
      "metadata": {
        "id": "XP2JmHehl9y2",
        "colab": {
          "base_uri": "https://localhost:8080/"
        },
        "outputId": "a9e55154-06c0-4c06-d1f0-67478a84e845"
      },
      "outputs": [
        {
          "output_type": "stream",
          "name": "stdout",
          "text": [
            "1.7629616260528564\n",
            "0.0011508464813232422\n"
          ]
        }
      ],
      "source": [
        "import time\n",
        "def search_all(X):\n",
        "  b = time.time()\n",
        "  n = len(X)\n",
        "  for i in range(n):\n",
        "    if i in X:     # True\n",
        "      pass\n",
        "  for i in range(n):\n",
        "    if (n+1) in X: # False\n",
        "      pass\n",
        "  print(time.time() - b)\n",
        "\n",
        "n = 10000\n",
        "L = []\n",
        "for i in range(n):\n",
        "  L.append(i)\n",
        "D = {}\n",
        "for i in range(n):\n",
        "  D[i] = i\n",
        "\n",
        "search_all(L)\n",
        "search_all(D)"
      ]
    },
    {
      "cell_type": "markdown",
      "metadata": {
        "id": "98IhIFMFZ0dk"
      },
      "source": [
        "## Grader Exercises"
      ]
    },
    {
      "cell_type": "markdown",
      "metadata": {
        "id": "EIgjrFH3uJu3"
      },
      "source": [
        "### Using doctest() to run test cases\n",
        "\n",
        "```\n",
        "'''\n",
        ">>> function_name(arg1, arg2)\n",
        "expected_output1\n",
        ">>> function_name(arg3, arg4)\n",
        "expected_output2\n",
        "'''\n",
        "\n",
        "import doctest\n",
        "doctest.testmod() # to tess all functions\n",
        "doctest.run_docstring_examples(function_name, globals()) # to test a specific function\n",
        "```\n",
        "\n",
        "`doctest` **does not** work with `input()`.\n"
      ]
    },
    {
      "cell_type": "code",
      "execution_count": null,
      "metadata": {
        "id": "scCZdXTVikwl",
        "colab": {
          "base_uri": "https://localhost:8080/"
        },
        "outputId": "30bfe805-6ad6-48cc-a640-34b0f6308340"
      },
      "outputs": [
        {
          "output_type": "stream",
          "name": "stderr",
          "text": [
            "\n",
            "PYDEV DEBUGGER WARNING:\n",
            "sys.settrace() should not be used when the debugger is being used.\n",
            "This may cause the debugger to stop working correctly.\n",
            "If this is needed, please check: \n",
            "http://pydev.blogspot.com/2007/06/why-cant-pydev-debugger-work-with.html\n",
            "to see how to restore the debug tracing back correctly.\n",
            "Call Location:\n",
            "  File \"/usr/lib/python3.11/doctest.py\", line 1523, in run\n",
            "    sys.settrace(save_trace)\n",
            "\n"
          ]
        },
        {
          "output_type": "stream",
          "name": "stdout",
          "text": [
            "done\n"
          ]
        }
      ],
      "source": [
        "def add(x, y):\n",
        "    '''\n",
        "    >>> add(2, 3)\n",
        "    5\n",
        "    >>> add(-2, 3)\n",
        "    1\n",
        "    '''\n",
        "    return x + y\n",
        "\n",
        "if __name__ == \"__main__\":\n",
        "    import doctest\n",
        "    #doctest.testmod()  # to test all functions\n",
        "    doctest.run_docstring_examples(add, globals()) # to test a specific function\n",
        "print('done')"
      ]
    },
    {
      "cell_type": "markdown",
      "metadata": {
        "id": "HuDCdjm_Z40C"
      },
      "source": [
        "### Alphabet count\n",
        "\n",
        "\n",
        "```\n",
        "Input:\n",
        "ABCabcABZ\n",
        "\n",
        "Output:\n",
        "a -> 3\n",
        "b -> 3\n",
        "c -> 3\n",
        "z -> 1\n",
        "```\n",
        "\n"
      ]
    },
    {
      "cell_type": "code",
      "execution_count": null,
      "metadata": {
        "id": "_kA0jy4QZ7Gf",
        "colab": {
          "base_uri": "https://localhost:8080/"
        },
        "outputId": "716e0248-e44d-4e22-efeb-458380d0e8f6"
      },
      "outputs": [
        {
          "output_type": "stream",
          "name": "stdout",
          "text": [
            "**********************************************************************\n",
            "File \"__main__\", line 14, in NoName\n",
            "Failed example:\n",
            "    alphabet_count('ABCabcABZ')\n",
            "Expected:\n",
            "    a -> 3\n",
            "    b -> 3\n",
            "    c -> 2\n",
            "    z -> 1\n",
            "Got:\n",
            "    {'a': 3, 'b': 3, 'c': 2, 'z': 1}\n"
          ]
        }
      ],
      "source": [
        "def show_dict(d):\n",
        "    '''\n",
        "    >>> show_dict(alphabet_count('ABCabcABZ'))\n",
        "    a -> 3\n",
        "    b -> 3\n",
        "    c -> 2\n",
        "    z -> 1\n",
        "    '''\n",
        "    for k, v in d.items():\n",
        "        print(k, '->', v)\n",
        "\n",
        "def alphabet_count(s):\n",
        "    '''\n",
        "    >>> alphabet_count('ABCabcABZ')\n",
        "    a -> 3\n",
        "    b -> 3\n",
        "    c -> 2\n",
        "    z -> 1\n",
        "    '''\n",
        "    alphabets = \"abcdefghijklmnopqrstuvwxyz\"\n",
        "    alphabet_counts = {}\n",
        "    for c in s.lower():\n",
        "        if c in alphabets:\n",
        "            # get something to count\n",
        "            if c not in alphabet_counts:\n",
        "                alphabet_counts[c] = 1\n",
        "            else:\n",
        "                alphabet_counts[c] += 1\n",
        "\n",
        "    return alphabet_counts\n",
        "\n",
        "import doctest\n",
        "doctest.run_docstring_examples(alphabet_count, globals())\n",
        "#doctest.run_docstring_examples(show_dict, globals())\n"
      ]
    },
    {
      "cell_type": "markdown",
      "metadata": {
        "id": "H--sI6T8fv8m"
      },
      "source": [
        "### Two functions"
      ]
    },
    {
      "cell_type": "code",
      "execution_count": null,
      "metadata": {
        "id": "IF1mDFUvfyjW"
      },
      "outputs": [],
      "source": [
        "# input:  { \"A\": \"a\", \"B\": \"b\", \"C\": \"c\" }\n",
        "# result: { \"a\": \"A\", \"b\": \"B\", \"c\": \"C\" }\n",
        "def reverse(d) : # d is a dict that has unique values\n",
        "    r = {}\n",
        "\n",
        "    return r"
      ]
    },
    {
      "cell_type": "code",
      "execution_count": null,
      "metadata": {
        "id": "2kadB-PlgzKm"
      },
      "outputs": [],
      "source": [
        "# find all keys that has same value, v\n",
        "# return list of keys that has value equals to v\n",
        "def keys( d, v ):\n",
        "    x = []\n",
        "\n",
        "    return x"
      ]
    },
    {
      "cell_type": "markdown",
      "metadata": {
        "id": "fcDKL6l3aucZ"
      },
      "source": [
        "### Nickname, Fullname\n",
        "Write a program that take nickname and display fullname or takes fullname and display nickname using dict\n"
      ]
    },
    {
      "cell_type": "code",
      "execution_count": null,
      "metadata": {
        "id": "Bs_D7Frua7U0",
        "colab": {
          "base_uri": "https://localhost:8080/",
          "height": 122
        },
        "outputId": "d7dd9fd3-44c8-4c35-a54b-efa4459926f1"
      },
      "outputs": [
        {
          "output_type": "stream",
          "name": "stdout",
          "text": [
            "\n",
            "\n",
            "\n"
          ]
        },
        {
          "output_type": "execute_result",
          "data": {
            "text/plain": [
              "'\\nRobert\\t ⇔ \\tDick\\nWilliam\\t ⇔ \\tBill\\nJames\\t ⇔ \\tJim\\nJohn\\t ⇔ \\tJack\\nMargaret\\t ⇔ \\tPeggy\\nEdward\\t ⇔ \\tEd\\nSarah\\t ⇔ \\tSally\\nAndrew\\t ⇔ \\tAndy\\nAnthony\\t ⇔ \\tTony\\nDeborah\\t ⇔ \\tDebbie\\n'"
            ],
            "application/vnd.google.colaboratory.intrinsic+json": {
              "type": "string"
            }
          },
          "metadata": {},
          "execution_count": 55
        }
      ],
      "source": [
        "def find_name(d) : # d is a dict with pairs fullname:nickname\n",
        "    name = ''\n",
        "    return name\n",
        "\n",
        "names = {'Robert':'Dick', 'William':'Bill', 'James':'Jim', 'John':'Jack', \\\n",
        "         'Margaret':'Peggy', 'Edward':'Ed', 'Sarah':'Sally', \\\n",
        "         'Andrew':'Andy', 'Anthony':'Tony', 'Deborah':'Debbie'}\n",
        "\n",
        "print(find_name('Robert')) # Dick\n",
        "print(find_name('Dick')) # Robert\n",
        "print(find_name('Steve')) # Not found\n",
        "'''\n",
        "Robert\t ⇔ \tDick\n",
        "William\t ⇔ \tBill\n",
        "James\t ⇔ \tJim\n",
        "John\t ⇔ \tJack\n",
        "Margaret\t ⇔ \tPeggy\n",
        "Edward\t ⇔ \tEd\n",
        "Sarah\t ⇔ \tSally\n",
        "Andrew\t ⇔ \tAndy\n",
        "Anthony\t ⇔ \tTony\n",
        "Deborah\t ⇔ \tDebbie\n",
        "'''"
      ]
    },
    {
      "cell_type": "markdown",
      "metadata": {
        "id": "ML_Md63CEOrv"
      },
      "source": [
        "### Ice cream sales\n",
        "```\n",
        "Input:\n",
        "- n, number of ice cream types, follows by n lines of\n",
        "- ice_creame_type item_price\n",
        "\n",
        "- n_sold, number of item sold, follows by n_sold lines of\n",
        "- ice_cream_type amount_sold\n",
        "\n",
        "Output:\n",
        "Total ice cream sales = ...\n",
        "```"
      ]
    },
    {
      "cell_type": "code",
      "execution_count": null,
      "metadata": {
        "id": "ntM5DjDPsD67"
      },
      "outputs": [],
      "source": [
        "# get input and create an ice_cream_price dict {icecream_type:price}\n"
      ]
    },
    {
      "cell_type": "code",
      "execution_count": null,
      "metadata": {
        "colab": {
          "background_save": true
        },
        "id": "v4qVAUfbiAjN"
      },
      "outputs": [],
      "source": [
        "!python"
      ]
    },
    {
      "cell_type": "code",
      "execution_count": null,
      "metadata": {
        "id": "rhwRPabeiB91"
      },
      "outputs": [],
      "source": [
        "t = input()\n",
        "count = {}\n",
        "for ch in t:\n",
        "    ch = ch.lower()\n",
        "    if ch in alphabets:\n",
        "        count[ch] += 1"
      ]
    },
    {
      "cell_type": "code",
      "execution_count": null,
      "metadata": {
        "id": "QNlTJEZalh9N",
        "colab": {
          "base_uri": "https://localhost:8080/"
        },
        "outputId": "5e49325b-0a89-491a-da38-3482266ba774"
      },
      "outputs": [
        {
          "output_type": "stream",
          "name": "stdout",
          "text": [
            "{'a': 1, 'b': 1, 'c': 1, 'd': 1, 'e': 1, 'f': 1, 'g': 1, 'h': 1, 'i': 1, 'j': 1, 'k': 1, 'l': 1, 'm': 1, 'n': 1, 'o': 1, 'p': 1, 'q': 1, 'r': 1, 's': 1, 't': 1, 'u': 1, 'v': 1, 'w': 1, 'x': 1, 'y': 1, 'z': 1}\n"
          ]
        }
      ],
      "source": [
        "alphabets = \"abcdefghijklmnopqrstuvwxyz\"\n",
        "\n",
        "d = {}\n",
        "\n",
        "for c in alphabets:\n",
        "  if c not in d:\n",
        "    d[c] = 1\n",
        "  else:\n",
        "    d[c] += 1\n",
        "\n",
        "print(d)"
      ]
    },
    {
      "cell_type": "code",
      "source": [
        "def reverse(d):\n",
        "  r_d = {}\n",
        "  for k in d:\n",
        "    r_d[d[k]] = k\n",
        "  return r_d\n",
        "\n"
      ],
      "metadata": {
        "id": "bf0MkAmy2CNn"
      },
      "execution_count": null,
      "outputs": []
    },
    {
      "cell_type": "code",
      "source": [
        "def keys(d, v):\n",
        "  l = []\n",
        "  for k in d:\n",
        "    if d[k] == v:\n",
        "      l.append(k)\n",
        "  return l\n",
        "\n"
      ],
      "metadata": {
        "id": "7EHxM-k63UyQ"
      },
      "execution_count": null,
      "outputs": []
    },
    {
      "cell_type": "code",
      "source": [
        "a = [1,2,3,4,5,6,7]\n",
        "\n",
        "a.reverse()\n",
        "\n",
        "print(a)"
      ],
      "metadata": {
        "colab": {
          "base_uri": "https://localhost:8080/"
        },
        "id": "Jraawkqc6Fka",
        "outputId": "1995d17f-9203-4a5e-8946-bebc44855f02"
      },
      "execution_count": null,
      "outputs": [
        {
          "output_type": "stream",
          "name": "stdout",
          "text": [
            "[7, 6, 5, 4, 3, 2, 1]\n"
          ]
        }
      ]
    },
    {
      "cell_type": "code",
      "source": [
        "# input\n",
        "d = {10:33, 5:20, 2:100}\n",
        "\n",
        "\n",
        "\n",
        "# output\n",
        "[(20, 5), (33, 10), (100, 2)]\n"
      ],
      "metadata": {
        "id": "5aq-89fm6InD"
      },
      "execution_count": null,
      "outputs": []
    },
    {
      "cell_type": "code",
      "source": [
        "a = {\"0002\": 25, \"0009\": 30, \"0003\": 45, \"0001\": 20}\n",
        "\n",
        "for k, v in a.items():\n",
        "  print(k, v)\n",
        "\n",
        "print(\"--------\")\n",
        "for k, v in sorted(a.items()):\n",
        "  print(k, v)\n",
        "\n",
        "print('*********')\n",
        "for item0, item1 in sorted(a.items(), key=lambda item:(-item[1], item[0])):\n",
        "  print(item0, item1)"
      ],
      "metadata": {
        "colab": {
          "base_uri": "https://localhost:8080/"
        },
        "id": "Z9S3nQgaDewW",
        "outputId": "e37f30df-46be-4d24-db79-16b721384a14"
      },
      "execution_count": null,
      "outputs": [
        {
          "output_type": "stream",
          "name": "stdout",
          "text": [
            "0002 25\n",
            "0009 30\n",
            "0003 45\n",
            "0001 20\n",
            "--------\n",
            "0001 20\n",
            "0002 25\n",
            "0003 45\n",
            "0009 30\n",
            "*********\n",
            "0001 20\n",
            "0002 25\n",
            "0009 30\n",
            "0003 45\n"
          ]
        }
      ]
    },
    {
      "cell_type": "code",
      "source": [
        "n = int(input())\n",
        "\n",
        "ic = {}\n",
        "for i in range(n):\n",
        "  name, price = input().strip().split()\n",
        "  ic[name] = int(price)\n",
        "\n",
        "total = 0\n",
        "p = int(input()) # 6\n",
        "for i in range(p):\n",
        "  n, a = input().strip().split()\n",
        "  if n in ic:\n",
        "    total += ic[n]*int(a)\n"
      ],
      "metadata": {
        "id": "f_Kll7HOHzJZ"
      },
      "execution_count": null,
      "outputs": []
    },
    {
      "cell_type": "code",
      "source": [
        "al = 'abcdefghijklmnopqrstuvwxyz'\n",
        "\n",
        "a = input()\n",
        "\n",
        "\n",
        "d = {}\n",
        "\n",
        "for c in a:\n",
        "  if c in al:\n",
        "    if c not in d:\n",
        "      d[c] = 1\n",
        "    else:\n",
        "      d[c] += 1\n",
        "\n"
      ],
      "metadata": {
        "id": "i9WbqbZTKURI"
      },
      "execution_count": null,
      "outputs": []
    },
    {
      "cell_type": "code",
      "source": [
        "al = 'abcdefghijklmnopqrstuvwxyz'\n",
        "\n",
        "dp = {}\n",
        "for c in alpha:\n",
        "  dp[c] = 0\n",
        "\n"
      ],
      "metadata": {
        "id": "4yrcjl_KK73F"
      },
      "execution_count": null,
      "outputs": []
    },
    {
      "cell_type": "markdown",
      "source": [],
      "metadata": {
        "id": "tZa5rFFPFAvk"
      }
    },
    {
      "cell_type": "code",
      "source": [],
      "metadata": {
        "id": "dOPoQjPi1jyl"
      },
      "execution_count": null,
      "outputs": []
    },
    {
      "cell_type": "code",
      "source": [
        "def distance1(x1,y1,x2,y2):\n",
        "  return ((x2-x1)**2+(y2-y1)**2)**0.5\n",
        "\n",
        "def distance2(p1,p2):\n",
        "  return ((p2[0]-p1[0])**2+(p2[1]-p1[1])**2)**0.5\n",
        "\n",
        "def distance3(c1,c2):\n",
        "  d=((c2[0]-c1[0])**2+(c2[1]-c1[1])**2)**0.5\n",
        "  dr=c1[2]**2+c2[2]**2\n",
        "  if d==dr:\n",
        "    return d,False\n",
        "  return d,True\n",
        "\n",
        "def perimeter(points):\n",
        "  s=0\n",
        "  i=0\n",
        "  while i<(len(points)):\n",
        "    d=((points[(i+1)%len(points)][0]-points[i][0])**2+(points[(i+1)%len(points)][1]-points[i][1])**2)**0.5\n",
        "    s=s+d\n",
        "    i+=1\n",
        "  return s\n",
        "\n",
        "exec(input().split())"
      ],
      "metadata": {
        "colab": {
          "base_uri": "https://localhost:8080/",
          "height": 106
        },
        "id": "wX_ojNAK1jYC",
        "outputId": "3cad2859-75b1-4990-e03c-5946b5a1be59"
      },
      "execution_count": null,
      "outputs": [
        {
          "output_type": "error",
          "ename": "SyntaxError",
          "evalue": "invalid non-printable character U+00A0 (<ipython-input-4-12f6f8ea43af>, line 8)",
          "traceback": [
            "\u001b[0;36m  File \u001b[0;32m\"<ipython-input-4-12f6f8ea43af>\"\u001b[0;36m, line \u001b[0;32m8\u001b[0m\n\u001b[0;31m    d=((c2[0]-c1[0])**2+(c2[1]-c1[1])**2)**0.5\u001b[0m\n\u001b[0m    ^\u001b[0m\n\u001b[0;31mSyntaxError\u001b[0m\u001b[0;31m:\u001b[0m invalid non-printable character U+00A0\n"
          ]
        }
      ]
    },
    {
      "cell_type": "code",
      "source": [],
      "metadata": {
        "id": "EpYFrbLy1qRO"
      },
      "execution_count": null,
      "outputs": []
    }
  ],
  "metadata": {
    "colab": {
      "provenance": [],
      "collapsed_sections": [
        "zw3JiAYieDqJ",
        "3xKD3Q__hUzu",
        "e5SB20fWgt90"
      ]
    },
    "kernelspec": {
      "display_name": "Python 3",
      "name": "python3"
    },
    "language_info": {
      "name": "python"
    }
  },
  "nbformat": 4,
  "nbformat_minor": 0
}
