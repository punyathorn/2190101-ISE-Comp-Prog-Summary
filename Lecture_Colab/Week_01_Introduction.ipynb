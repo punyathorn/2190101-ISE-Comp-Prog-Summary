{
  "nbformat": 4,
  "nbformat_minor": 0,
  "metadata": {
    "colab": {
      "provenance": []
    },
    "kernelspec": {
      "name": "python3",
      "display_name": "Python 3"
    },
    "language_info": {
      "name": "python"
    }
  },
  "cells": [
    {
      "cell_type": "code",
      "execution_count": null,
      "metadata": {
        "colab": {
          "base_uri": "https://localhost:8080/"
        },
        "id": "nQPZ57LUstJD",
        "outputId": "af678992-855b-4724-82ea-b42723857a6b"
      },
      "outputs": [
        {
          "output_type": "stream",
          "name": "stdout",
          "text": [
            "Hello World\n",
            "Hello World\n",
            "Hello World !!!\n",
            "4+5 = 9\n",
            "9 -1 20 0.8\n"
          ]
        }
      ],
      "source": [
        "print('Hello World')\n",
        "print(\"Hello World\")\n",
        "print('Hello','World','!!!')\n",
        "print('4+5','=',4+5)\n",
        "print(4+5,4-5,4*5,4/5)"
      ]
    },
    {
      "cell_type": "code",
      "source": [
        "print('Hello World',end=':')\n",
        "print(\"Hello World\")\n",
        "print('Hello','World','!!!')\n",
        "print('4+5','=',4+5)\n",
        "print(4+5,4-5,4*5,4/5)"
      ],
      "metadata": {
        "colab": {
          "base_uri": "https://localhost:8080/"
        },
        "id": "r07i-yjLz_dI",
        "outputId": "f6382bbf-20f8-4a34-a7a1-914f1df5f9d6"
      },
      "execution_count": null,
      "outputs": [
        {
          "output_type": "stream",
          "name": "stdout",
          "text": [
            "Hello World:Hello World\n",
            "Hello World !!!\n",
            "4+5 = 9\n",
            "9 -1 20 0.8\n"
          ]
        }
      ]
    },
    {
      "cell_type": "markdown",
      "source": [
        "## Escape character\n",
        "\n",
        "```\n",
        "\\n \\t \\' \\\" \\\\\n",
        "```"
      ],
      "metadata": {
        "id": "B8T1oAF52ObV"
      }
    },
    {
      "cell_type": "code",
      "source": [
        "print('Let\\'s do it')\n",
        "print('It\\'s \\\"Bob\\\"')\n",
        "print('First line\\nSecond line')\n",
        "print('First line\\n\\tSecond line')\n",
        "print('\\\\\\\\\\\\')\n",
        "print(' \\\\\\ x')\n",
        "print('\\d\\c')"
      ],
      "metadata": {
        "colab": {
          "base_uri": "https://localhost:8080/"
        },
        "id": "QXlSEzeF1mAr",
        "outputId": "e6b9e60e-4a29-489c-9604-25f153632286"
      },
      "execution_count": null,
      "outputs": [
        {
          "output_type": "stream",
          "name": "stdout",
          "text": [
            "Let's do it\n",
            "It's \"Bob\"\n",
            "First line\n",
            "Second line\n",
            "First line\n",
            "\tSecond line\n",
            "\\\\\\\n",
            " \\\\ x\n",
            "\\d\\c\n"
          ]
        }
      ]
    },
    {
      "cell_type": "code",
      "source": [
        "print(\"Let's do it\")\n",
        "print('It is \"Bob\"')\n",
        "print('''It's \"Bob\"''')\n",
        "print('''First line\n",
        "Second line''')"
      ],
      "metadata": {
        "colab": {
          "base_uri": "https://localhost:8080/"
        },
        "id": "5sbxm8hE4JNj",
        "outputId": "878a4b5e-e316-4611-b7dd-fbe1c7a4b813"
      },
      "execution_count": null,
      "outputs": [
        {
          "output_type": "stream",
          "name": "stdout",
          "text": [
            "Let's do it\n",
            "It is \"Bob\"\n",
            "It's \"Bob\"\n",
            "First line\n",
            "Second line\n"
          ]
        }
      ]
    },
    {
      "cell_type": "code",
      "source": [
        "print('Hello  Python.')\n",
        "print(\"We're using Python 3. \")"
      ],
      "metadata": {
        "id": "tp8nBlwK76uV",
        "outputId": "0fa7c1fa-b557-48dd-d56a-3ff21305826e",
        "colab": {
          "base_uri": "https://localhost:8080/"
        }
      },
      "execution_count": null,
      "outputs": [
        {
          "output_type": "stream",
          "name": "stdout",
          "text": [
            "Hello  Python.\n",
            "We're using Python 3. \n"
          ]
        }
      ]
    },
    {
      "cell_type": "markdown",
      "source": [
        "### Mountain Valley\n",
        "\n",
        "```\n",
        "+------------------------------------------+\n",
        "|................................/\\........|\n",
        "|.............................../##\\.......|\n",
        "|............................../####\\......|\n",
        "|............................./######\\.....|\n",
        "|............................/########\\....|\n",
        "|.......__................../##########\\...|\n",
        "|....../##\\................/############\\..|\n",
        "|./\\../####\\......../\\..../##############\\.|\n",
        "|/##\\/######\\....../##\\../################\\|\n",
        "|############\\..../####\\/##################|\n",
        "|#############\\__/#########################|\n",
        "+------------------------------------------+\n",
        "```"
      ],
      "metadata": {
        "id": "9rZOcnoj8i7y"
      }
    },
    {
      "cell_type": "code",
      "source": [
        "x=10\n",
        "y=20\n",
        "print(x+y,x-y,x*y,x/y)"
      ],
      "metadata": {
        "colab": {
          "base_uri": "https://localhost:8080/"
        },
        "id": "TfF4Q-RPCyb-",
        "outputId": "67cadd37-2c3f-489c-e518-236fafac8b07"
      },
      "execution_count": null,
      "outputs": [
        {
          "output_type": "stream",
          "name": "stdout",
          "text": [
            "30 -10 200 0.5\n"
          ]
        }
      ]
    },
    {
      "cell_type": "code",
      "source": [
        "s=input()\n",
        "print('You entered',s)"
      ],
      "metadata": {
        "colab": {
          "base_uri": "https://localhost:8080/"
        },
        "id": "3BysotVSDQ4O",
        "outputId": "e121da5d-cb6c-4fe8-ce80-de8916ae2762"
      },
      "execution_count": null,
      "outputs": [
        {
          "output_type": "stream",
          "name": "stdout",
          "text": [
            "That's it\n",
            "You entered That's it\n"
          ]
        }
      ]
    },
    {
      "cell_type": "code",
      "source": [
        "x=input('Enter x: ')\n",
        "y=input('Enter y: ')\n",
        "print(x+y)"
      ],
      "metadata": {
        "colab": {
          "base_uri": "https://localhost:8080/"
        },
        "id": "y1ro3rjfDfQB",
        "outputId": "d204644b-7d00-4cce-8b84-3b4680bcfe37"
      },
      "execution_count": null,
      "outputs": [
        {
          "output_type": "stream",
          "name": "stdout",
          "text": [
            "Enter x: 10\n",
            "Enter y: 200\n",
            "10200\n"
          ]
        }
      ]
    },
    {
      "cell_type": "code",
      "source": [
        "print('ba'+'na'+'na')"
      ],
      "metadata": {
        "colab": {
          "base_uri": "https://localhost:8080/"
        },
        "id": "8_6MCGJmEnsK",
        "outputId": "9c2d3267-e6f3-4093-b732-00fa96efa68d"
      },
      "execution_count": null,
      "outputs": [
        {
          "output_type": "stream",
          "name": "stdout",
          "text": [
            "banana\n"
          ]
        }
      ]
    },
    {
      "cell_type": "code",
      "source": [
        "x=input('Enter x: ')\n",
        "y=input('Enter y: ')\n",
        "x=int(x)\n",
        "y=int(y)\n",
        "print(x+y)"
      ],
      "metadata": {
        "colab": {
          "base_uri": "https://localhost:8080/"
        },
        "id": "L6mKsR0yE85G",
        "outputId": "0c541006-298e-4fbb-c9b1-d5655370dee7"
      },
      "execution_count": null,
      "outputs": [
        {
          "output_type": "stream",
          "name": "stdout",
          "text": [
            "Enter x: 10\n",
            "Enter y: 200\n",
            "210\n"
          ]
        }
      ]
    },
    {
      "cell_type": "code",
      "source": [
        "x=int(input('Enter x: '))\n",
        "y=int(input('Enter y: '))\n",
        "print(x+y,x-y,x*y,x/y)\n",
        "print(x%y,x//y)"
      ],
      "metadata": {
        "colab": {
          "base_uri": "https://localhost:8080/"
        },
        "id": "cJazylz3FVC5",
        "outputId": "7aa16789-3fa9-46b1-cbc6-a01cbc7065a5"
      },
      "execution_count": null,
      "outputs": [
        {
          "output_type": "stream",
          "name": "stdout",
          "text": [
            "Enter x: 30\n",
            "Enter y: 4\n",
            "34 26 120 7.5\n"
          ]
        }
      ]
    },
    {
      "cell_type": "markdown",
      "source": [
        "## Precedence\n",
        "\n",
        "1. `-`\n",
        "2. `**`\n",
        "3. `*,/,%,//`\n",
        "4. `+,-`"
      ],
      "metadata": {
        "id": "87G4VNuLH2Jo"
      }
    },
    {
      "cell_type": "code",
      "source": [
        "print(2**-2) # print(2**(-2))\n",
        "print(2**3**2,(2**3)**2)\n",
        "print(1/2+1/2)\n",
        "print(1//2+1//2)"
      ],
      "metadata": {
        "colab": {
          "base_uri": "https://localhost:8080/"
        },
        "id": "MoDWJip4IGEl",
        "outputId": "57928d9c-a292-418a-ee1e-b6a6d1f7a4ec"
      },
      "execution_count": null,
      "outputs": [
        {
          "output_type": "stream",
          "name": "stdout",
          "text": [
            "0.25\n",
            "512 64\n",
            "1.0\n",
            "0\n"
          ]
        }
      ]
    },
    {
      "cell_type": "code",
      "source": [
        "print('ba'+'na'+'na')\n",
        "print('ba'+('na'+'na'))\n",
        "print('ba'+2*'na')\n",
        "print('ba'+5*'na')"
      ],
      "metadata": {
        "colab": {
          "base_uri": "https://localhost:8080/"
        },
        "id": "ntNJNGYfI59e",
        "outputId": "c77c6a58-8877-4186-dc0e-70af96b5de2f"
      },
      "execution_count": null,
      "outputs": [
        {
          "output_type": "stream",
          "name": "stdout",
          "text": [
            "banana\n",
            "banana\n",
            "banana\n",
            "bananananana\n"
          ]
        }
      ]
    },
    {
      "cell_type": "markdown",
      "source": [
        "### Exercise\n",
        "Your ID contains 10 digits YYSXXXXXFC. Write a program to read an ID from the keyboard, convert to integer. Print the result as\n",
        "\n",
        "```\n",
        "YY S FC\n",
        "```\n",
        "\n",
        "For example\n",
        "\n",
        "```\n",
        "id=6432356721\n",
        "```\n",
        "\n",
        "The output must be\n",
        "\n",
        "```\n",
        "64 3 21\n",
        "```\n",
        "\n"
      ],
      "metadata": {
        "id": "5bFtPGpIJeOa"
      }
    },
    {
      "cell_type": "code",
      "source": [
        "id=6432356721\n",
        "print(id//10**8,id//10**7%10,id%100 )"
      ],
      "metadata": {
        "colab": {
          "base_uri": "https://localhost:8080/"
        },
        "id": "fH2ogBw4N_gK",
        "outputId": "bc41f03e-fc8f-4d86-c5e2-3a14112afd9f"
      },
      "execution_count": null,
      "outputs": [
        {
          "output_type": "stream",
          "name": "stdout",
          "text": [
            "64 3 21\n"
          ]
        }
      ]
    },
    {
      "cell_type": "code",
      "source": [
        "import math\n",
        "\n",
        "print(math.pi, math.e)\n",
        "print(math.sqrt(2))\n",
        "print(math.sin(math.pi/2))\n",
        "print(math.cos(math.pi/2))\n",
        "print(math.tan(math.pi/2))\n",
        "print(math.exp(1))\n",
        "print(math.exp(2))\n",
        "print(math.factorial(5))"
      ],
      "metadata": {
        "colab": {
          "base_uri": "https://localhost:8080/"
        },
        "id": "FZG34qCURMcs",
        "outputId": "5f624469-e5c7-4f2d-9e16-fb011b38c0c8"
      },
      "execution_count": null,
      "outputs": [
        {
          "output_type": "stream",
          "name": "stdout",
          "text": [
            "3.141592653589793 2.718281828459045\n",
            "1.4142135623730951\n",
            "1.0\n",
            "6.123233995736766e-17\n",
            "1.633123935319537e+16\n",
            "2.718281828459045\n",
            "7.38905609893065\n",
            "120\n"
          ]
        }
      ]
    }
  ]
}
