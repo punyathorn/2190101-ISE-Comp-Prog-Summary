{
  "nbformat": 4,
  "nbformat_minor": 0,
  "metadata": {
    "colab": {
      "provenance": []
    },
    "kernelspec": {
      "name": "python3",
      "display_name": "Python 3"
    },
    "language_info": {
      "name": "python"
    }
  },
  "cells": [
    {
      "cell_type": "markdown",
      "source": [
        "## String"
      ],
      "metadata": {
        "id": "YCvDrxFxz9eV"
      }
    },
    {
      "cell_type": "code",
      "execution_count": null,
      "metadata": {
        "colab": {
          "base_uri": "https://localhost:8080/",
          "height": 266
        },
        "id": "KHbRHcmAukl3",
        "outputId": "1b8cd7cb-5940-45aa-fd68-f485e03c1930"
      },
      "outputs": [
        {
          "output_type": "stream",
          "name": "stdout",
          "text": [
            "H\n",
            "e l o  \n",
            "11\n",
            "d\n",
            "d l r\n"
          ]
        },
        {
          "output_type": "error",
          "ename": "TypeError",
          "evalue": "'str' object does not support item assignment",
          "traceback": [
            "\u001b[0;31m---------------------------------------------------------------------------\u001b[0m",
            "\u001b[0;31mTypeError\u001b[0m                                 Traceback (most recent call last)",
            "\u001b[0;32m<ipython-input-7-ed41a6d927fb>\u001b[0m in \u001b[0;36m<cell line: 0>\u001b[0;34m()\u001b[0m\n\u001b[1;32m      6\u001b[0m \u001b[0mprint\u001b[0m\u001b[0;34m(\u001b[0m\u001b[0ms\u001b[0m\u001b[0;34m[\u001b[0m\u001b[0;34m-\u001b[0m\u001b[0;36m1\u001b[0m\u001b[0;34m]\u001b[0m\u001b[0;34m,\u001b[0m\u001b[0ms\u001b[0m\u001b[0;34m[\u001b[0m\u001b[0;34m-\u001b[0m\u001b[0;36m2\u001b[0m\u001b[0;34m]\u001b[0m\u001b[0;34m,\u001b[0m\u001b[0ms\u001b[0m\u001b[0;34m[\u001b[0m\u001b[0;34m-\u001b[0m\u001b[0;36m3\u001b[0m\u001b[0;34m]\u001b[0m\u001b[0;34m)\u001b[0m\u001b[0;34m\u001b[0m\u001b[0;34m\u001b[0m\u001b[0m\n\u001b[1;32m      7\u001b[0m \u001b[0;31m# print(s[11])\u001b[0m\u001b[0;34m\u001b[0m\u001b[0;34m\u001b[0m\u001b[0m\n\u001b[0;32m----> 8\u001b[0;31m \u001b[0ms\u001b[0m\u001b[0;34m[\u001b[0m\u001b[0;36m0\u001b[0m\u001b[0;34m]\u001b[0m\u001b[0;34m=\u001b[0m\u001b[0;34m'h'\u001b[0m\u001b[0;34m\u001b[0m\u001b[0;34m\u001b[0m\u001b[0m\n\u001b[0m",
            "\u001b[0;31mTypeError\u001b[0m: 'str' object does not support item assignment"
          ]
        }
      ],
      "source": [
        "s='Hello World'\n",
        "print(s[0])\n",
        "print(s[1],s[3],s[4],s[5])\n",
        "print(len(s))\n",
        "print(s[len(s)-1])\n",
        "print(s[-1],s[-2],s[-3])\n",
        "# print(s[11])\n",
        "s[0]='h'"
      ]
    },
    {
      "cell_type": "code",
      "source": [
        "s='0123456789'\n",
        "print(s[:])\n",
        "print(s[3:])\n",
        "print(s[:2])\n",
        "print(s[1:5])\n",
        "print(s[::2])\n",
        "print(s[::-1])"
      ],
      "metadata": {
        "colab": {
          "base_uri": "https://localhost:8080/"
        },
        "id": "4S00JKahwcOQ",
        "outputId": "1a3f7e19-67fe-432b-e03b-f7c7af7356bc"
      },
      "execution_count": null,
      "outputs": [
        {
          "output_type": "stream",
          "name": "stdout",
          "text": [
            "0123456789\n",
            "3456789\n",
            "01\n",
            "1234\n",
            "02468\n",
            "9876543210\n"
          ]
        }
      ]
    },
    {
      "cell_type": "markdown",
      "source": [
        "## List"
      ],
      "metadata": {
        "id": "8VLBDbjIz7G4"
      }
    },
    {
      "cell_type": "code",
      "source": [
        "d=[1,2,3,'Hello World',[10,20,30]]\n",
        "print(d[0],d[1],d[-1])\n",
        "print(d[-1][0])\n",
        "print(d[3][::-1])"
      ],
      "metadata": {
        "colab": {
          "base_uri": "https://localhost:8080/"
        },
        "id": "gRCDlt8ez5bT",
        "outputId": "f96412ff-af4e-46a6-8f08-cb1412d26c87"
      },
      "execution_count": null,
      "outputs": [
        {
          "output_type": "stream",
          "name": "stdout",
          "text": [
            "1 2 [10, 20, 30]\n",
            "10\n",
            "dlroW olleH\n"
          ]
        }
      ]
    },
    {
      "cell_type": "code",
      "source": [
        "d=[1,2,3,4,5,6,[10,20,30]]\n",
        "d[0]=10\n",
        "print(d)"
      ],
      "metadata": {
        "colab": {
          "base_uri": "https://localhost:8080/"
        },
        "id": "GMp499Rz0fDM",
        "outputId": "efce8d61-7766-4065-86c7-2031ea30e043"
      },
      "execution_count": null,
      "outputs": [
        {
          "output_type": "stream",
          "name": "stdout",
          "text": [
            "[10, 2, 3, 4, 5, 6, [10, 20, 30]]\n"
          ]
        }
      ]
    },
    {
      "cell_type": "code",
      "source": [
        "d=[1,2,3,4,5,6,[10,20,30]]\n",
        "d[-1][1]=2000\n",
        "print(d)"
      ],
      "metadata": {
        "colab": {
          "base_uri": "https://localhost:8080/"
        },
        "id": "GHQnglz_0o7k",
        "outputId": "54bbf707-a907-4aac-d082-ed6810f0bb42"
      },
      "execution_count": null,
      "outputs": [
        {
          "output_type": "stream",
          "name": "stdout",
          "text": [
            "[1, 2, 3, 4, 5, 6, [10, 2000, 30]]\n"
          ]
        }
      ]
    },
    {
      "cell_type": "code",
      "source": [
        "d=[1,2,3,4,5,6,7,8]\n",
        "print(d[0:100])\n",
        "print(d[100])"
      ],
      "metadata": {
        "colab": {
          "base_uri": "https://localhost:8080/",
          "height": 196
        },
        "id": "nPcsoEqS3Md_",
        "outputId": "d20c1e7d-7ee2-4b96-a3b1-dcee52e00b8b"
      },
      "execution_count": null,
      "outputs": [
        {
          "output_type": "stream",
          "name": "stdout",
          "text": [
            "[1, 2, 3, 4, 5, 6, 7, 8]\n"
          ]
        },
        {
          "output_type": "error",
          "ename": "IndexError",
          "evalue": "list index out of range",
          "traceback": [
            "\u001b[0;31m---------------------------------------------------------------------------\u001b[0m",
            "\u001b[0;31mIndexError\u001b[0m                                Traceback (most recent call last)",
            "\u001b[0;32m<ipython-input-22-3bb6b29485b5>\u001b[0m in \u001b[0;36m<cell line: 0>\u001b[0;34m()\u001b[0m\n\u001b[1;32m      1\u001b[0m \u001b[0md\u001b[0m\u001b[0;34m=\u001b[0m\u001b[0;34m[\u001b[0m\u001b[0;36m1\u001b[0m\u001b[0;34m,\u001b[0m\u001b[0;36m2\u001b[0m\u001b[0;34m,\u001b[0m\u001b[0;36m3\u001b[0m\u001b[0;34m,\u001b[0m\u001b[0;36m4\u001b[0m\u001b[0;34m,\u001b[0m\u001b[0;36m5\u001b[0m\u001b[0;34m,\u001b[0m\u001b[0;36m6\u001b[0m\u001b[0;34m,\u001b[0m\u001b[0;36m7\u001b[0m\u001b[0;34m,\u001b[0m\u001b[0;36m8\u001b[0m\u001b[0;34m]\u001b[0m\u001b[0;34m\u001b[0m\u001b[0;34m\u001b[0m\u001b[0m\n\u001b[1;32m      2\u001b[0m \u001b[0mprint\u001b[0m\u001b[0;34m(\u001b[0m\u001b[0md\u001b[0m\u001b[0;34m[\u001b[0m\u001b[0;36m0\u001b[0m\u001b[0;34m:\u001b[0m\u001b[0;36m100\u001b[0m\u001b[0;34m]\u001b[0m\u001b[0;34m)\u001b[0m\u001b[0;34m\u001b[0m\u001b[0;34m\u001b[0m\u001b[0m\n\u001b[0;32m----> 3\u001b[0;31m \u001b[0mprint\u001b[0m\u001b[0;34m(\u001b[0m\u001b[0md\u001b[0m\u001b[0;34m[\u001b[0m\u001b[0;36m100\u001b[0m\u001b[0;34m]\u001b[0m\u001b[0;34m)\u001b[0m\u001b[0;34m\u001b[0m\u001b[0;34m\u001b[0m\u001b[0m\n\u001b[0m",
            "\u001b[0;31mIndexError\u001b[0m: list index out of range"
          ]
        }
      ]
    },
    {
      "cell_type": "code",
      "source": [
        "d=[0,1,2,3,4,5,6,7,8,9]\n",
        "d[2:5]=[20,30,40]\n",
        "print(d)"
      ],
      "metadata": {
        "colab": {
          "base_uri": "https://localhost:8080/"
        },
        "id": "qWSXGBei3bbV",
        "outputId": "73419db8-95d8-49e6-a5cc-246057efa898"
      },
      "execution_count": null,
      "outputs": [
        {
          "output_type": "stream",
          "name": "stdout",
          "text": [
            "[0, 1, 20, 30, 40, 5, 6, 7, 8, 9]\n"
          ]
        }
      ]
    },
    {
      "cell_type": "code",
      "source": [
        "d=[0,1,2,3,4,5,6,7,8,9]\n",
        "d[2:5]=[20]\n",
        "print(d)"
      ],
      "metadata": {
        "colab": {
          "base_uri": "https://localhost:8080/"
        },
        "id": "iOAWYUR23slA",
        "outputId": "988068f1-4963-4fee-9b2e-53ec9a42ca9a"
      },
      "execution_count": null,
      "outputs": [
        {
          "output_type": "stream",
          "name": "stdout",
          "text": [
            "[0, 1, 20, 5, 6, 7, 8, 9]\n"
          ]
        }
      ]
    },
    {
      "cell_type": "code",
      "source": [
        "d=[0,1,2,3,4,5,6,7,8,9]\n",
        "d[2:5]=[]\n",
        "print(d)"
      ],
      "metadata": {
        "colab": {
          "base_uri": "https://localhost:8080/"
        },
        "id": "s6e217qL3wIc",
        "outputId": "d8a5e9d4-da5c-43e5-f487-f6ed98789bc0"
      },
      "execution_count": null,
      "outputs": [
        {
          "output_type": "stream",
          "name": "stdout",
          "text": [
            "[0, 1, 5, 6, 7, 8, 9]\n"
          ]
        }
      ]
    },
    {
      "cell_type": "markdown",
      "source": [
        "### Very Special Case"
      ],
      "metadata": {
        "id": "RA8mcFwe55Ht"
      }
    },
    {
      "cell_type": "code",
      "source": [
        "d=[0,1,2,3,4,5,6,7,8,9]\n",
        "d[1:1]=[10,10,10,10,10]\n",
        "print(d)"
      ],
      "metadata": {
        "colab": {
          "base_uri": "https://localhost:8080/"
        },
        "id": "9uEH-his54zw",
        "outputId": "9623ca63-9554-4a0b-9fd0-e7b6bee49561"
      },
      "execution_count": null,
      "outputs": [
        {
          "output_type": "stream",
          "name": "stdout",
          "text": [
            "[0, 10, 10, 10, 10, 10, 1, 2, 3, 4, 5, 6, 7, 8, 9]\n"
          ]
        }
      ]
    },
    {
      "cell_type": "code",
      "source": [
        "print('ba'+2*'na')\n",
        "print('ha'*10)"
      ],
      "metadata": {
        "colab": {
          "base_uri": "https://localhost:8080/"
        },
        "id": "b8mAwAup6ZSy",
        "outputId": "bd3f533a-c068-411c-f249-09134bf7a07d"
      },
      "execution_count": null,
      "outputs": [
        {
          "output_type": "stream",
          "name": "stdout",
          "text": [
            "banana\n",
            "hahahahahahahahahaha\n"
          ]
        }
      ]
    },
    {
      "cell_type": "code",
      "source": [
        "print([10]*3)\n",
        "print([1,2,3]*3)"
      ],
      "metadata": {
        "colab": {
          "base_uri": "https://localhost:8080/"
        },
        "id": "5V0upl3J6shL",
        "outputId": "7b4ab309-d9ed-444e-a671-464adda94b02"
      },
      "execution_count": null,
      "outputs": [
        {
          "output_type": "stream",
          "name": "stdout",
          "text": [
            "[10, 10, 10]\n",
            "[1, 2, 3, 1, 2, 3, 1, 2, 3]\n"
          ]
        }
      ]
    },
    {
      "cell_type": "code",
      "source": [
        "d=[0,1,2,3,4,5,6,7,8,9,10,11,12,13]\n",
        "d[::2]=[0]*len(d[::2])\n",
        "print(d)"
      ],
      "metadata": {
        "colab": {
          "base_uri": "https://localhost:8080/"
        },
        "id": "tlL6ndTy61fc",
        "outputId": "fb2c3a0d-6718-4b17-c2bb-d4b571a691b1"
      },
      "execution_count": null,
      "outputs": [
        {
          "output_type": "stream",
          "name": "stdout",
          "text": [
            "[0, 1, 0, 3, 0, 5, 0, 7, 0, 9, 0, 11, 0, 13]\n"
          ]
        }
      ]
    },
    {
      "cell_type": "code",
      "source": [
        "[0]*len(d[::2])"
      ],
      "metadata": {
        "colab": {
          "base_uri": "https://localhost:8080/"
        },
        "id": "mNj_JEVK7Co-",
        "outputId": "f5aac34d-a63a-455f-8ff2-def9e603944d"
      },
      "execution_count": null,
      "outputs": [
        {
          "output_type": "execute_result",
          "data": {
            "text/plain": [
              "[0, 0, 0, 0, 0, 0, 0]"
            ]
          },
          "metadata": {},
          "execution_count": 37
        }
      ]
    },
    {
      "cell_type": "code",
      "source": [
        "# How to create a list\n",
        "\n",
        "d=list()\n",
        "print(d)\n",
        "d=[]\n",
        "print(d)\n",
        "d=list('Hello World')\n",
        "print(d)\n",
        "d='This        is     a \\t\\n cat'.split()\n",
        "print(d)\n",
        "d='1/16/2025'.split('/')\n",
        "print(d)\n",
        "print('-'.join(d))\n",
        "print('...'.join(d))\n",
        "print(' '.join(d))"
      ],
      "metadata": {
        "colab": {
          "base_uri": "https://localhost:8080/"
        },
        "id": "30hbsAMC8jga",
        "outputId": "716864e4-3a6d-498f-d187-4bd3102d2de3"
      },
      "execution_count": null,
      "outputs": [
        {
          "output_type": "stream",
          "name": "stdout",
          "text": [
            "[]\n",
            "[]\n",
            "['H', 'e', 'l', 'l', 'o', ' ', 'W', 'o', 'r', 'l', 'd']\n",
            "['This', 'is', 'a', 'cat']\n",
            "['1', '16', '2025']\n",
            "1-16-2025\n",
            "1...16...2025\n",
            "1 16 2025\n"
          ]
        }
      ]
    },
    {
      "cell_type": "code",
      "source": [
        "n='123456789012'\n",
        "n12=(11-(13*int(n[0]) + 12*int(n[1]) ))\n"
      ],
      "metadata": {
        "colab": {
          "base_uri": "https://localhost:8080/",
          "height": 35
        },
        "id": "ZO0KN8GY96ue",
        "outputId": "b8d67b7c-b45c-47db-ba28-27752bfa29cd"
      },
      "execution_count": null,
      "outputs": [
        {
          "output_type": "execute_result",
          "data": {
            "text/plain": [
              "'1111111111111'"
            ],
            "application/vnd.google.colaboratory.intrinsic+json": {
              "type": "string"
            }
          },
          "metadata": {},
          "execution_count": 47
        }
      ]
    },
    {
      "cell_type": "code",
      "source": [
        "numbers=['zero','one','two','three','four','five','six','seven','eight','nine']\n",
        "n='5'\n",
        "print(n,'-->',numbers[int(n)])"
      ],
      "metadata": {
        "colab": {
          "base_uri": "https://localhost:8080/"
        },
        "id": "rJoUgh0bElDA",
        "outputId": "92bb46f5-a70c-496e-e0a9-6fa8546a6aa2"
      },
      "execution_count": null,
      "outputs": [
        {
          "output_type": "stream",
          "name": "stdout",
          "text": [
            "5 --> five\n"
          ]
        }
      ]
    },
    {
      "cell_type": "code",
      "source": [
        "s='31/1/2020'\n",
        "months=['January','February','March','April','May','June','July','August','September','October','November','December']\n",
        "d,m,y=s.split('/')\n",
        "print(d,months[int(m)-1],y)"
      ],
      "metadata": {
        "colab": {
          "base_uri": "https://localhost:8080/"
        },
        "id": "gI1WoHu3E9V8",
        "outputId": "78369b63-24c6-43ea-d650-b58118e43371"
      },
      "execution_count": null,
      "outputs": [
        {
          "output_type": "stream",
          "name": "stdout",
          "text": [
            "31 January 2020\n"
          ]
        }
      ]
    },
    {
      "cell_type": "code",
      "source": [
        "s='31/1/2020'\n",
        "months=['','January','February','March','April','May','June','July','August','September','October','November','December']\n",
        "d,m,y=s.split('/')\n",
        "print(d,months[int(m)],y)"
      ],
      "metadata": {
        "id": "Nd6boDPVFQrC",
        "outputId": "41186782-a6d1-42dc-920d-9ce364699053",
        "colab": {
          "base_uri": "https://localhost:8080/"
        }
      },
      "execution_count": null,
      "outputs": [
        {
          "output_type": "stream",
          "name": "stdout",
          "text": [
            "31 January 2020\n"
          ]
        }
      ]
    }
  ]
}
