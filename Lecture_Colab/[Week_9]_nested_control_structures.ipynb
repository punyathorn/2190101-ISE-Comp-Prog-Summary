{
  "nbformat": 4,
  "nbformat_minor": 0,
  "metadata": {
    "colab": {
      "provenance": []
    },
    "kernelspec": {
      "name": "python3",
      "display_name": "Python 3"
    },
    "language_info": {
      "name": "python"
    }
  },
  "cells": [
    {
      "cell_type": "markdown",
      "metadata": {
        "id": "TN7W1beetqcZ"
      },
      "source": [
        "# **Nested Control Structures**\n",
        "\n",
        "\n",
        "\n"
      ]
    },
    {
      "cell_type": "markdown",
      "metadata": {
        "id": "8B_ymZkauD1_"
      },
      "source": [
        "## Topics\n",
        "* Nested while loops\n",
        "* Nested for loops\n",
        "* Breaking out of inner loops\n",
        "* Nested lists\n",
        "* Nexted lists as matrices\n",
        "* List comprehension\n"
      ]
    },
    {
      "cell_type": "markdown",
      "metadata": {
        "id": "gIh2cmRggzdN"
      },
      "source": [
        "##Exercise 9-1.1: Write a program to accept an integer ```N``` to display the multiplicaiton table from base 2 to ```N```, where the multiplier (column) is running from 1 to 5.  The picture below shows the expected result when the input is 10.  Please use 4 character-space for each table cell with the number in the cell being right-justified.  Feel free to use the function ```left_pad``` provided below, but otherwise use only the ``while`` structure(s) (NOT ```for```).\n",
        "\n",
        "<img src=\"https://drive.google.com/uc?id=10WPsO9WN4beWfm5zEs5NDSzcY5B9QKKF&export=download\" width=\"200px\" />\n"
      ]
    },
    {
      "cell_type": "code",
      "metadata": {
        "id": "7ZSKuBoYg6TK",
        "colab": {
          "base_uri": "https://localhost:8080/"
        },
        "outputId": "54d33cdc-d2c3-495b-fa18-3b5ad7d2b632"
      },
      "source": [
        "def left_pad(n, k):\n",
        "    # convert n to a string of length k by adding space to the left\n",
        "    # left_pad(12, 4) ได้ \"  12\"\n",
        "    return (\" \"*k +str(n))[-k:]\n",
        "\n",
        "N = int(input())"
      ],
      "execution_count": null,
      "outputs": [
        {
          "name": "stdout",
          "output_type": "stream",
          "text": [
            "10\n"
          ]
        }
      ]
    },
    {
      "cell_type": "code",
      "source": [
        "for i in range(2,N+1):\n",
        "  s = ''\n",
        "  for j in range(1, 6):\n",
        "    s += left_pad(i*j, 4)\n",
        "  print(s)"
      ],
      "metadata": {
        "colab": {
          "base_uri": "https://localhost:8080/"
        },
        "id": "S43jLVqlg-94",
        "outputId": "b95072f4-c168-41c3-9ae3-4d15583260e3"
      },
      "execution_count": null,
      "outputs": [
        {
          "output_type": "stream",
          "name": "stdout",
          "text": [
            "   2   4   6   8  10\n",
            "   3   6   9  12  15\n",
            "   4   8  12  16  20\n",
            "   5  10  15  20  25\n",
            "   6  12  18  24  30\n",
            "   7  14  21  28  35\n",
            "   8  16  24  32  40\n",
            "   9  18  27  36  45\n",
            "  10  20  30  40  50\n"
          ]
        }
      ]
    },
    {
      "cell_type": "code",
      "source": [
        "N = int(input())\n",
        "i = 2\n",
        "while i <= N:\n",
        "  s = ''\n",
        "  j = 1\n",
        "  while j <=5:\n",
        "    s += left_pad(i*j, 4)\n",
        "    j += 1\n",
        "  i+=1\n",
        "  print(s)"
      ],
      "metadata": {
        "colab": {
          "base_uri": "https://localhost:8080/"
        },
        "id": "dKI_RuQpreKn",
        "outputId": "1f6dc876-2ac0-4407-c8af-fea501e04507"
      },
      "execution_count": null,
      "outputs": [
        {
          "output_type": "stream",
          "name": "stdout",
          "text": [
            "   2   4   6   8  10\n",
            "   3   6   9  12  15\n",
            "   4   8  12  16  20\n",
            "   5  10  15  20  25\n",
            "   6  12  18  24  30\n",
            "   7  14  21  28  35\n",
            "   8  16  24  32  40\n",
            "   9  18  27  36  45\n",
            "  10  20  30  40  50\n"
          ]
        }
      ]
    },
    {
      "cell_type": "markdown",
      "metadata": {
        "id": "tz02ZkYx3Bs2"
      },
      "source": [
        "##Exercise 9-1.2: Write a program to implement the flowchart below using only the ``while`` structure(s) (NOT ```for```):\n",
        "<img src=\"https://drive.google.com/uc?id=1o6TlPIyuznMNZ4mCuTW1v6l5oVYFXAIn&export=download\" width=\"800px\" />\n"
      ]
    },
    {
      "cell_type": "code",
      "metadata": {
        "id": "tSF8yD6q3JAQ"
      },
      "source": [
        "N = int(input())\n",
        "\n",
        "\n",
        "print(prime)"
      ],
      "execution_count": null,
      "outputs": []
    },
    {
      "cell_type": "markdown",
      "metadata": {
        "id": "SkkkF0-T_Kq_"
      },
      "source": [
        "##Exercise 9-2.1: Write a program to read in school names to show all possible match-ups (one match per line) ordered alphabetically as shown in the following example.\n",
        "\n",
        "Input: ```BCC, AC, DS, SK``` \\\\\n",
        "Output:\n",
        "```AC vs BCC``` \\\\\n",
        "```AC vs DS``` \\\\\n",
        "```AC vs SK``` \\\\\n",
        "```BCC vs DS``` \\\\\n",
        "```BCC vs SK``` \\\\\n",
        "```DS vs SK```"
      ]
    },
    {
      "cell_type": "code",
      "source": [
        "s = input().split(', ')\n",
        "s.sort()\n",
        "print(s)"
      ],
      "metadata": {
        "colab": {
          "base_uri": "https://localhost:8080/"
        },
        "id": "CJpyDhXRsvoh",
        "outputId": "2023d7c1-7025-4422-9e33-439041435ee4"
      },
      "execution_count": null,
      "outputs": [
        {
          "output_type": "stream",
          "name": "stdout",
          "text": [
            "BCC, AC, DS, SK\n",
            "['AC', 'BCC', 'DS', 'SK']\n"
          ]
        }
      ]
    },
    {
      "cell_type": "code",
      "source": [
        "s = input().split(', ')\n",
        "s.sort()\n",
        "for i in range(len(s)):\n",
        "  for j in range(i+1, len(s)):\n",
        "    print(s[i] + ' vs ' + s[j])"
      ],
      "metadata": {
        "colab": {
          "base_uri": "https://localhost:8080/"
        },
        "id": "EjuXW91ds9KI",
        "outputId": "855ca316-debd-48c2-d6d9-662f3b02e490"
      },
      "execution_count": null,
      "outputs": [
        {
          "output_type": "stream",
          "name": "stdout",
          "text": [
            "BCC, AC, DS, SK\n",
            "AC vs BCC\n",
            "AC vs DS\n",
            "AC vs SK\n",
            "BCC vs DS\n",
            "BCC vs SK\n",
            "DS vs SK\n"
          ]
        }
      ]
    },
    {
      "cell_type": "code",
      "source": [
        "x=[0]*5"
      ],
      "metadata": {
        "id": "CEQD6OP6aoTe"
      },
      "execution_count": null,
      "outputs": []
    },
    {
      "cell_type": "code",
      "source": [
        "x"
      ],
      "metadata": {
        "colab": {
          "base_uri": "https://localhost:8080/"
        },
        "id": "Eaf2nwKoapcg",
        "outputId": "37fc78f1-69b4-4433-fb62-5fa1b0e14341"
      },
      "execution_count": null,
      "outputs": [
        {
          "output_type": "execute_result",
          "data": {
            "text/plain": [
              "[0, 0, 0, 0, 0]"
            ]
          },
          "metadata": {},
          "execution_count": 5
        }
      ]
    },
    {
      "cell_type": "code",
      "source": [
        "y = x"
      ],
      "metadata": {
        "id": "mMZplS8Yaq86"
      },
      "execution_count": null,
      "outputs": []
    },
    {
      "cell_type": "code",
      "source": [
        "y"
      ],
      "metadata": {
        "colab": {
          "base_uri": "https://localhost:8080/"
        },
        "id": "hE8Yu1JAasej",
        "outputId": "9ded4dab-4155-44f3-85c7-ec19d728bdc1"
      },
      "execution_count": null,
      "outputs": [
        {
          "output_type": "execute_result",
          "data": {
            "text/plain": [
              "[0, 0, 0, 0, 0]"
            ]
          },
          "metadata": {},
          "execution_count": 7
        }
      ]
    },
    {
      "cell_type": "code",
      "source": [
        "x[0] = 9"
      ],
      "metadata": {
        "id": "oIDIIEwCavU0"
      },
      "execution_count": null,
      "outputs": []
    },
    {
      "cell_type": "code",
      "source": [
        "y"
      ],
      "metadata": {
        "colab": {
          "base_uri": "https://localhost:8080/"
        },
        "id": "UlsZI5rOaxhl",
        "outputId": "aac9482a-788f-4398-e44d-23a40ff67292"
      },
      "execution_count": null,
      "outputs": [
        {
          "output_type": "execute_result",
          "data": {
            "text/plain": [
              "[9, 0, 0, 0, 0]"
            ]
          },
          "metadata": {},
          "execution_count": 9
        }
      ]
    },
    {
      "cell_type": "code",
      "source": [
        "x = [[0]]*5"
      ],
      "metadata": {
        "id": "tnktE95Xa3Zj"
      },
      "execution_count": null,
      "outputs": []
    },
    {
      "cell_type": "code",
      "source": [
        "x"
      ],
      "metadata": {
        "colab": {
          "base_uri": "https://localhost:8080/"
        },
        "id": "lA5EhDKFa4VI",
        "outputId": "a46f185f-080c-4c70-d396-1962e260dbb6"
      },
      "execution_count": null,
      "outputs": [
        {
          "output_type": "execute_result",
          "data": {
            "text/plain": [
              "[[0], [0], [0], [0], [0]]"
            ]
          },
          "metadata": {},
          "execution_count": 11
        }
      ]
    },
    {
      "cell_type": "code",
      "source": [
        "x[0][0] = 9"
      ],
      "metadata": {
        "id": "mZbIaXsna5fs"
      },
      "execution_count": null,
      "outputs": []
    },
    {
      "cell_type": "code",
      "source": [
        "x"
      ],
      "metadata": {
        "colab": {
          "base_uri": "https://localhost:8080/"
        },
        "id": "PyVoCVkra8OW",
        "outputId": "e7712ac6-442b-4f32-f20c-1651a613a8ab"
      },
      "execution_count": null,
      "outputs": [
        {
          "output_type": "execute_result",
          "data": {
            "text/plain": [
              "[[9], [9], [9], [9], [9]]"
            ]
          },
          "metadata": {},
          "execution_count": 13
        }
      ]
    },
    {
      "cell_type": "code",
      "source": [
        "x = [[0]] * 5\n",
        "x[0][0] = 10\n",
        "print(x)\n",
        "\n",
        "x = []\n",
        "for i in range(5):\n",
        "  x.append([0])\n",
        "x[0][0] = 10\n",
        "print(x)"
      ],
      "metadata": {
        "colab": {
          "base_uri": "https://localhost:8080/"
        },
        "id": "cAskGdodbWlZ",
        "outputId": "d0255dc8-c562-47f7-c1f1-24e1c1a306ca"
      },
      "execution_count": null,
      "outputs": [
        {
          "output_type": "stream",
          "name": "stdout",
          "text": [
            "[[10], [10], [10], [10], [10]]\n",
            "[[10], [0], [0], [0], [0]]\n"
          ]
        }
      ]
    },
    {
      "cell_type": "code",
      "metadata": {
        "id": "wCHvFF0D_cj_",
        "colab": {
          "base_uri": "https://localhost:8080/"
        },
        "outputId": "0c635090-908b-4dfc-e261-dc7fc2f75d49"
      },
      "source": [
        "schools = input().split(', ')\n",
        "\n",
        "schools.sort()\n",
        "print(schools)\n",
        "for i in range(len(schools)):\n",
        "  for j in range(i+1):\n",
        "    print(schools[i], schools[j])\n",
        "\n"
      ],
      "execution_count": null,
      "outputs": [
        {
          "output_type": "stream",
          "name": "stdout",
          "text": [
            "BCC, AC, DS, SK\n",
            "['AC', 'BCC', 'DS', 'SK']\n",
            "AC AC\n",
            "BCC AC\n",
            "BCC BCC\n",
            "DS AC\n",
            "DS BCC\n",
            "DS DS\n",
            "SK AC\n",
            "SK BCC\n",
            "SK DS\n",
            "SK SK\n"
          ]
        }
      ]
    },
    {
      "cell_type": "markdown",
      "metadata": {
        "id": "1-3SUFjyA9h5"
      },
      "source": [
        "##Exercise 9-2.2: Redo Exercise 9-2.1 for the multiplication table but now using only the ```for``` loop only (not ```while```)."
      ]
    },
    {
      "cell_type": "code",
      "metadata": {
        "id": "SfleVgujBSNS"
      },
      "source": [
        "def left_pad(n, k):\n",
        "    # Convert n to a string of size k by appending the spaces to the right\n",
        "    # left_pad(12, 4) = \"  12\"\n",
        "    return (\" \"*k +str(n))[-k:]\n",
        "\n",
        "N = int(input())"
      ],
      "execution_count": null,
      "outputs": []
    },
    {
      "cell_type": "markdown",
      "metadata": {
        "id": "ZGNEmHo9CiOR"
      },
      "source": [
        "##Exercise 9-2.3: Repeat Exercise 9-1.2  but now using only the ``for`` structure(s) (NOT ```while```)."
      ]
    },
    {
      "cell_type": "code",
      "metadata": {
        "id": "oLmuC-iTCo7_"
      },
      "source": [],
      "execution_count": null,
      "outputs": []
    },
    {
      "cell_type": "markdown",
      "metadata": {
        "id": "9dm7DaemHSQ7"
      },
      "source": [
        "##Exercise 9-2.4: Write the function ```print_month(m, y)``` with the inputs being the month number and year (AD) that displays the calendar of the month in year with the first/last days of week being Sunday and Saturday. Feel free to use the given functions ```days_in_month```, ```day_of_week```. Example below shows the expected output of ```print_month(8, 2019)```:\n",
        "\n",
        "<img src=\"https://drive.google.com/uc?id=1pqQkUqZ1SUIjc_XRz9rdYL3qm406on0P&export=download\" width=\"400px\" />\n"
      ]
    },
    {
      "cell_type": "code",
      "metadata": {
        "id": "0YcVIQJVJKZK"
      },
      "source": [
        "def days_in_month(m, y):\n",
        "    if m == 2:\n",
        "        if y%400 or y%4==0 and y%100 != 0:\n",
        "            return 29\n",
        "        else:\n",
        "            return 28\n",
        "    elif m in [4,6,9,11]:\n",
        "        return 30\n",
        "    else:\n",
        "        return 31\n",
        "#-----------------------------------------\n",
        "def day_of_week(d, m, y):\n",
        "    # 0 -> Sunday, 1 -> Monday, ...\n",
        "    if m < 3 :\n",
        "        m += 12\n",
        "        y -= 1\n",
        "    c = y // 100\n",
        "    k = y % 100\n",
        "    w = (d+26*(m+1)//10+k+k//4+c//4+5*c)%7\n",
        "    return (w-1) % 7\n",
        "#-----------------------------------------\n",
        "def print_month(m, y):\n",
        "    print(\" SU MO TU WE TH FR SA\")"
      ],
      "execution_count": null,
      "outputs": []
    },
    {
      "cell_type": "markdown",
      "metadata": {
        "id": "Mj7fne0XKE9W"
      },
      "source": [
        "##Exercise 9-3.1: The given function ```count_digit(x, d)``` accepts ```x``` to be a list of integers and ```d``` to be a integer digit between 0-9.  The function will return all appearance of digit ```d``` in the list, e.g. ```count_digit([333, 23, 4], 3) = 3```, because there are 3 appearance of 4 in ```[333, 23, 4]```.  Please separate the ```while``` loop out as a function and implement it, so that ```count_digit``` still works the same."
      ]
    },
    {
      "cell_type": "code",
      "metadata": {
        "id": "jiyJXVmOKJqI"
      },
      "source": [
        "def count_digit(x, d):\n",
        "    c = 0\n",
        "    for n in x:\n",
        "        while n > 0:\n",
        "            if n%10 == d:\n",
        "                c += 1\n",
        "            n //= 10\n",
        "    return c"
      ],
      "execution_count": null,
      "outputs": []
    },
    {
      "cell_type": "markdown",
      "metadata": {
        "id": "fiHBXf8ONg2G"
      },
      "source": [
        "##Exercise 9-3.2: Write the function ```longest_suffix(words)``` accepting ```words``` as a list of strings that returns the longest common suffix in all strings in the list, e.g., ```longest_suffix([\"programming\", \"scramming\", \"Diagramming\"])``` will return ```\"ramming\"```."
      ]
    },
    {
      "cell_type": "code",
      "metadata": {
        "id": "09UK34_vOBxj"
      },
      "source": [
        "def longest_suffix(words):\n",
        "\n",
        "\n"
      ],
      "execution_count": null,
      "outputs": []
    },
    {
      "cell_type": "markdown",
      "metadata": {
        "id": "phMDw58RSTAP"
      },
      "source": [
        "##Exercise 9-4.1: Write the function ```to_buckets(d)``` accepting ```d``` as a list of integers that returns a list of size 10, where the k-th item will be the list of all integers in ```d``` whose the least significant digit is ```k```, e.g.,\n",
        "\n",
        "```to_buckets([33,21,143,33,11]) = [[], [21, 11], [], [33, 143, 33], [], [], [], [], [], []]```."
      ]
    },
    {
      "cell_type": "code",
      "metadata": {
        "id": "Vah4AYHaSVVQ"
      },
      "source": [
        "def to_buckets(d):"
      ],
      "execution_count": null,
      "outputs": []
    },
    {
      "cell_type": "markdown",
      "metadata": {
        "id": "DkVFyc-uTlIl"
      },
      "source": [
        "##Exercise 9-4.2: Write the function ```read_points()``` that returns the list of all 2D floating coordinates in the form ```[[x0,y0], [x1,y1], ...]```,  from the inputs in the form ```x0:y0, x1:y1, ...```, e.g., ```1.0:2.4, 3:5, 6:9.0```."
      ]
    },
    {
      "cell_type": "code",
      "metadata": {
        "id": "pf8KweL2UDPc"
      },
      "source": [
        "# input: 2:3, 4:4\n",
        "# return: [[2.0, 3.0], [4.0, 4.0]]\n",
        "\n",
        "def read_points():"
      ],
      "execution_count": null,
      "outputs": []
    },
    {
      "cell_type": "markdown",
      "metadata": {
        "id": "1u7AEsdjUS_o"
      },
      "source": [
        "##Exercise 9-4.3: Write the function ```all_closest_pairs(points)``` accepting ```points``` to be a list of all 2D flating coordinates that returns the list of all point pairs with the minimum distances in term of the index pairs of points in the input list ```points```, e.g.,\n",
        "\n",
        "```all_closest_pairs([[30,30], [30,31], [31,30], [30,32]]) = [[0, 1], [0, 2], [1, 3]]```."
      ]
    },
    {
      "cell_type": "code",
      "metadata": {
        "id": "49dX7jjNU33e"
      },
      "source": [
        "def all_closest_pairs(points):"
      ],
      "execution_count": null,
      "outputs": []
    },
    {
      "cell_type": "markdown",
      "metadata": {
        "id": "xpd1auudVmKN"
      },
      "source": [
        "##Exercise 9-4.4:  Write a function ```to_dict(like_list)``` accepting the list of the form ```[[u1,u2], [u3,u4], ...]``` containing the list of who likes whom in a social media platform. The function has to create a dictionary in the form\n",
        "```{user:``` list of all users the key user likes ```}```, e.g.,\n",
        "\n",
        "```to_dict([['A', 'B'], ['A', 'C'], ['C', 'B']]) = {'A': ['B', 'C'], 'C': ['B']}```."
      ]
    },
    {
      "cell_type": "code",
      "metadata": {
        "id": "zHKMkROZWdDL"
      },
      "source": [
        "def to_dict(like_list):"
      ],
      "execution_count": null,
      "outputs": []
    },
    {
      "cell_type": "markdown",
      "metadata": {
        "id": "Csq_S2yvW69D"
      },
      "source": [
        "##Exercise 9-5.1: Write the function ```sum_all(M)``` accepting ```M``` as a nested list as a matrix, that returns the sum of all elements in the matrix."
      ]
    },
    {
      "cell_type": "code",
      "metadata": {
        "id": "ZiynCVN0XQOi"
      },
      "source": [
        "def sum_all(M):"
      ],
      "execution_count": null,
      "outputs": []
    },
    {
      "cell_type": "markdown",
      "metadata": {
        "id": "5pd_s3UpXTo6"
      },
      "source": [
        "##Exercise 9-5.2: Write the function ```sum_row(M)``` accepting ```M``` as a nested list as a matrix, that returns the list with the ```k```-th element being the sum of all matrix elements in the ```k```-th row."
      ]
    },
    {
      "cell_type": "code",
      "metadata": {
        "id": "-yskHlzEX0xo"
      },
      "source": [
        "def sum_row(M):"
      ],
      "execution_count": null,
      "outputs": []
    },
    {
      "cell_type": "markdown",
      "metadata": {
        "id": "mR0A76QRX3DY"
      },
      "source": [
        "##Exercise 9-5.3: Write the function ```sum_col(M)``` accepting ```M``` as a nested list as a matrix, that returns the list with the ```k```-th element being the sum of all matrix elements in the ```k```-th column."
      ]
    },
    {
      "cell_type": "code",
      "metadata": {
        "id": "UvJIeFamX7bS"
      },
      "source": [
        "def sum_col(M):"
      ],
      "execution_count": null,
      "outputs": []
    },
    {
      "cell_type": "markdown",
      "metadata": {
        "id": "deMwnjajYBp_"
      },
      "source": []
    },
    {
      "cell_type": "markdown",
      "metadata": {
        "id": "L_0B1DMCYLj0"
      },
      "source": [
        "##Exercise 9-5.4: Write the function ```identity(n)``` accepting an integer```n```, that returns a nested list representing the ```n``` by ```n``` identity matrix with 1 in all diagonal elements and zero otherwise."
      ]
    },
    {
      "cell_type": "code",
      "metadata": {
        "id": "aa3nMhZwYwEE"
      },
      "source": [
        "def identity(n):"
      ],
      "execution_count": null,
      "outputs": []
    },
    {
      "cell_type": "markdown",
      "metadata": {
        "id": "rAAy-zRvYyBy"
      },
      "source": [
        "##Exercise 9-5.5: Write the function ```transpose(M)``` accepting ```M``` as a nested list as a matrix, that returns the nested list representing the transpose (matrix) of ```M```."
      ]
    },
    {
      "cell_type": "code",
      "metadata": {
        "id": "3LoSpYw8ZENI"
      },
      "source": [
        "def transpose(M):"
      ],
      "execution_count": null,
      "outputs": []
    },
    {
      "cell_type": "markdown",
      "metadata": {
        "id": "1dobEMy_ZPtF"
      },
      "source": [
        "##Exercise 9-6.1: Write the following functions all accepting two lists of real numbers of the same size.  You must use list comprehension to implement all functions.\n",
        "\n",
        "* ```add``: returns the addition of the two input lists as vectors.\n",
        "\n",
        "* ```dot```: returns the dot product of the two input lists as vectors.\n"
      ]
    },
    {
      "cell_type": "code",
      "metadata": {
        "id": "3AvunXx7eEXs"
      },
      "source": [
        "def add(u,v):\n",
        "\n",
        "def dot(u,v):"
      ],
      "execution_count": null,
      "outputs": []
    },
    {
      "cell_type": "markdown",
      "metadata": {
        "id": "jXaWT7lNe_uj"
      },
      "source": [
        "##Exercise 9-6.2: Write the following functions all accepting one list of integers. You must use list comprehension to implement all functions.\n",
        "\n",
        "* ```to_list_of_strings(x)``: returns the list with all elements of the input list converted to strings, e.g., returning ```['1', '2', '3']``` for the input ```[1,2,3]```.\n",
        "\n",
        "* ```get_positive(x)```: returns the list consisting only of positive elements in the input list (retaining their order), e.g., returning ```[1,9,3]``` for the input ```[0,1,0,-2,9,3,-4] ```.\n",
        "\n",
        "* ```get_peak_indexes(x)```: returns the indinces of the input list with all elements in the input list, each of which is larger than the prior and subsequent elements in the input list, e.g., returning ```[2,5,8]``` for the input ```[0,1,9,3,4,99,3,4,6,0,9]```."
      ]
    },
    {
      "cell_type": "code",
      "metadata": {
        "id": "0mJ7RZ8dgXds"
      },
      "source": [
        "def to_list_of_strings(x):\n",
        "\n",
        "def get_positive(x):\n",
        "\n",
        "def get_peak_indexes(x):"
      ],
      "execution_count": null,
      "outputs": []
    },
    {
      "cell_type": "markdown",
      "metadata": {
        "id": "I71xKDm4her1"
      },
      "source": [
        "##Exercise 9-6.3: Redo Exercise 9-5.1 to 9-5.4 again but now using list comprehension."
      ]
    },
    {
      "cell_type": "code",
      "metadata": {
        "id": "2g1n1Zv9htWH"
      },
      "source": [
        "def sum_all(M):\n",
        "\n",
        "def sum_row(M):\n",
        "\n",
        "def sum_col(M):\n",
        "\n",
        "def identity(n):"
      ],
      "execution_count": null,
      "outputs": []
    },
    {
      "cell_type": "markdown",
      "metadata": {
        "id": "-kFtgIWTiD0H"
      },
      "source": [
        "##Exercise 9-6.4: Use list comprehension to write a function accepting an input in the form ```Bank=Stock value, ...```, e.g., ```SCB=132.0, BBL=176.5, KBANK=172.0```, that returns individual lines each containing the bank code and its stock value, sorted alphabetically based on the bank codes."
      ]
    },
    {
      "cell_type": "code",
      "metadata": {
        "id": "E6HabSFCjFGm"
      },
      "source": [],
      "execution_count": null,
      "outputs": []
    },
    {
      "cell_type": "markdown",
      "metadata": {
        "id": "Wme2QX03jHw8"
      },
      "source": [
        "##Exercise 9-6.5: Use list comprehension to write a function accepting an input in the form ```Bank=Stock value, ...```, e.g., ```SCB=132.0, BBL=176.5, KBANK=172.0```, that returns individual lines each containing the bank code and its stock value, sorted from the most to least valuable stocks. (Feel free to assume every input is such that none of its stock values are equal."
      ]
    },
    {
      "cell_type": "code",
      "metadata": {
        "id": "_ELb7IfVjJ0o"
      },
      "source": [],
      "execution_count": null,
      "outputs": []
    },
    {
      "cell_type": "code",
      "source": [
        "\n",
        "\n"
      ],
      "metadata": {
        "colab": {
          "base_uri": "https://localhost:8080/",
          "height": 421
        },
        "id": "GhScr1nQenZO",
        "outputId": "d398368e-71a4-4bed-82c1-fc822148e15b"
      },
      "execution_count": null,
      "outputs": [
        {
          "output_type": "error",
          "ename": "SyntaxError",
          "evalue": "unmatched ')' (<timeit-src>, line 2)",
          "traceback": [
            "Traceback \u001b[0;36m(most recent call last)\u001b[0m:\n",
            "  File \u001b[1;32m\"/usr/local/lib/python3.10/dist-packages/IPython/core/interactiveshell.py\"\u001b[0m, line \u001b[1;32m3553\u001b[0m, in \u001b[1;35mrun_code\u001b[0m\n    exec(code_obj, self.user_global_ns, self.user_ns)\n",
            "  File \u001b[1;32m\"<ipython-input-19-545e6a063f1b>\"\u001b[0m, line \u001b[1;32m15\u001b[0m, in \u001b[1;35m<cell line: 15>\u001b[0m\n    time(\"for_loop\")\n",
            "  File \u001b[1;32m\"<ipython-input-19-545e6a063f1b>\"\u001b[0m, line \u001b[1;32m13\u001b[0m, in \u001b[1;35mtime\u001b[0m\n    print(timeit.timeit(func+\"(1000000))\", globals = globals(),  number =100))\n",
            "  File \u001b[1;32m\"/usr/lib/python3.10/timeit.py\"\u001b[0m, line \u001b[1;32m234\u001b[0m, in \u001b[1;35mtimeit\u001b[0m\n    return Timer(stmt, setup, timer, globals).timeit(number)\n",
            "\u001b[0;36m  File \u001b[0;32m\"/usr/lib/python3.10/timeit.py\"\u001b[0;36m, line \u001b[0;32m123\u001b[0;36m, in \u001b[0;35m__init__\u001b[0;36m\u001b[0m\n\u001b[0;31m    compile(stmtprefix + stmt, dummy_src_name, \"exec\")\u001b[0m\n",
            "\u001b[0;36m  File \u001b[0;32m\"<timeit-src>\"\u001b[0;36m, line \u001b[0;32m2\u001b[0m\n\u001b[0;31m    for_loop(1000000))\u001b[0m\n\u001b[0m                     ^\u001b[0m\n\u001b[0;31mSyntaxError\u001b[0m\u001b[0;31m:\u001b[0m unmatched ')'\n"
          ]
        }
      ]
    },
    {
      "cell_type": "code",
      "source": [],
      "metadata": {
        "id": "XR7TemY_fP2N"
      },
      "execution_count": null,
      "outputs": []
    },
    {
      "cell_type": "code",
      "source": [
        "def has_duplicate(x):\n",
        "  for i in range(0, len(x)-1):\n",
        "    for j in range(i+1, len(x)):\n",
        "      print(i, j)\n",
        "      if x[i] == x[j]:\n",
        "        return True\n",
        "  return False"
      ],
      "metadata": {
        "id": "-RWQAInc76WQ"
      },
      "execution_count": null,
      "outputs": []
    },
    {
      "cell_type": "code",
      "source": [
        "print(has_duplicate([11, 34, 22, 34]))"
      ],
      "metadata": {
        "colab": {
          "base_uri": "https://localhost:8080/"
        },
        "id": "hd-EKDCZ8BZr",
        "outputId": "5bece369-c697-4edc-8b99-10aa7c660450"
      },
      "execution_count": null,
      "outputs": [
        {
          "output_type": "stream",
          "name": "stdout",
          "text": [
            "0 1\n",
            "0 2\n",
            "0 3\n",
            "1 2\n",
            "1 3\n",
            "True\n"
          ]
        }
      ]
    }
  ]
}
