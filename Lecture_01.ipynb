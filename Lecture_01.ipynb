{
  "nbformat": 4,
  "nbformat_minor": 0,
  "metadata": {
    "colab": {
      "provenance": [],
      "collapsed_sections": [
        "nZadjqT3-vL8",
        "HE32tj_jM81P",
        "77RbwGyT-1VM",
        "-LqFbVw1-69b",
        "06SzvpzZ9OCx",
        "mrHAIyx3OvAJ",
        "IL3Yce8qCGAV",
        "o3UQg8B3Dzwe",
        "R6IDtnx7PLNI",
        "F3POsrr9IfhU",
        "948y34kSBIXB",
        "3iU6DOUsPyWa",
        "QOuiKoLb5pDt"
      ],
      "authorship_tag": "ABX9TyP3kQgi2+5t03cAx1LvCMwJ",
      "include_colab_link": true
    },
    "kernelspec": {
      "name": "python3",
      "display_name": "Python 3"
    },
    "language_info": {
      "name": "python"
    }
  },
  "cells": [
    {
      "cell_type": "markdown",
      "metadata": {
        "id": "view-in-github",
        "colab_type": "text"
      },
      "source": [
        "<a href=\"https://colab.research.google.com/github/punyathorn/2190101-ISE-Comp-Prog-Summary/blob/main/Lecture_01.ipynb\" target=\"_parent\"><img src=\"https://colab.research.google.com/assets/colab-badge.svg\" alt=\"Open In Colab\"/></a>"
      ]
    },
    {
      "cell_type": "markdown",
      "source": [
        "#**Chapter 1**"
      ],
      "metadata": {
        "id": "QnLttAA7HuYJ"
      }
    },
    {
      "cell_type": "markdown",
      "source": [
        "#**1.2 String Number Print**"
      ],
      "metadata": {
        "id": "qhNz5__4896V"
      }
    },
    {
      "cell_type": "markdown",
      "source": [
        "##**String**"
      ],
      "metadata": {
        "id": "nZadjqT3-vL8"
      }
    },
    {
      "cell_type": "markdown",
      "source": [
        "* ### Use **either** double quotes \" \" or single quotes ' ' in pairs to indicate a string\n",
        "* ### **Bad Example \" ' or ' \" leads to Syntax Error: See example line 3**\n",
        "\n"
      ],
      "metadata": {
        "id": "TR9kqiFj63c9"
      }
    },
    {
      "cell_type": "markdown",
      "source": [
        "> ### Code"
      ],
      "metadata": {
        "id": "HE32tj_jM81P"
      }
    },
    {
      "cell_type": "code",
      "source": [
        "\"Python\"\n",
        "'Python'"
      ],
      "metadata": {
        "id": "q5t23ABh8uRX"
      },
      "execution_count": null,
      "outputs": []
    },
    {
      "cell_type": "code",
      "source": [
        "\"Python' #Bad Example Syntax Error"
      ],
      "metadata": {
        "id": "rZfDXFFwBzel"
      },
      "execution_count": null,
      "outputs": []
    },
    {
      "cell_type": "markdown",
      "source": [
        "##**Number**"
      ],
      "metadata": {
        "id": "77RbwGyT-1VM"
      }
    },
    {
      "cell_type": "markdown",
      "source": [
        "* ### **Int (Integer)**\n",
        "   1,\n",
        "   123,\n",
        "   -456\n",
        "\n",
        "* ### **Float (With Decimal)**\n",
        "   1.0,\n",
        "   123.456,\n",
        "   7.89E-15 (7.89x10^-15)"
      ],
      "metadata": {
        "id": "eIAlN7Sv87B3"
      }
    },
    {
      "cell_type": "markdown",
      "source": [
        "##**Plus Operator**"
      ],
      "metadata": {
        "id": "-LqFbVw1-69b"
      }
    },
    {
      "cell_type": "markdown",
      "source": [
        "> ### String Concatenation"
      ],
      "metadata": {
        "id": "06SzvpzZ9OCx"
      }
    },
    {
      "cell_type": "markdown",
      "source": [
        "* #### Addition of strings\n",
        "* #### Examples\n",
        "```python\n",
        "\"Peter\" + \"Corp\"\n",
        "\"11\" + \"12\"\n",
        "```"
      ],
      "metadata": {
        "id": "QxXgPlLsCTtV"
      }
    },
    {
      "cell_type": "markdown",
      "source": [
        "> #### Code"
      ],
      "metadata": {
        "id": "mrHAIyx3OvAJ"
      }
    },
    {
      "cell_type": "code",
      "source": [
        "print(\"Peter\"+\"Corp\")\n",
        "print(\"11\"+\"12\")"
      ],
      "metadata": {
        "colab": {
          "base_uri": "https://localhost:8080/"
        },
        "id": "ZUnfvxZdCFCt",
        "outputId": "35ddecfc-14c6-4800-ea11-bda221916678"
      },
      "execution_count": null,
      "outputs": [
        {
          "output_type": "stream",
          "name": "stdout",
          "text": [
            "PeterCorp\n",
            "1112\n"
          ]
        }
      ]
    },
    {
      "cell_type": "markdown",
      "source": [
        "> ### Number Addition (Int, Float)"
      ],
      "metadata": {
        "id": "IL3Yce8qCGAV"
      }
    },
    {
      "cell_type": "markdown",
      "source": [
        "* #### Addition of integers and integers or floats and floats\n",
        "* #### Examples\n",
        "```python\n",
        "    1 + 1\n",
        "    12.0 + 3.4\n",
        "```"
      ],
      "metadata": {
        "id": "o3UQg8B3Dzwe"
      }
    },
    {
      "cell_type": "markdown",
      "source": [
        "> #### Code"
      ],
      "metadata": {
        "id": "R6IDtnx7PLNI"
      }
    },
    {
      "cell_type": "code",
      "source": [
        "print(1+1)\n",
        "print(12.0+3.4)"
      ],
      "metadata": {
        "colab": {
          "base_uri": "https://localhost:8080/"
        },
        "id": "V635smn3AfWA",
        "outputId": "41ce14b0-7834-444c-dcf2-13f3dc29029f"
      },
      "execution_count": null,
      "outputs": [
        {
          "output_type": "stream",
          "name": "stdout",
          "text": [
            "2\n",
            "15.4\n"
          ]
        }
      ]
    },
    {
      "cell_type": "markdown",
      "source": [
        "> ### Bad Example (Type Error)\n"
      ],
      "metadata": {
        "id": "F3POsrr9IfhU"
      }
    },
    {
      "cell_type": "markdown",
      "source": [
        "```python\n",
        "   1 + \"1\"\n",
        "```\n",
        "> See example code below"
      ],
      "metadata": {
        "id": "6E5Q9ZJLMlaL"
      }
    },
    {
      "cell_type": "code",
      "source": [
        "print(1+\"1\") #Bad Example Type Error"
      ],
      "metadata": {
        "id": "AkDi0QUbIov4"
      },
      "execution_count": null,
      "outputs": []
    },
    {
      "cell_type": "markdown",
      "source": [
        "##**Print**"
      ],
      "metadata": {
        "id": "948y34kSBIXB"
      }
    },
    {
      "cell_type": "markdown",
      "source": [
        "* ### `Code` | # *Output*\n",
        "``` python\n",
        "print(\"Hello\") # Hello\n",
        "print(\"Hello \"+\"World\") # Hello World\n",
        "print(\"Hello\" + \"World\") # HelloWorld\n",
        "print(\"Hello\" + \" \"+ \"World\") # Hello World\n",
        "print(\"Hello\" + \",\"+ \"World\") # Hello,World\n",
        "print(\"Hello\", \"World\") # Hello World\n",
        "print(\"a\",\"b\",\"c\",1,2,3) # a b c 1 2 3\n",
        "print(\"1+1=\", (1+1)) # 1+1= 2\n",
        "```"
      ],
      "metadata": {
        "id": "CT8McM6lCkXj"
      }
    },
    {
      "cell_type": "markdown",
      "source": [
        "> ### Code"
      ],
      "metadata": {
        "id": "3iU6DOUsPyWa"
      }
    },
    {
      "cell_type": "code",
      "source": [
        "print(\"Hello\")\n",
        "print(\"Hello \"+\"World\")\n",
        "print(\"Hello\" + \" \"+ \"World\")\n",
        "print(\"Hello\" + \",\"+ \"World\")\n",
        "print(\"Hello\", \"World\")\n",
        "print(\"a\",\"b\",\"c\",1,2,3)\n",
        "print(\"1+1=\", (1+1))"
      ],
      "metadata": {
        "colab": {
          "base_uri": "https://localhost:8080/"
        },
        "id": "f4BTMUQNBVtl",
        "outputId": "11fc632a-ddcc-4283-c605-d594263fc3b0"
      },
      "execution_count": null,
      "outputs": [
        {
          "output_type": "stream",
          "name": "stdout",
          "text": [
            "Hello\n",
            "Hello World\n",
            "Hello World\n",
            "Hello,World\n",
            "Hello World\n",
            "a b c 1 2 3\n",
            "1+1= 2\n"
          ]
        }
      ]
    },
    {
      "cell_type": "markdown",
      "source": [
        "\n",
        "##End of Lecture 1.1 Proceed to Lecture 1.2 down below\n",
        "---\n"
      ],
      "metadata": {
        "id": "kG9JRiDZJGEe"
      }
    },
    {
      "cell_type": "markdown",
      "source": [
        "#**1.3 Variables**"
      ],
      "metadata": {
        "id": "75ZF_sCPGt0f"
      }
    },
    {
      "cell_type": "markdown",
      "source": [
        "*   ### **Named**\n",
        "*   ### **Untyped (uncatagorized)**\n",
        "*   ### **Can change types during run time**\n",
        ">   ### `name = \"Python\"` assign the string value \"Python\" to the variable `name`\n",
        ">   ### `lang = name` assign the value of variable `name` to that of variable `lang`\n",
        "\n",
        "\n",
        "## `Code` | Explanation\n",
        "> ### `a = 1`     | a = 1\n",
        "> ### `b = 2`     | a = 1, b = 2\n",
        "> ### `c = a`     | a = 1, b = 2, c = 1\n",
        "> ### `d = c + b` | a = 1, b = 2, c = 1, d = 3\n",
        "> ### `d = d + 5` | a = 1, b = 2, c = 1, d = 8\n",
        "\n",
        "`Code`  | Explanation\n",
        "-------------------|------------------\n",
        "           `a = 1` | a = 1\n",
        "           `b = 2` | a = 1, b = 2\n",
        "           `c = a` | a = 1, b = 2, c = 1\n",
        "       `d = c + b` | a = 1, b = 2, c = 1, d = 3\n",
        "       `d = d + 5` | a = 1, b = 2, c = 1, d = 8"
      ],
      "metadata": {
        "id": "thw_uPb-G4DG"
      }
    },
    {
      "cell_type": "markdown",
      "source": [
        "##Variable Names"
      ],
      "metadata": {
        "id": "OIlfvQbkJqgE"
      }
    },
    {
      "cell_type": "markdown",
      "source": [
        "*   ### Consists of Characters, Numbers, or _\n",
        "*   ### Case-sensitive: Name ≠ name\n",
        "*   ### Cannot start with numbers\n",
        "*   ### Cannot be reserved words\n",
        "### **Reserved Words**\n",
        "\n",
        "```python\n",
        "  and as assert break class\n",
        "  continue def del elif else\n",
        "  except exec finally for from\n",
        "  global if import in is\n",
        "  lambda nonlocal not or pass\n",
        "  raise return try while with\n",
        "  yield True False None\n",
        "```"
      ],
      "metadata": {
        "id": "yai1wstIJtHZ"
      }
    },
    {
      "cell_type": "markdown",
      "source": [
        "#**1.4 Basic Data Types**"
      ],
      "metadata": {
        "id": "Sx1JVuu_hGjs"
      }
    },
    {
      "cell_type": "markdown",
      "source": [
        "* ## str texts\n",
        "* ## int integers\n",
        "* ## float floating-point numbers\n",
        "* ## bool boolean\n",
        "* ## list ordered-set (aka arrays)\n",
        ">>>> ## `[0,1,1,2,3,5,8,13,21,34,55]`\n",
        ">>>> ## `[\"MO\",\"TU\",\"WED\",\"TH\",\"FR\"]`\n",
        ">>>> ## `[6230012021, [1234,5678]]`\n",
        ">>>> ## `[]`\n",
        "##Example\n",
        "```python\n",
        "name = \"Ryu\" #str\n",
        "aka = \"Was Here\" #str\n",
        "hobbies = \"Basketball\" #str\n",
        "shots = 99999999999999 #int\n",
        "grade = 9.99 #float\n",
        "is_friend = True #bool\n",
        "favorite_num = [1,2,3,4,5,6,7,8,9] #list\n",
        "subj = [\"Phy\",\"Cal\",\"Phy Lab\",\"Comm Eng\"] #list\n",
        "print(\"Name: \", name, aka)\n",
        "print(\"Shots\",shots)\n",
        "print(\"Hobbies: \",hobbies, \"or\", hobbies[0:3:1])\n",
        "print(\"First Subject\",subj[0])\n",
        "print(\"Second Subject\",subj[1])\n",
        "print(\"Third Subject\",subj[2])\n",
        "print(\"Fourth Subject\",subj[3])\n",
        "```"
      ],
      "metadata": {
        "id": "oQZbf9x2hWon"
      }
    },
    {
      "cell_type": "markdown",
      "source": [
        "> ## Code"
      ],
      "metadata": {
        "id": "tVVthk0rmlMl"
      }
    },
    {
      "cell_type": "code",
      "source": [
        "name = \"Ryu\" #str\n",
        "aka = \"Was Here\" #str\n",
        "hobbies = \"Basketball\" #str\n",
        "shots = 99999999999999 #int\n",
        "grade = 9.99 #float\n",
        "is_friend = True #bool\n",
        "favorite_num = [1,2,3,4,5,6,7,8,9] #list\n",
        "subj = [\"Phy\",\"Cal\",\"Phy Lab\",\"Comm Eng\"] #list\n",
        "print(\"Name: \", name, aka)\n",
        "print(\"Shots\",shots)\n",
        "print(\"Hobbies: \",hobbies, \"or\", hobbies[0:3:1])\n",
        "print(\"First Subject:\",subj[0])\n",
        "print(\"Second Subject:\",subj[1])\n",
        "print(\"Third Subject:\",subj[2])\n",
        "print(\"Fourth Subject:\",subj[3])"
      ],
      "metadata": {
        "colab": {
          "base_uri": "https://localhost:8080/"
        },
        "id": "gzuxw3Rvmk38",
        "outputId": "33b3bad7-f65d-40cc-c5d2-617c4308e388"
      },
      "execution_count": null,
      "outputs": [
        {
          "output_type": "stream",
          "name": "stdout",
          "text": [
            "Name:  Ryu Was Here\n",
            "Shots 99999999999999\n",
            "Hobbies:  Basketball or Bas\n",
            "First Subject: Phy\n",
            "Second Subject: Cal\n",
            "Third Subject: Phy Lab\n",
            "Fourth Subject: Comm Eng\n"
          ]
        }
      ]
    },
    {
      "cell_type": "markdown",
      "source": [
        "#**1.5 Type Conversion**"
      ],
      "metadata": {
        "id": "5NLeKrKtyEyJ"
      }
    },
    {
      "cell_type": "markdown",
      "source": [
        "* ## Most values can be typed or converted to string by using str\n",
        "* ## Some values can be typed or converted to float or int\n",
        "```python\n",
        "s1 = \"123\"\n",
        "s2 = \"456\"\n",
        "n = int(s1) + int(s2) #579\n",
        "f = float(s1) + float(s2) #579.0\n",
        "print(s1+s2,n,f)\n",
        "print(s1+s2+\", \"+str(n)+\", \"+str(f))\n",
        "```\n",
        "```python\n",
        "a = int(1)\n",
        "b = int(1.5)\n",
        "c = int(1.9+0.5)\n",
        "d = float(1)\n",
        "e = float(1.1)\n",
        "f = float(1.9)\n",
        "g = float(1.9+0.5)\n",
        "h = str(\"string\")\n",
        "print(a)\n",
        "print(b)\n",
        "print(c)\n",
        "print(d)\n",
        "print(e)\n",
        "print(f)\n",
        "print(g)\n",
        "print(h)\n",
        "```"
      ],
      "metadata": {
        "id": "ipQHkre-yS3A"
      }
    },
    {
      "cell_type": "markdown",
      "source": [
        "> ## Code"
      ],
      "metadata": {
        "id": "wGeXEDd0zYu5"
      }
    },
    {
      "cell_type": "code",
      "source": [
        "s1 = \"123\"\n",
        "s2 = \"456\"\n",
        "n = int(s1) + int(s2)\n",
        "f = float(s1) + float(s2)\n",
        "print(s1+s2,n,f)\n",
        "print(s1+s2+\", \"+str(n)+\", \"+str(f))"
      ],
      "metadata": {
        "colab": {
          "base_uri": "https://localhost:8080/"
        },
        "id": "4Qhdts3Szdmg",
        "outputId": "4e47e5ed-d99d-49a6-b6d2-3eacbfe593a1"
      },
      "execution_count": null,
      "outputs": [
        {
          "output_type": "stream",
          "name": "stdout",
          "text": [
            "123456 579 579.0\n",
            "123456, 579, 579.0\n"
          ]
        }
      ]
    },
    {
      "cell_type": "code",
      "source": [
        "a = int(1)\n",
        "b = int(1.5)\n",
        "c = int(1.9+0.5)\n",
        "d = float(1)\n",
        "e = float(1.1)\n",
        "f = float(1.9)\n",
        "g = float(1.9+0.5)\n",
        "h = str(\"string\")\n",
        "print(a)\n",
        "print(b)\n",
        "print(c)\n",
        "print(d)\n",
        "print(e)\n",
        "print(f)\n",
        "print(g)\n",
        "print(h)"
      ],
      "metadata": {
        "colab": {
          "base_uri": "https://localhost:8080/"
        },
        "id": "do5nlbHS0SB5",
        "outputId": "389c84f7-04c8-43d0-b998-2fbe1b388203"
      },
      "execution_count": null,
      "outputs": [
        {
          "output_type": "stream",
          "name": "stdout",
          "text": [
            "1\n",
            "1\n",
            "2\n",
            "1.0\n",
            "1.1\n",
            "1.9\n",
            "2.4\n",
            "string\n"
          ]
        }
      ]
    },
    {
      "cell_type": "markdown",
      "source": [
        "# **1.6 Python Input and Operators**"
      ],
      "metadata": {
        "id": "QOuiKoLb5pDt"
      }
    },
    {
      "cell_type": "markdown",
      "source": [
        "## Input"
      ],
      "metadata": {
        "id": "KSckBPSl00oR"
      }
    },
    {
      "cell_type": "markdown",
      "source": [
        "###Input - accepts entered key values as strings\n",
        "###Usage - input()\n",
        "```python\n",
        "name = input()\n",
        "print(name + \" is very easy\")\n",
        "print(\"We use \" + name + \" in our class\")\n",
        "print(\"Hello \" + name +\".\")\n",
        "```\n",
        "###Example after entering the word Python\n",
        "```\n",
        "Python\n",
        "Python is very easy\n",
        "We use Python in our class\n",
        "Hello Python.\n",
        "```\n"
      ],
      "metadata": {
        "id": "jMLciGIk0tDh"
      }
    },
    {
      "cell_type": "code",
      "source": [
        "name = input()\n",
        "print(name + \" is very easy\")\n",
        "print(\"We use \" + name + \" in our class\")\n",
        "print(\"Hello \" + name +\".\")"
      ],
      "metadata": {
        "colab": {
          "base_uri": "https://localhost:8080/"
        },
        "id": "_tfiLthQ2NHh",
        "outputId": "2a83b4f2-6c49-4ab4-8939-7a2d61924875"
      },
      "execution_count": null,
      "outputs": [
        {
          "output_type": "stream",
          "name": "stdout",
          "text": [
            "Python\n",
            "Python is very easy\n",
            "We use Python in our class\n",
            "Hello Python.\n"
          ]
        }
      ]
    },
    {
      "cell_type": "markdown",
      "source": [
        "###Input as intergers or float\n"
      ],
      "metadata": {
        "id": "pMuVaj5T2fEB"
      }
    },
    {
      "cell_type": "markdown",
      "source": [
        "```python\n",
        "x = input(\"Input a number\")\n",
        "i = int(x) # convert string to an integer\n",
        "f = float(x) # convert string to float\n",
        "```"
      ],
      "metadata": {
        "id": "krICq6Hi3JDC"
      }
    },
    {
      "cell_type": "code",
      "source": [
        "x = input(\"Input a number\")\n",
        "i = int(x) # convert string to an integer\n",
        "f = float(x) # convert string to float"
      ],
      "metadata": {
        "id": "5cZGjPYe3J4a"
      },
      "execution_count": null,
      "outputs": []
    },
    {
      "cell_type": "markdown",
      "source": [
        "##Operators\n"
      ],
      "metadata": {
        "id": "_ctfW_EY0y9h"
      }
    },
    {
      "cell_type": "markdown",
      "source": [
        "###+ Addition\n",
        "###- Subtraction\n",
        "###* Multiplication\n",
        "###/ Division\n",
        "###// Rounded Division (No Decimal Points)\n",
        "###** Exponent\n",
        "###% Modulo (Remainder Division)\n",
        "###= Assignment\n",
        "```python\n",
        "a = 5 + 2 # 7\n",
        "b = 5 - 2 # 3\n",
        "c = 5 * 2 # 10\n",
        "d = 5 ** 2 # 25\n",
        "e = 5 / 2 # 2.5\n",
        "f = 5 // 2 # 2\n",
        "g = 5 % 2 # 1\n",
        "a, b, c = c, a, b # a = 10 b = 7 c = 3\n",
        "a,b = b,a # exchange/switch the values of a and b\n",
        "```\n",
        "```python\n",
        "a = float(input())\n",
        "a = -a # change sign\n",
        "b = int(a) # round \"a\" down\n",
        "c = int(a+0.5) # round \"a\" up or down\n",
        "d = a - int(a) # extract decimal points of \"a\"\n",
        "d = a % 1 # same as the above\n",
        "e = b % 10 # extract least significant digit of \"b\"\n",
        "f = b // 10 % 10 # extract second to least sig. digit of \"b\"\n",
        "g = b // 10**4 % 10 # fifth digit of \"b\"\n",
        "\n",
        "h = input() # stores values as string\n",
        "h = int(h) # converts and stores values of h to integer\n",
        "```"
      ],
      "metadata": {
        "id": "VxGPNaE73R3h"
      }
    },
    {
      "cell_type": "markdown",
      "source": [
        "### Code"
      ],
      "metadata": {
        "id": "jPkKF5-k4kza"
      }
    },
    {
      "cell_type": "code",
      "source": [
        "a = 5 + 2 # 7\n",
        "b = 5 - 2 # 3\n",
        "c = 5 * 2 # 10\n",
        "d = 5 ** 2 # 25\n",
        "e = 5 / 2 # 2.5\n",
        "f = 5 // 2 # 2\n",
        "g = 5 % 2 # 1\n",
        "print(a, b, c, d, e, f, g)\n",
        "a, b, c = c, a, b # a = 10 b = 7 c = 3\n",
        "print(a, b, c, d, e, f, g)\n",
        "a,b = b,a # exchange/switch the values of a and b\n",
        "print(a, b, c, d, e, f, g)"
      ],
      "metadata": {
        "colab": {
          "base_uri": "https://localhost:8080/"
        },
        "id": "fztF9jIU4Oca",
        "outputId": "2727a28b-7404-4cb7-8f86-fdf7e3349a15"
      },
      "execution_count": null,
      "outputs": [
        {
          "output_type": "stream",
          "name": "stdout",
          "text": [
            "7 3 10 25 2.5 2 1\n",
            "10 7 3 25 2.5 2 1\n",
            "7 10 3 25 2.5 2 1\n"
          ]
        }
      ]
    },
    {
      "cell_type": "code",
      "source": [
        "a = float(input())\n",
        "a = -a # change sign\n",
        "b = int(a) # round \"a\" down\n",
        "c = int(a+0.5) # round \"a\" up or down\n",
        "d = a - int(a) # extract decimal points of \"a\"\n",
        "d = a % 1 # same as the above\n",
        "e = b % 10 # extract least significant digit of \"b\"\n",
        "f = b // 10 % 10 # extract second to least sig. digit of \"b\"\n",
        "g = b // 10**4 % 10 # fifth digit of \"b\"\n",
        "\n",
        "h = input() # stores values as string\n",
        "h = int(h) # converts and stores values of h to integer."
      ],
      "metadata": {
        "colab": {
          "base_uri": "https://localhost:8080/"
        },
        "id": "tnIxnpJP6RnL",
        "outputId": "e1bc487e-84b8-46c9-bea8-d6e524675978"
      },
      "execution_count": null,
      "outputs": [
        {
          "name": "stdout",
          "output_type": "stream",
          "text": [
            "1\n",
            "1\n"
          ]
        }
      ]
    },
    {
      "cell_type": "markdown",
      "source": [
        "###Exercise Celsius to Farenheit\n",
        "### Input number as Celsius and output as Farenheit"
      ],
      "metadata": {
        "id": "ZOk7Dkjq6YlD"
      }
    },
    {
      "cell_type": "code",
      "source": [
        "C = float(input(\"Celsius: \"))\n",
        "F = (C * 9/5) + 32\n",
        "print(\"Farenheit: \", F)"
      ],
      "metadata": {
        "colab": {
          "base_uri": "https://localhost:8080/"
        },
        "id": "v0KRWj3E6qo7",
        "outputId": "c372ea9f-a85a-4ab1-f585-ea763fdafa56"
      },
      "execution_count": null,
      "outputs": [
        {
          "output_type": "stream",
          "name": "stdout",
          "text": [
            "Celsius: 100\n",
            "Farenheit:  212.0\n"
          ]
        }
      ]
    },
    {
      "cell_type": "markdown",
      "source": [
        "##Augmented Assignments"
      ],
      "metadata": {
        "id": "n8SonSEb7jL0"
      }
    },
    {
      "cell_type": "code",
      "source": [
        "a = 10\n",
        "a = a + 5 # 15\n",
        "a = a - 1 # 14\n",
        "a = a * 2 # 28\n",
        "a = a % 10 # 8\n",
        "a = a ** 2 # 64\n",
        "a = a // 10 # 6"
      ],
      "metadata": {
        "id": "Z4tpAtbS7t2T"
      },
      "execution_count": null,
      "outputs": []
    },
    {
      "cell_type": "code",
      "source": [
        "a = 10\n",
        "a += 5 # 15\n",
        "a -= 1 # 14\n",
        "a *= 2 # 28\n",
        "a %=10 # 8\n",
        "a **= 2 # 64\n",
        "a //= 10 # 6"
      ],
      "metadata": {
        "id": "Poyymnkj8LG0"
      },
      "execution_count": null,
      "outputs": []
    },
    {
      "cell_type": "markdown",
      "source": [
        "# **1.7 Math Module and Functions**"
      ],
      "metadata": {
        "id": "b0UZAfnU9ulc"
      }
    },
    {
      "cell_type": "code",
      "source": [
        "import math\n",
        "degree = float(input())\n",
        "radian = degree * 3.14159/ 180\n",
        "radian = degree * math.pi / 180\n",
        "radian = math.radians(degree)\n",
        "s = math.sin(radian)\n",
        "c = math.cos(radian)\n",
        "t = math.tan(radian)\n",
        "g = math.log( 1E100, 10)\n",
        "print(degree, radian, s, c, t, g)"
      ],
      "metadata": {
        "id": "jeAgc0cX-Lek"
      },
      "execution_count": null,
      "outputs": []
    },
    {
      "cell_type": "markdown",
      "source": [
        "## Built In Functions"
      ],
      "metadata": {
        "id": "MN0fNyzh-yC0"
      }
    },
    {
      "cell_type": "code",
      "source": [
        "a = abs(-2) # a = 2\n",
        "b = round(2/3, 2) # b = 0.67\n",
        "c = max([4,1,5,3]) # c = 5\n",
        "d = min([4,1,5,3]) # d = 1\n",
        "e = sum([4,1,5,3]) # e = 13\n",
        "f = len([4,1,5,3]) # f = 4 number of elements\n",
        "g = str(1234) # g = \"1234\"\n",
        "h = int(\"1234\") # h = 1234\n",
        "i = float(\"-12.32\") # i = -12.32\n",
        "j = input()\n",
        "print(a, b, c, d, e, f, g, h, i, j)"
      ],
      "metadata": {
        "id": "S8kJ5AE5-1kM"
      },
      "execution_count": null,
      "outputs": []
    },
    {
      "cell_type": "markdown",
      "source": [
        "## Nesting Functions"
      ],
      "metadata": {
        "id": "_8xU-7Cm_4Cd"
      }
    },
    {
      "cell_type": "code",
      "source": [
        "x1 = input()\n",
        "x2 = int(x1)\n",
        "x3 = abs(x2)\n",
        "x4 = 1 + x3\n",
        "x5 = str(x4)\n",
        "print(\"x5 = \"+ x5)\n",
        "# or\n",
        "print(\"x5 = \" + str(1+abs(int(input()))))"
      ],
      "metadata": {
        "colab": {
          "base_uri": "https://localhost:8080/"
        },
        "id": "7EZp20a-_8rN",
        "outputId": "eb392674-48eb-41b6-a8d5-a7124923837c"
      },
      "execution_count": null,
      "outputs": [
        {
          "output_type": "stream",
          "name": "stdout",
          "text": [
            "-5\n",
            "x5 = 6\n",
            "-5\n",
            "x5 = 6\n"
          ]
        }
      ]
    },
    {
      "cell_type": "markdown",
      "source": [
        "# **1.8 Order of Precedence**"
      ],
      "metadata": {
        "id": "kuUcdIhfCZEO"
      }
    },
    {
      "cell_type": "markdown",
      "source": [
        "##Order of operators calculations follow\n",
        "*   `( )`\n",
        "*   `**`\n",
        "*   `- (unary negate statement)`\n",
        "*   `* / // %`\n",
        "*   `+ -`\n",
        "*   `left to right precedence when operators have the same precedence`\n"
      ],
      "metadata": {
        "id": "fZ3oqviTtTIR"
      }
    },
    {
      "cell_type": "markdown",
      "source": [
        "#1.9 Example and Exercises\n"
      ],
      "metadata": {
        "id": "DqdmYINXwqmr"
      }
    },
    {
      "cell_type": "code",
      "source": [
        "import math\n",
        "radius = float(input())\n",
        "area = math.pi * radius**2\n",
        "circum = 2 * math.pi * radius\n",
        "print(\"Area: \", area)\n",
        "print(\"Circumference: \", circum)"
      ],
      "metadata": {
        "colab": {
          "base_uri": "https://localhost:8080/"
        },
        "id": "BD5twiONwuij",
        "outputId": "ac261a1c-cc2e-4a7b-d8a1-75119aa7c361"
      },
      "execution_count": null,
      "outputs": [
        {
          "output_type": "stream",
          "name": "stdout",
          "text": [
            "4.5\n",
            "Area:  63.61725123519331\n",
            "Circumference:  28.274333882308138\n"
          ]
        }
      ]
    },
    {
      "cell_type": "code",
      "source": [
        "stu_id = int(input())\n",
        "print(\"Student ID: \", stu_id)\n",
        "fac_code = stu_id % 100\n",
        "year_in = 2500 + stu_id // 10**8\n",
        "deg_code = stu_id//10**7 % 10\n",
        "print(\"Faculty Code: \", fac_code)\n",
        "print(\"Enrollment Year: \", year_in)\n",
        "print(\"Degree Code: \", deg_code)"
      ],
      "metadata": {
        "colab": {
          "base_uri": "https://localhost:8080/"
        },
        "id": "LsH_c-fuxMSE",
        "outputId": "b53bfb91-3726-4aa1-d4b2-12cdbaa79b18"
      },
      "execution_count": null,
      "outputs": [
        {
          "output_type": "stream",
          "name": "stdout",
          "text": [
            "6738158821\n",
            "Student ID:  6738158821\n",
            "Faculty Code:  21\n",
            "Enrollment Year:  2567\n",
            "Degree Code:  3\n"
          ]
        }
      ]
    },
    {
      "cell_type": "code",
      "source": [
        "sid = int(input())\n",
        "d = sid // 10; print(d); sid //= 10\n",
        "d = sid // 10; print(d); sid //= 10\n",
        "d = sid // 10; print(d); sid //= 10\n",
        "d = sid // 10; print(d); sid //= 10\n",
        "d = sid // 10; print(d); sid //= 10\n",
        "d = sid // 10; print(d); sid //= 10\n",
        "d = sid // 10; print(d); sid //= 10\n",
        "d = sid // 10; print(d); sid //= 10\n",
        "d = sid // 10; print(d); sid //= 10"
      ],
      "metadata": {
        "colab": {
          "base_uri": "https://localhost:8080/"
        },
        "id": "L34r7FWSxneT",
        "outputId": "e6c10f9d-c055-4c03-d3ca-7a72f346ae2e"
      },
      "execution_count": null,
      "outputs": [
        {
          "output_type": "stream",
          "name": "stdout",
          "text": [
            "6738158821\n",
            "673815882\n",
            "67381588\n",
            "6738158\n",
            "673815\n",
            "67381\n",
            "6738\n",
            "673\n",
            "67\n",
            "6\n"
          ]
        }
      ]
    }
  ]
}